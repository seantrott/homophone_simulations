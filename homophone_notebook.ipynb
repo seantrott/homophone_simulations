{
 "cells": [
  {
   "cell_type": "markdown",
   "metadata": {},
   "source": [
    "# Understanding ambiguity in the lexicon\n",
    "\n",
    "Here, we explore and attempt to understand the finding that short words tend to have more homophones, at least in English, German, and Dutch. This has been suggested (Piantadosi et al, 2012) as evidence that language evolution selects for **efficiency** by recycling short, presumably easier-to-produce homophones. The original result contains three findings:\n",
    "* Short words have more homophones\n",
    "* More frequent words have more homophones\n",
    "* More phonotactically-probable words have more homophones\n",
    "\n",
    "But one might ask: is this data best explained by a psychological pressure to **reuse** short words, or can it be equally-well explained by the observation that, independent of psychological pressures, short words should acquire more homophones because:\n",
    "1. There is simply a higher density of short words in the lexicon, e.g. the ratio of **actual** words to **potential** words is higher for short words than long words.\n",
    "2. Given the addition of a new word-form (e.g. by sound change, neologisms, etc.), *short* word-forms are more likely to create homophones than long word-forms because there is a greater chance of overlap. (Or conversely, a lower chance of *non-overlap*.)\n",
    "\n",
    "This makes two predictions:\n",
    "\n",
    "First, we should observe the same or greater relationship between **word length** and **number of homophones** in randomly-generated lexicons that *look like* English but haven't been subjected to the same psychological pressures. We should also observe the same or greater relationship between **phonotactic probability** and **number of homophones**. Given that we can't obtain frequency estimates for nonexistent words, we cannot test the relationship between **frequency** and **number of homophones**.\n",
    "\n",
    "Second, we should find that simulating mechanisms of language change, e.g. **sound change**, is more likely to produce homophones for short words than long words.\n",
    "\n",
    "Note that this explanation is not incompatible with the account offered by Piantadosi et al (2012). Rather, it attempts to clarify why ambiguity in the lexicon is distributed in such a way. There could still be a psychological pressure for short words––but not necessariliy a pressure to **reuse** short words."
   ]
  },
  {
   "cell_type": "markdown",
   "metadata": {},
   "source": [
    "# Part 1: Replicate the original finding\n",
    "\n",
    "First, we attempt to replicate the original finding, using both CELEX and iPHOD. We use the latter because this will be our point of comparison for pseudo-words."
   ]
  },
  {
   "cell_type": "markdown",
   "metadata": {},
   "source": [
    "## CELEX replication\n",
    "\n",
    "Using data from CELEX, we identify the number of homophones for each wordform, then regress **number of homophones** against **number of syllables**. \n"
   ]
  },
  {
   "cell_type": "code",
   "execution_count": 1,
   "metadata": {},
   "outputs": [],
   "source": [
    "import pandas as pd \n",
    "import scipy.stats as ss\n",
    "import matplotlib.pyplot as plt\n",
    "import statsmodels.formula.api as sm\n",
    "import src.utils as utils\n",
    "import math\n",
    "import numpy as np\n",
    "import seaborn as sns\n",
    "from tqdm import tqdm\n",
    "from os import listdir\n",
    "from collections import Counter"
   ]
  },
  {
   "cell_type": "code",
   "execution_count": 2,
   "metadata": {},
   "outputs": [
    {
     "data": {
      "text/plain": [
       "52447"
      ]
     },
     "execution_count": 2,
     "metadata": {},
     "output_type": "execute_result"
    }
   ],
   "source": [
    "# ~ 52k words, slightly different from Piantadosi\n",
    "df = pd.read_csv(\"data/raw/celex_all.csv\", sep=\"\\\\\")\n",
    "len(df)"
   ]
  },
  {
   "cell_type": "code",
   "execution_count": 3,
   "metadata": {},
   "outputs": [
    {
     "name": "stderr",
     "output_type": "stream",
     "text": [
      "/Users/seantrott/Dropbox/UCSD/Research/Ambiguity/Evolution/homophone_simulations/src/utils.py:30: SettingWithCopyWarning: \n",
      "A value is trying to be set on a copy of a slice from a DataFrame.\n",
      "Try using .loc[row_indexer,col_indexer] = value instead\n",
      "\n",
      "See the caveats in the documentation: http://pandas.pydata.org/pandas-docs/stable/indexing.html#indexing-view-versus-copy\n",
      "  df['remove'] = df[word_column].apply(remove_word)\n"
     ]
    },
    {
     "data": {
      "text/plain": [
       "35111"
      ]
     },
     "execution_count": 3,
     "metadata": {},
     "output_type": "execute_result"
    }
   ],
   "source": [
    "# Preprocess\n",
    "df_processed = utils.preprocess_for_analysis(df)\n",
    "len(df_processed)"
   ]
  },
  {
   "cell_type": "code",
   "execution_count": 4,
   "metadata": {},
   "outputs": [
    {
     "name": "stdout",
     "output_type": "stream",
     "text": [
      "Total number of homophonous wordforms: 5493\n",
      "Percentage of wordforms in lexicon mapping onto multiple lemmas: 15.64%\n"
     ]
    }
   ],
   "source": [
    "X = len(df_processed[df_processed['num_homophones']>=1])\n",
    "X_per = round((X / len(df_processed)) * 100, 2)\n",
    "print(\"Total number of homophonous wordforms: {x}\".format(x=X))\n",
    "print(\"Percentage of wordforms in lexicon mapping onto multiple lemmas: {x}%\".format(x=X_per))"
   ]
  },
  {
   "cell_type": "code",
   "execution_count": 5,
   "metadata": {},
   "outputs": [
    {
     "name": "stdout",
     "output_type": "stream",
     "text": [
      "Optimization terminated successfully.\n",
      "         Current function value: 0.469239\n",
      "         Iterations 6\n"
     ]
    },
    {
     "data": {
      "text/html": [
       "<table class=\"simpletable\">\n",
       "<caption>Poisson Regression Results</caption>\n",
       "<tr>\n",
       "  <th>Dep. Variable:</th>  <td>num_homophones</td>  <th>  No. Observations:  </th>  <td> 35111</td> \n",
       "</tr>\n",
       "<tr>\n",
       "  <th>Model:</th>              <td>Poisson</td>     <th>  Df Residuals:      </th>  <td> 35109</td> \n",
       "</tr>\n",
       "<tr>\n",
       "  <th>Method:</th>               <td>MLE</td>       <th>  Df Model:          </th>  <td>     1</td> \n",
       "</tr>\n",
       "<tr>\n",
       "  <th>Date:</th>          <td>Mon, 29 Apr 2019</td> <th>  Pseudo R-squ.:     </th>  <td>0.1345</td> \n",
       "</tr>\n",
       "<tr>\n",
       "  <th>Time:</th>              <td>15:26:22</td>     <th>  Log-Likelihood:    </th> <td> -16475.</td>\n",
       "</tr>\n",
       "<tr>\n",
       "  <th>converged:</th>           <td>True</td>       <th>  LL-Null:           </th> <td> -19035.</td>\n",
       "</tr>\n",
       "<tr>\n",
       "  <th> </th>                      <td> </td>        <th>  LLR p-value:       </th>  <td> 0.000</td> \n",
       "</tr>\n",
       "</table>\n",
       "<table class=\"simpletable\">\n",
       "<tr>\n",
       "      <td></td>         <th>coef</th>     <th>std err</th>      <th>z</th>      <th>P>|z|</th>  <th>[0.025</th>    <th>0.975]</th>  \n",
       "</tr>\n",
       "<tr>\n",
       "  <th>Intercept</th> <td>    0.5035</td> <td>    0.030</td> <td>   16.514</td> <td> 0.000</td> <td>    0.444</td> <td>    0.563</td>\n",
       "</tr>\n",
       "<tr>\n",
       "  <th>SylCnt</th>    <td>   -0.9464</td> <td>    0.015</td> <td>  -63.308</td> <td> 0.000</td> <td>   -0.976</td> <td>   -0.917</td>\n",
       "</tr>\n",
       "</table>"
      ],
      "text/plain": [
       "<class 'statsmodels.iolib.summary.Summary'>\n",
       "\"\"\"\n",
       "                          Poisson Regression Results                          \n",
       "==============================================================================\n",
       "Dep. Variable:         num_homophones   No. Observations:                35111\n",
       "Model:                        Poisson   Df Residuals:                    35109\n",
       "Method:                           MLE   Df Model:                            1\n",
       "Date:                Mon, 29 Apr 2019   Pseudo R-squ.:                  0.1345\n",
       "Time:                        15:26:22   Log-Likelihood:                -16475.\n",
       "converged:                       True   LL-Null:                       -19035.\n",
       "                                        LLR p-value:                     0.000\n",
       "==============================================================================\n",
       "                 coef    std err          z      P>|z|      [0.025      0.975]\n",
       "------------------------------------------------------------------------------\n",
       "Intercept      0.5035      0.030     16.514      0.000       0.444       0.563\n",
       "SylCnt        -0.9464      0.015    -63.308      0.000      -0.976      -0.917\n",
       "==============================================================================\n",
       "\"\"\""
      ]
     },
     "execution_count": 5,
     "metadata": {},
     "output_type": "execute_result"
    }
   ],
   "source": [
    "# Analysis\n",
    "result = sm.poisson(formula=\"num_homophones ~ SylCnt\", data=df_processed).fit()\n",
    "result.summary()"
   ]
  },
  {
   "cell_type": "markdown",
   "metadata": {},
   "source": [
    "Above, we successfully replicate the finding reported in Piantadosi et al (2012). For reference, they report that all coefficients on *SylCnt* < -.85. We find a similar value, though slightly larger magnitude (probably because we also omit frequency and phonotactic probability, which might explain overlapping variance)."
   ]
  },
  {
   "cell_type": "code",
   "execution_count": 6,
   "metadata": {},
   "outputs": [
    {
     "name": "stdout",
     "output_type": "stream",
     "text": [
      "Coef = -0.9463926929646285\n"
     ]
    }
   ],
   "source": [
    "print(\"Coef = {}\".format(result.params['SylCnt']))"
   ]
  },
  {
   "cell_type": "code",
   "execution_count": 7,
   "metadata": {},
   "outputs": [
    {
     "name": "stderr",
     "output_type": "stream",
     "text": [
      "/Users/seantrott/anaconda3/lib/python3.7/site-packages/numpy/core/_methods.py:140: RuntimeWarning: Degrees of freedom <= 0 for slice\n",
      "  keepdims=keepdims)\n",
      "/Users/seantrott/anaconda3/lib/python3.7/site-packages/numpy/core/_methods.py:132: RuntimeWarning: invalid value encountered in double_scalars\n",
      "  ret = ret.dtype.type(ret / rcount)\n"
     ]
    },
    {
     "data": {
      "text/html": [
       "<div>\n",
       "<style scoped>\n",
       "    .dataframe tbody tr th:only-of-type {\n",
       "        vertical-align: middle;\n",
       "    }\n",
       "\n",
       "    .dataframe tbody tr th {\n",
       "        vertical-align: top;\n",
       "    }\n",
       "\n",
       "    .dataframe thead th {\n",
       "        text-align: right;\n",
       "    }\n",
       "</style>\n",
       "<table border=\"1\" class=\"dataframe\">\n",
       "  <thead>\n",
       "    <tr style=\"text-align: right;\">\n",
       "      <th></th>\n",
       "      <th>num_sylls</th>\n",
       "      <th>mean_homophones</th>\n",
       "      <th>sem_homophones</th>\n",
       "    </tr>\n",
       "  </thead>\n",
       "  <tbody>\n",
       "    <tr>\n",
       "      <th>0</th>\n",
       "      <td>1</td>\n",
       "      <td>0.770093</td>\n",
       "      <td>0.015670</td>\n",
       "    </tr>\n",
       "    <tr>\n",
       "      <th>1</th>\n",
       "      <td>2</td>\n",
       "      <td>0.192855</td>\n",
       "      <td>0.004135</td>\n",
       "    </tr>\n",
       "    <tr>\n",
       "      <th>2</th>\n",
       "      <td>3</td>\n",
       "      <td>0.100785</td>\n",
       "      <td>0.003231</td>\n",
       "    </tr>\n",
       "    <tr>\n",
       "      <th>3</th>\n",
       "      <td>4</td>\n",
       "      <td>0.061627</td>\n",
       "      <td>0.003478</td>\n",
       "    </tr>\n",
       "    <tr>\n",
       "      <th>4</th>\n",
       "      <td>5</td>\n",
       "      <td>0.035471</td>\n",
       "      <td>0.004199</td>\n",
       "    </tr>\n",
       "    <tr>\n",
       "      <th>5</th>\n",
       "      <td>6</td>\n",
       "      <td>0.017452</td>\n",
       "      <td>0.005475</td>\n",
       "    </tr>\n",
       "    <tr>\n",
       "      <th>6</th>\n",
       "      <td>7</td>\n",
       "      <td>0.009091</td>\n",
       "      <td>0.009091</td>\n",
       "    </tr>\n",
       "    <tr>\n",
       "      <th>7</th>\n",
       "      <td>8</td>\n",
       "      <td>0.000000</td>\n",
       "      <td>0.000000</td>\n",
       "    </tr>\n",
       "    <tr>\n",
       "      <th>8</th>\n",
       "      <td>10</td>\n",
       "      <td>0.000000</td>\n",
       "      <td>0.000000</td>\n",
       "    </tr>\n",
       "  </tbody>\n",
       "</table>\n",
       "</div>"
      ],
      "text/plain": [
       "   num_sylls  mean_homophones  sem_homophones\n",
       "0          1         0.770093        0.015670\n",
       "1          2         0.192855        0.004135\n",
       "2          3         0.100785        0.003231\n",
       "3          4         0.061627        0.003478\n",
       "4          5         0.035471        0.004199\n",
       "5          6         0.017452        0.005475\n",
       "6          7         0.009091        0.009091\n",
       "7          8         0.000000        0.000000\n",
       "8         10         0.000000        0.000000"
      ]
     },
     "execution_count": 7,
     "metadata": {},
     "output_type": "execute_result"
    }
   ],
   "source": [
    "df_aggregated = utils.agg_homophones_by_syllable(dataframe=df_processed, syl_column=\"SylCnt\")\n",
    "df_aggregated"
   ]
  },
  {
   "cell_type": "code",
   "execution_count": 8,
   "metadata": {},
   "outputs": [
    {
     "data": {
      "text/plain": [
       "<ErrorbarContainer object of 3 artists>"
      ]
     },
     "execution_count": 8,
     "metadata": {},
     "output_type": "execute_result"
    },
    {
     "data": {
      "image/png": "[encoded data removed]",
      "text/plain": [
       "<Figure size 432x288 with 1 Axes>"
      ]
     },
     "metadata": {
      "needs_background": "light"
     },
     "output_type": "display_data"
    }
   ],
   "source": [
    "plt.figure()\n",
    "plt.xlabel(\"Number of syllables\")\n",
    "plt.ylabel(\"Mean number of homophones\")\n",
    "plt.title(\"English homophone distribution\")\n",
    "plt.errorbar(df_aggregated['num_sylls'], \n",
    "             df_aggregated['mean_homophones'],\n",
    "             yerr=df_aggregated['sem_homophones'], \n",
    "            color=\"blue\", ecolor=\"orange\")"
   ]
  },
  {
   "cell_type": "markdown",
   "metadata": {},
   "source": [
    "## IPHOD replication\n",
    "\n",
    "Using data from [IPHOD](http://iphod.com/), we identify the number of homophones for each wordform, then regress **number of homophones** against **number of syllables** and **surprisal**. \n",
    "\n",
    "The motivation for using IPHOD here is that IPHOD also has a list of phonotactically-possible English pseudo-words, which we will use to simulate our random lexicons. \n",
    "\n",
    "Below, we *save* the values for the coefficients for both both *surprisal* and *number of syllables*. We will then ask whether these coefficients are larger than what you'd expect in a random lexicon.\n",
    "\n",
    "Surprisingly, we find the reverse effect from the prediction with respect to surprisal: words calculated to have higher surprisal normalized to word length (`-math.log(word-average triphoneme probability)`) have *more* homophones. Piantadosi et al (2012) found a positive effect of surprisal in English, but not significant. "
   ]
  },
  {
   "cell_type": "code",
   "execution_count": 9,
   "metadata": {},
   "outputs": [
    {
     "name": "stdout",
     "output_type": "stream",
     "text": [
      "54030 words in original IPHOD dataset.\n",
      "51956 words in final analysis\n"
     ]
    }
   ],
   "source": [
    "# Parameters\n",
    "params = {'syllable_term': 'NSyll',\n",
    "\t\t  'phoneme_term': 'NPhon'}\n",
    "\n",
    "FORMULA = 'num_homophones ~ {syl} + {prob}'.format(syl=params['syllable_term'],\n",
    "\t\t\t\t\t\t\t\t\t\t\t\t   prob='surprisal_normalized')\n",
    "PHON_COLUMN = 'StTrn'\n",
    "\n",
    "# Read in data\n",
    "df = pd.read_csv(\"data/raw/IPhODv2.0_REALS/IPhOD2_Words.txt\", sep=\"\\t\")\n",
    "print(\"{Y} words in original IPHOD dataset.\".format(Y=len(df)))\n",
    "\n",
    "# Preprocess\n",
    "df_processed = utils.preprocess_for_analysis(df, phon_column=PHON_COLUMN)\n",
    "print(\"{X} words in final analysis\".format(X=len(df_processed)))"
   ]
  },
  {
   "cell_type": "code",
   "execution_count": 10,
   "metadata": {},
   "outputs": [
    {
     "name": "stdout",
     "output_type": "stream",
     "text": [
      "Total number of homophonous wordforms: 1703\n",
      "Percentage of wordforms in lexicon mapping onto multiple lemmas: 3.28%\n"
     ]
    }
   ],
   "source": [
    "X = len(df_processed[df_processed['num_homophones']>=1])\n",
    "X_per = round((X / len(df_processed)) * 100, 2)\n",
    "print(\"Total number of homophonous wordforms: {x}\".format(x=X))\n",
    "print(\"Percentage of wordforms in lexicon mapping onto multiple lemmas: {x}%\".format(x=X_per))"
   ]
  },
  {
   "cell_type": "code",
   "execution_count": 11,
   "metadata": {},
   "outputs": [
    {
     "data": {
      "text/plain": [
       "array([[<matplotlib.axes._subplots.AxesSubplot object at 0x1a1d2e0470>]],\n",
       "      dtype=object)"
      ]
     },
     "execution_count": 11,
     "metadata": {},
     "output_type": "execute_result"
    },
    {
     "data": {
      "image/png": "[encoded data removed]",
      "text/plain": [
       "<Figure size 432x288 with 1 Axes>"
      ]
     },
     "metadata": {
      "needs_background": "light"
     },
     "output_type": "display_data"
    }
   ],
   "source": [
    "# This is to make sure we don't take log of a negative\n",
    "df_processed['strTPAV_scaled'] = df_processed['strTPAV'] + .00001\n",
    "df_processed['surprisal'] = df_processed['strTPAV_scaled'].apply(lambda x: -math.log(x))\n",
    "df_processed['surprisal_normalized'] = df_processed['surprisal'] / df_processed['NPhon']\n",
    "df_processed.hist(column='surprisal_normalized')"
   ]
  },
  {
   "cell_type": "code",
   "execution_count": 12,
   "metadata": {},
   "outputs": [],
   "source": [
    "# Save distribution of surprisal estimates\n",
    "REAL_SURPRISAL = list(df_processed['surprisal_normalized'])"
   ]
  },
  {
   "cell_type": "code",
   "execution_count": 29,
   "metadata": {},
   "outputs": [
    {
     "name": "stdout",
     "output_type": "stream",
     "text": [
      "Optimization terminated successfully.\n",
      "         Current function value: 0.145086\n",
      "         Iterations 7\n"
     ]
    },
    {
     "data": {
      "text/html": [
       "<table class=\"simpletable\">\n",
       "<caption>Poisson Regression Results</caption>\n",
       "<tr>\n",
       "  <th>Dep. Variable:</th>  <td>num_homophones</td>  <th>  No. Observations:  </th>  <td> 51956</td> \n",
       "</tr>\n",
       "<tr>\n",
       "  <th>Model:</th>              <td>Poisson</td>     <th>  Df Residuals:      </th>  <td> 51953</td> \n",
       "</tr>\n",
       "<tr>\n",
       "  <th>Method:</th>               <td>MLE</td>       <th>  Df Model:          </th>  <td>     2</td> \n",
       "</tr>\n",
       "<tr>\n",
       "  <th>Date:</th>          <td>Mon, 29 Apr 2019</td> <th>  Pseudo R-squ.:     </th>  <td>0.1676</td> \n",
       "</tr>\n",
       "<tr>\n",
       "  <th>Time:</th>              <td>15:27:18</td>     <th>  Log-Likelihood:    </th> <td> -7538.1</td>\n",
       "</tr>\n",
       "<tr>\n",
       "  <th>converged:</th>           <td>True</td>       <th>  LL-Null:           </th> <td> -9055.4</td>\n",
       "</tr>\n",
       "<tr>\n",
       "  <th> </th>                      <td> </td>        <th>  LLR p-value:       </th>  <td> 0.000</td> \n",
       "</tr>\n",
       "</table>\n",
       "<table class=\"simpletable\">\n",
       "<tr>\n",
       "      <td></td>         <th>coef</th>     <th>std err</th>      <th>z</th>      <th>P>|z|</th>  <th>[0.025</th>    <th>0.975]</th>  \n",
       "</tr>\n",
       "<tr>\n",
       "  <th>Intercept</th> <td>   -0.8339</td> <td>    0.241</td> <td>   -3.465</td> <td> 0.001</td> <td>   -1.306</td> <td>   -0.362</td>\n",
       "</tr>\n",
       "<tr>\n",
       "  <th>NSyll</th>     <td>   -1.5616</td> <td>    0.038</td> <td>  -40.975</td> <td> 0.000</td> <td>   -1.636</td> <td>   -1.487</td>\n",
       "</tr>\n",
       "<tr>\n",
       "  <th>surprisal</th> <td>    0.0655</td> <td>    0.022</td> <td>    2.924</td> <td> 0.003</td> <td>    0.022</td> <td>    0.109</td>\n",
       "</tr>\n",
       "</table>"
      ],
      "text/plain": [
       "<class 'statsmodels.iolib.summary.Summary'>\n",
       "\"\"\"\n",
       "                          Poisson Regression Results                          \n",
       "==============================================================================\n",
       "Dep. Variable:         num_homophones   No. Observations:                51956\n",
       "Model:                        Poisson   Df Residuals:                    51953\n",
       "Method:                           MLE   Df Model:                            2\n",
       "Date:                Mon, 29 Apr 2019   Pseudo R-squ.:                  0.1676\n",
       "Time:                        15:27:18   Log-Likelihood:                -7538.1\n",
       "converged:                       True   LL-Null:                       -9055.4\n",
       "                                        LLR p-value:                     0.000\n",
       "==============================================================================\n",
       "                 coef    std err          z      P>|z|      [0.025      0.975]\n",
       "------------------------------------------------------------------------------\n",
       "Intercept     -0.8339      0.241     -3.465      0.001      -1.306      -0.362\n",
       "NSyll         -1.5616      0.038    -40.975      0.000      -1.636      -1.487\n",
       "surprisal      0.0655      0.022      2.924      0.003       0.022       0.109\n",
       "==============================================================================\n",
       "\"\"\""
      ]
     },
     "execution_count": 29,
     "metadata": {},
     "output_type": "execute_result"
    }
   ],
   "source": [
    "result = sm.poisson(formula=\"num_homophones ~ NSyll + surprisal\", data=df_processed).fit()\n",
    "result.summary()"
   ]
  },
  {
   "cell_type": "code",
   "execution_count": 30,
   "metadata": {},
   "outputs": [],
   "source": [
    "REAL_LENGTH_COEF = result.params['NSyll']\n",
    "REAL_SURPRISAL_COEF = result.params['surprisal']\n",
    "REAL_INTERCEPT = result.params['Intercept']\n",
    "NUM_WORDS = len(df_processed)"
   ]
  },
  {
   "cell_type": "code",
   "execution_count": 31,
   "metadata": {},
   "outputs": [
    {
     "data": {
      "text/plain": [
       "array([[<matplotlib.axes._subplots.AxesSubplot object at 0x1a1da6e748>]],\n",
       "      dtype=object)"
      ]
     },
     "execution_count": 31,
     "metadata": {},
     "output_type": "execute_result"
    },
    {
     "data": {
      "image/png": "[encoded data removed]",
      "text/plain": [
       "<Figure size 432x288 with 1 Axes>"
      ]
     },
     "metadata": {
      "needs_background": "light"
     },
     "output_type": "display_data"
    }
   ],
   "source": [
    "df_processed.hist(column=\"NSyll\")"
   ]
  },
  {
   "cell_type": "markdown",
   "metadata": {},
   "source": [
    "## Post-hoc: Does phonotactic probability scale with length?\n",
    "\n",
    "(Answer: Words with more syllables have lower surprisal, even after normalizing for word length.)"
   ]
  },
  {
   "cell_type": "code",
   "execution_count": 16,
   "metadata": {
    "scrolled": true
   },
   "outputs": [
    {
     "data": {
      "text/html": [
       "<table class=\"simpletable\">\n",
       "<caption>OLS Regression Results</caption>\n",
       "<tr>\n",
       "  <th>Dep. Variable:</th>        <td>surprisal</td>    <th>  R-squared:         </th> <td>   0.185</td> \n",
       "</tr>\n",
       "<tr>\n",
       "  <th>Model:</th>                   <td>OLS</td>       <th>  Adj. R-squared:    </th> <td>   0.185</td> \n",
       "</tr>\n",
       "<tr>\n",
       "  <th>Method:</th>             <td>Least Squares</td>  <th>  F-statistic:       </th> <td>1.182e+04</td>\n",
       "</tr>\n",
       "<tr>\n",
       "  <th>Date:</th>             <td>Mon, 29 Apr 2019</td> <th>  Prob (F-statistic):</th>  <td>  0.00</td>  \n",
       "</tr>\n",
       "<tr>\n",
       "  <th>Time:</th>                 <td>15:26:26</td>     <th>  Log-Likelihood:    </th> <td> -71444.</td> \n",
       "</tr>\n",
       "<tr>\n",
       "  <th>No. Observations:</th>      <td> 51956</td>      <th>  AIC:               </th> <td>1.429e+05</td>\n",
       "</tr>\n",
       "<tr>\n",
       "  <th>Df Residuals:</th>          <td> 51954</td>      <th>  BIC:               </th> <td>1.429e+05</td>\n",
       "</tr>\n",
       "<tr>\n",
       "  <th>Df Model:</th>              <td>     1</td>      <th>                     </th>     <td> </td>    \n",
       "</tr>\n",
       "<tr>\n",
       "  <th>Covariance Type:</th>      <td>nonrobust</td>    <th>                     </th>     <td> </td>    \n",
       "</tr>\n",
       "</table>\n",
       "<table class=\"simpletable\">\n",
       "<tr>\n",
       "      <td></td>         <th>coef</th>     <th>std err</th>      <th>t</th>      <th>P>|t|</th>  <th>[0.025</th>    <th>0.975]</th>  \n",
       "</tr>\n",
       "<tr>\n",
       "  <th>Intercept</th> <td>    9.9826</td> <td>    0.011</td> <td>  927.417</td> <td> 0.000</td> <td>    9.961</td> <td>   10.004</td>\n",
       "</tr>\n",
       "<tr>\n",
       "  <th>NSyll</th>     <td>   -0.4174</td> <td>    0.004</td> <td> -108.734</td> <td> 0.000</td> <td>   -0.425</td> <td>   -0.410</td>\n",
       "</tr>\n",
       "</table>\n",
       "<table class=\"simpletable\">\n",
       "<tr>\n",
       "  <th>Omnibus:</th>       <td>1390.273</td> <th>  Durbin-Watson:     </th> <td>   1.066</td> \n",
       "</tr>\n",
       "<tr>\n",
       "  <th>Prob(Omnibus):</th>  <td> 0.000</td>  <th>  Jarque-Bera (JB):  </th> <td> 769.907</td> \n",
       "</tr>\n",
       "<tr>\n",
       "  <th>Skew:</th>           <td> 0.122</td>  <th>  Prob(JB):          </th> <td>6.56e-168</td>\n",
       "</tr>\n",
       "<tr>\n",
       "  <th>Kurtosis:</th>       <td> 2.456</td>  <th>  Cond. No.          </th> <td>    7.98</td> \n",
       "</tr>\n",
       "</table><br/><br/>Warnings:<br/>[1] Standard Errors assume that the covariance matrix of the errors is correctly specified."
      ],
      "text/plain": [
       "<class 'statsmodels.iolib.summary.Summary'>\n",
       "\"\"\"\n",
       "                            OLS Regression Results                            \n",
       "==============================================================================\n",
       "Dep. Variable:              surprisal   R-squared:                       0.185\n",
       "Model:                            OLS   Adj. R-squared:                  0.185\n",
       "Method:                 Least Squares   F-statistic:                 1.182e+04\n",
       "Date:                Mon, 29 Apr 2019   Prob (F-statistic):               0.00\n",
       "Time:                        15:26:26   Log-Likelihood:                -71444.\n",
       "No. Observations:               51956   AIC:                         1.429e+05\n",
       "Df Residuals:                   51954   BIC:                         1.429e+05\n",
       "Df Model:                           1                                         \n",
       "Covariance Type:            nonrobust                                         \n",
       "==============================================================================\n",
       "                 coef    std err          t      P>|t|      [0.025      0.975]\n",
       "------------------------------------------------------------------------------\n",
       "Intercept      9.9826      0.011    927.417      0.000       9.961      10.004\n",
       "NSyll         -0.4174      0.004   -108.734      0.000      -0.425      -0.410\n",
       "==============================================================================\n",
       "Omnibus:                     1390.273   Durbin-Watson:                   1.066\n",
       "Prob(Omnibus):                  0.000   Jarque-Bera (JB):              769.907\n",
       "Skew:                           0.122   Prob(JB):                    6.56e-168\n",
       "Kurtosis:                       2.456   Cond. No.                         7.98\n",
       "==============================================================================\n",
       "\n",
       "Warnings:\n",
       "[1] Standard Errors assume that the covariance matrix of the errors is correctly specified.\n",
       "\"\"\""
      ]
     },
     "execution_count": 16,
     "metadata": {},
     "output_type": "execute_result"
    }
   ],
   "source": [
    "reg_prob_length = sm.ols(formula=\"surprisal ~ NSyll\", data=df_processed).fit()\n",
    "reg_prob_length.summary()"
   ]
  },
  {
   "cell_type": "markdown",
   "metadata": {},
   "source": [
    "### Curiosity: Above and beyond morpheme count?\n",
    "\n"
   ]
  },
  {
   "cell_type": "code",
   "execution_count": 17,
   "metadata": {},
   "outputs": [],
   "source": [
    "df_celex = pd.read_csv(\"data/raw/celex_all.csv\", sep=\"\\\\\")\n",
    "df_celex_processed = utils.preprocess_for_analysis(df_celex)\n",
    "df_merged = pd.merge(df_processed, df_celex_processed, on=\"Word\")"
   ]
  },
  {
   "cell_type": "code",
   "execution_count": 18,
   "metadata": {},
   "outputs": [
    {
     "data": {
      "text/plain": [
       "22872"
      ]
     },
     "execution_count": 18,
     "metadata": {},
     "output_type": "execute_result"
    }
   ],
   "source": [
    "len(df_merged)"
   ]
  },
  {
   "cell_type": "code",
   "execution_count": 19,
   "metadata": {},
   "outputs": [
    {
     "data": {
      "text/html": [
       "<table class=\"simpletable\">\n",
       "<caption>OLS Regression Results</caption>\n",
       "<tr>\n",
       "  <th>Dep. Variable:</th>        <td>surprisal</td>    <th>  R-squared:         </th> <td>   0.205</td> \n",
       "</tr>\n",
       "<tr>\n",
       "  <th>Model:</th>                   <td>OLS</td>       <th>  Adj. R-squared:    </th> <td>   0.205</td> \n",
       "</tr>\n",
       "<tr>\n",
       "  <th>Method:</th>             <td>Least Squares</td>  <th>  F-statistic:       </th> <td>   2953.</td> \n",
       "</tr>\n",
       "<tr>\n",
       "  <th>Date:</th>             <td>Mon, 29 Apr 2019</td> <th>  Prob (F-statistic):</th>  <td>  0.00</td>  \n",
       "</tr>\n",
       "<tr>\n",
       "  <th>Time:</th>                 <td>15:26:29</td>     <th>  Log-Likelihood:    </th> <td> -31055.</td> \n",
       "</tr>\n",
       "<tr>\n",
       "  <th>No. Observations:</th>      <td> 22872</td>      <th>  AIC:               </th> <td>6.212e+04</td>\n",
       "</tr>\n",
       "<tr>\n",
       "  <th>Df Residuals:</th>          <td> 22869</td>      <th>  BIC:               </th> <td>6.214e+04</td>\n",
       "</tr>\n",
       "<tr>\n",
       "  <th>Df Model:</th>              <td>     2</td>      <th>                     </th>     <td> </td>    \n",
       "</tr>\n",
       "<tr>\n",
       "  <th>Covariance Type:</th>      <td>nonrobust</td>    <th>                     </th>     <td> </td>    \n",
       "</tr>\n",
       "</table>\n",
       "<table class=\"simpletable\">\n",
       "<tr>\n",
       "      <td></td>         <th>coef</th>     <th>std err</th>      <th>t</th>      <th>P>|t|</th>  <th>[0.025</th>    <th>0.975]</th>  \n",
       "</tr>\n",
       "<tr>\n",
       "  <th>Intercept</th> <td>   10.0261</td> <td>    0.017</td> <td>  579.445</td> <td> 0.000</td> <td>    9.992</td> <td>   10.060</td>\n",
       "</tr>\n",
       "<tr>\n",
       "  <th>CompCnt</th>   <td>   -0.0399</td> <td>    0.008</td> <td>   -4.754</td> <td> 0.000</td> <td>   -0.056</td> <td>   -0.023</td>\n",
       "</tr>\n",
       "<tr>\n",
       "  <th>NSyll</th>     <td>   -0.4157</td> <td>    0.006</td> <td>  -72.234</td> <td> 0.000</td> <td>   -0.427</td> <td>   -0.404</td>\n",
       "</tr>\n",
       "</table>\n",
       "<table class=\"simpletable\">\n",
       "<tr>\n",
       "  <th>Omnibus:</th>       <td>577.478</td> <th>  Durbin-Watson:     </th> <td>   1.272</td>\n",
       "</tr>\n",
       "<tr>\n",
       "  <th>Prob(Omnibus):</th> <td> 0.000</td>  <th>  Jarque-Bera (JB):  </th> <td> 308.417</td>\n",
       "</tr>\n",
       "<tr>\n",
       "  <th>Skew:</th>          <td> 0.086</td>  <th>  Prob(JB):          </th> <td>1.07e-67</td>\n",
       "</tr>\n",
       "<tr>\n",
       "  <th>Kurtosis:</th>      <td> 2.458</td>  <th>  Cond. No.          </th> <td>    9.66</td>\n",
       "</tr>\n",
       "</table><br/><br/>Warnings:<br/>[1] Standard Errors assume that the covariance matrix of the errors is correctly specified."
      ],
      "text/plain": [
       "<class 'statsmodels.iolib.summary.Summary'>\n",
       "\"\"\"\n",
       "                            OLS Regression Results                            \n",
       "==============================================================================\n",
       "Dep. Variable:              surprisal   R-squared:                       0.205\n",
       "Model:                            OLS   Adj. R-squared:                  0.205\n",
       "Method:                 Least Squares   F-statistic:                     2953.\n",
       "Date:                Mon, 29 Apr 2019   Prob (F-statistic):               0.00\n",
       "Time:                        15:26:29   Log-Likelihood:                -31055.\n",
       "No. Observations:               22872   AIC:                         6.212e+04\n",
       "Df Residuals:                   22869   BIC:                         6.214e+04\n",
       "Df Model:                           2                                         \n",
       "Covariance Type:            nonrobust                                         \n",
       "==============================================================================\n",
       "                 coef    std err          t      P>|t|      [0.025      0.975]\n",
       "------------------------------------------------------------------------------\n",
       "Intercept     10.0261      0.017    579.445      0.000       9.992      10.060\n",
       "CompCnt       -0.0399      0.008     -4.754      0.000      -0.056      -0.023\n",
       "NSyll         -0.4157      0.006    -72.234      0.000      -0.427      -0.404\n",
       "==============================================================================\n",
       "Omnibus:                      577.478   Durbin-Watson:                   1.272\n",
       "Prob(Omnibus):                  0.000   Jarque-Bera (JB):              308.417\n",
       "Skew:                           0.086   Prob(JB):                     1.07e-67\n",
       "Kurtosis:                       2.458   Cond. No.                         9.66\n",
       "==============================================================================\n",
       "\n",
       "Warnings:\n",
       "[1] Standard Errors assume that the covariance matrix of the errors is correctly specified.\n",
       "\"\"\""
      ]
     },
     "execution_count": 19,
     "metadata": {},
     "output_type": "execute_result"
    }
   ],
   "source": [
    "reg_prob_length = sm.ols(formula=\"surprisal ~ CompCnt + NSyll\", data=df_merged).fit()\n",
    "reg_prob_length.summary()"
   ]
  },
  {
   "cell_type": "code",
   "execution_count": 21,
   "metadata": {},
   "outputs": [
    {
     "name": "stderr",
     "output_type": "stream",
     "text": [
      "/Users/seantrott/anaconda3/lib/python3.7/site-packages/numpy/core/_methods.py:140: RuntimeWarning: Degrees of freedom <= 0 for slice\n",
      "  keepdims=keepdims)\n",
      "/Users/seantrott/anaconda3/lib/python3.7/site-packages/numpy/core/_methods.py:132: RuntimeWarning: invalid value encountered in double_scalars\n",
      "  ret = ret.dtype.type(ret / rcount)\n"
     ]
    },
    {
     "data": {
      "text/plain": [
       "<ErrorbarContainer object of 3 artists>"
      ]
     },
     "execution_count": 21,
     "metadata": {},
     "output_type": "execute_result"
    },
    {
     "data": {
      "image/png": "[encoded data removed]",
      "text/plain": [
       "<Figure size 432x288 with 1 Axes>"
      ]
     },
     "metadata": {
      "needs_background": "light"
     },
     "output_type": "display_data"
    }
   ],
   "source": [
    "df_aggregated = utils.agg_homophones_by_syllable(df_processed)\n",
    "df_aggregated = df_aggregated[df_aggregated['num_sylls']>0]\n",
    "plt.figure()\n",
    "plt.xlabel(\"Number of syllables\")\n",
    "plt.ylabel(\"Mean number of homophones\")\n",
    "plt.title(\"English homophone distribution\")\n",
    "plt.errorbar(df_aggregated['num_sylls'], \n",
    "             df_aggregated['mean_homophones'],\n",
    "             yerr=df_aggregated['sem_homophones'], \n",
    "            color=\"blue\", ecolor=\"orange\")"
   ]
  },
  {
   "cell_type": "markdown",
   "metadata": {},
   "source": [
    "## what about neighborhood density?\n",
    "\n",
    "A related question is whether homophones come from sparser or denser neighborhoods. Is there a trade-off between signal ambiguity and lexical ambiguity?\n",
    "\n",
    "It looks like words with higher neighborhood density are likely to have more homophones. "
   ]
  },
  {
   "cell_type": "code",
   "execution_count": 22,
   "metadata": {},
   "outputs": [
    {
     "name": "stdout",
     "output_type": "stream",
     "text": [
      "Optimization terminated successfully.\n",
      "         Current function value: 0.126116\n",
      "         Iterations 15\n"
     ]
    },
    {
     "data": {
      "text/html": [
       "<table class=\"simpletable\">\n",
       "<caption>Poisson Regression Results</caption>\n",
       "<tr>\n",
       "  <th>Dep. Variable:</th>  <td>num_homophones</td>  <th>  No. Observations:  </th>  <td> 51956</td> \n",
       "</tr>\n",
       "<tr>\n",
       "  <th>Model:</th>              <td>Poisson</td>     <th>  Df Residuals:      </th>  <td> 51954</td> \n",
       "</tr>\n",
       "<tr>\n",
       "  <th>Method:</th>               <td>MLE</td>       <th>  Df Model:          </th>  <td>     1</td> \n",
       "</tr>\n",
       "<tr>\n",
       "  <th>Date:</th>          <td>Mon, 29 Apr 2019</td> <th>  Pseudo R-squ.:     </th>  <td>0.2764</td> \n",
       "</tr>\n",
       "<tr>\n",
       "  <th>Time:</th>              <td>15:26:56</td>     <th>  Log-Likelihood:    </th> <td> -6552.5</td>\n",
       "</tr>\n",
       "<tr>\n",
       "  <th>converged:</th>           <td>True</td>       <th>  LL-Null:           </th> <td> -9055.4</td>\n",
       "</tr>\n",
       "<tr>\n",
       "  <th> </th>                      <td> </td>        <th>  LLR p-value:       </th>  <td> 0.000</td> \n",
       "</tr>\n",
       "</table>\n",
       "<table class=\"simpletable\">\n",
       "<tr>\n",
       "      <td></td>         <th>coef</th>     <th>std err</th>      <th>z</th>      <th>P>|z|</th>  <th>[0.025</th>    <th>0.975]</th>  \n",
       "</tr>\n",
       "<tr>\n",
       "  <th>Intercept</th> <td>   -4.4215</td> <td>    0.037</td> <td> -120.268</td> <td> 0.000</td> <td>   -4.494</td> <td>   -4.349</td>\n",
       "</tr>\n",
       "<tr>\n",
       "  <th>strDENS</th>   <td>    0.1108</td> <td>    0.001</td> <td>   81.660</td> <td> 0.000</td> <td>    0.108</td> <td>    0.113</td>\n",
       "</tr>\n",
       "</table>"
      ],
      "text/plain": [
       "<class 'statsmodels.iolib.summary.Summary'>\n",
       "\"\"\"\n",
       "                          Poisson Regression Results                          \n",
       "==============================================================================\n",
       "Dep. Variable:         num_homophones   No. Observations:                51956\n",
       "Model:                        Poisson   Df Residuals:                    51954\n",
       "Method:                           MLE   Df Model:                            1\n",
       "Date:                Mon, 29 Apr 2019   Pseudo R-squ.:                  0.2764\n",
       "Time:                        15:26:56   Log-Likelihood:                -6552.5\n",
       "converged:                       True   LL-Null:                       -9055.4\n",
       "                                        LLR p-value:                     0.000\n",
       "==============================================================================\n",
       "                 coef    std err          z      P>|z|      [0.025      0.975]\n",
       "------------------------------------------------------------------------------\n",
       "Intercept     -4.4215      0.037   -120.268      0.000      -4.494      -4.349\n",
       "strDENS        0.1108      0.001     81.660      0.000       0.108       0.113\n",
       "==============================================================================\n",
       "\"\"\""
      ]
     },
     "execution_count": 22,
     "metadata": {},
     "output_type": "execute_result"
    }
   ],
   "source": [
    "reg_density = sm.poisson(formula=\"num_homophones ~ strDENS\", data=df_processed).fit()\n",
    "reg_density.summary()"
   ]
  },
  {
   "cell_type": "code",
   "execution_count": 23,
   "metadata": {},
   "outputs": [],
   "source": [
    "df_agg_density = utils.agg_homophones_by_syllable(dataframe=df_processed, syl_column=\"strDENS\")\n",
    "df_agg_density['density'] = df_agg_density['num_sylls']"
   ]
  },
  {
   "cell_type": "code",
   "execution_count": 24,
   "metadata": {},
   "outputs": [
    {
     "data": {
      "text/plain": [
       "<ErrorbarContainer object of 3 artists>"
      ]
     },
     "execution_count": 24,
     "metadata": {},
     "output_type": "execute_result"
    },
    {
     "data": {
      "image/png": "[encoded data removed]",
      "text/plain": [
       "<Figure size 432x288 with 1 Axes>"
      ]
     },
     "metadata": {
      "needs_background": "light"
     },
     "output_type": "display_data"
    }
   ],
   "source": [
    "plt.figure()\n",
    "plt.xlabel(\"Stressed phonological neighborhood density\")\n",
    "plt.ylabel(\"Mean number of homophones\")\n",
    "plt.title(\"English homophone distribution\")\n",
    "plt.errorbar(df_agg_density['density'], \n",
    "             df_agg_density['mean_homophones'],\n",
    "             yerr=df_agg_density['sem_homophones'], \n",
    "            color=\"blue\", ecolor=\"orange\")"
   ]
  },
  {
   "cell_type": "code",
   "execution_count": 25,
   "metadata": {},
   "outputs": [
    {
     "name": "stdout",
     "output_type": "stream",
     "text": [
      "Optimization terminated successfully.\n",
      "         Current function value: 0.124473\n",
      "         Iterations 17\n"
     ]
    },
    {
     "data": {
      "text/html": [
       "<table class=\"simpletable\">\n",
       "<caption>Poisson Regression Results</caption>\n",
       "<tr>\n",
       "  <th>Dep. Variable:</th>  <td>num_homophones</td>  <th>  No. Observations:  </th>  <td> 51956</td> \n",
       "</tr>\n",
       "<tr>\n",
       "  <th>Model:</th>              <td>Poisson</td>     <th>  Df Residuals:      </th>  <td> 51952</td> \n",
       "</tr>\n",
       "<tr>\n",
       "  <th>Method:</th>               <td>MLE</td>       <th>  Df Model:          </th>  <td>     3</td> \n",
       "</tr>\n",
       "<tr>\n",
       "  <th>Date:</th>          <td>Mon, 29 Apr 2019</td> <th>  Pseudo R-squ.:     </th>  <td>0.2858</td> \n",
       "</tr>\n",
       "<tr>\n",
       "  <th>Time:</th>              <td>15:26:59</td>     <th>  Log-Likelihood:    </th> <td> -6467.1</td>\n",
       "</tr>\n",
       "<tr>\n",
       "  <th>converged:</th>           <td>True</td>       <th>  LL-Null:           </th> <td> -9055.4</td>\n",
       "</tr>\n",
       "<tr>\n",
       "  <th> </th>                      <td> </td>        <th>  LLR p-value:       </th>  <td> 0.000</td> \n",
       "</tr>\n",
       "</table>\n",
       "<table class=\"simpletable\">\n",
       "<tr>\n",
       "            <td></td>              <th>coef</th>     <th>std err</th>      <th>z</th>      <th>P>|z|</th>  <th>[0.025</th>    <th>0.975]</th>  \n",
       "</tr>\n",
       "<tr>\n",
       "  <th>Intercept</th>            <td>   -3.6569</td> <td>    0.105</td> <td>  -34.663</td> <td> 0.000</td> <td>   -3.864</td> <td>   -3.450</td>\n",
       "</tr>\n",
       "<tr>\n",
       "  <th>strDENS</th>              <td>    0.0885</td> <td>    0.002</td> <td>   40.155</td> <td> 0.000</td> <td>    0.084</td> <td>    0.093</td>\n",
       "</tr>\n",
       "<tr>\n",
       "  <th>NSyll</th>                <td>   -0.3896</td> <td>    0.040</td> <td>   -9.710</td> <td> 0.000</td> <td>   -0.468</td> <td>   -0.311</td>\n",
       "</tr>\n",
       "<tr>\n",
       "  <th>surprisal_normalized</th> <td>    0.1140</td> <td>    0.019</td> <td>    5.986</td> <td> 0.000</td> <td>    0.077</td> <td>    0.151</td>\n",
       "</tr>\n",
       "</table>"
      ],
      "text/plain": [
       "<class 'statsmodels.iolib.summary.Summary'>\n",
       "\"\"\"\n",
       "                          Poisson Regression Results                          \n",
       "==============================================================================\n",
       "Dep. Variable:         num_homophones   No. Observations:                51956\n",
       "Model:                        Poisson   Df Residuals:                    51952\n",
       "Method:                           MLE   Df Model:                            3\n",
       "Date:                Mon, 29 Apr 2019   Pseudo R-squ.:                  0.2858\n",
       "Time:                        15:26:59   Log-Likelihood:                -6467.1\n",
       "converged:                       True   LL-Null:                       -9055.4\n",
       "                                        LLR p-value:                     0.000\n",
       "========================================================================================\n",
       "                           coef    std err          z      P>|z|      [0.025      0.975]\n",
       "----------------------------------------------------------------------------------------\n",
       "Intercept               -3.6569      0.105    -34.663      0.000      -3.864      -3.450\n",
       "strDENS                  0.0885      0.002     40.155      0.000       0.084       0.093\n",
       "NSyll                   -0.3896      0.040     -9.710      0.000      -0.468      -0.311\n",
       "surprisal_normalized     0.1140      0.019      5.986      0.000       0.077       0.151\n",
       "========================================================================================\n",
       "\"\"\""
      ]
     },
     "execution_count": 25,
     "metadata": {},
     "output_type": "execute_result"
    }
   ],
   "source": [
    "reg_density_plus_syllables = sm.poisson(formula=\"num_homophones ~ strDENS + NSyll + surprisal_normalized\", data=df_processed).fit()\n",
    "reg_density_plus_syllables.summary()"
   ]
  },
  {
   "cell_type": "code",
   "execution_count": 26,
   "metadata": {},
   "outputs": [
    {
     "data": {
      "text/html": [
       "<table class=\"simpletable\">\n",
       "<caption>OLS Regression Results</caption>\n",
       "<tr>\n",
       "  <th>Dep. Variable:</th>         <td>strDENS</td>     <th>  R-squared:         </th>  <td>   0.292</td>  \n",
       "</tr>\n",
       "<tr>\n",
       "  <th>Model:</th>                   <td>OLS</td>       <th>  Adj. R-squared:    </th>  <td>   0.292</td>  \n",
       "</tr>\n",
       "<tr>\n",
       "  <th>Method:</th>             <td>Least Squares</td>  <th>  F-statistic:       </th>  <td>2.144e+04</td> \n",
       "</tr>\n",
       "<tr>\n",
       "  <th>Date:</th>             <td>Mon, 29 Apr 2019</td> <th>  Prob (F-statistic):</th>   <td>  0.00</td>   \n",
       "</tr>\n",
       "<tr>\n",
       "  <th>Time:</th>                 <td>15:26:59</td>     <th>  Log-Likelihood:    </th> <td>-1.6705e+05</td>\n",
       "</tr>\n",
       "<tr>\n",
       "  <th>No. Observations:</th>      <td> 51956</td>      <th>  AIC:               </th>  <td>3.341e+05</td> \n",
       "</tr>\n",
       "<tr>\n",
       "  <th>Df Residuals:</th>          <td> 51954</td>      <th>  BIC:               </th>  <td>3.341e+05</td> \n",
       "</tr>\n",
       "<tr>\n",
       "  <th>Df Model:</th>              <td>     1</td>      <th>                     </th>      <td> </td>     \n",
       "</tr>\n",
       "<tr>\n",
       "  <th>Covariance Type:</th>      <td>nonrobust</td>    <th>                     </th>      <td> </td>     \n",
       "</tr>\n",
       "</table>\n",
       "<table class=\"simpletable\">\n",
       "<tr>\n",
       "      <td></td>         <th>coef</th>     <th>std err</th>      <th>t</th>      <th>P>|t|</th>  <th>[0.025</th>    <th>0.975]</th>  \n",
       "</tr>\n",
       "<tr>\n",
       "  <th>Intercept</th> <td>   13.5432</td> <td>    0.068</td> <td>  199.815</td> <td> 0.000</td> <td>   13.410</td> <td>   13.676</td>\n",
       "</tr>\n",
       "<tr>\n",
       "  <th>NSyll</th>     <td>   -3.5396</td> <td>    0.024</td> <td> -146.437</td> <td> 0.000</td> <td>   -3.587</td> <td>   -3.492</td>\n",
       "</tr>\n",
       "</table>\n",
       "<table class=\"simpletable\">\n",
       "<tr>\n",
       "  <th>Omnibus:</th>       <td>25945.958</td> <th>  Durbin-Watson:     </th>  <td>   1.595</td> \n",
       "</tr>\n",
       "<tr>\n",
       "  <th>Prob(Omnibus):</th>  <td> 0.000</td>   <th>  Jarque-Bera (JB):  </th> <td>175578.525</td>\n",
       "</tr>\n",
       "<tr>\n",
       "  <th>Skew:</th>           <td> 2.345</td>   <th>  Prob(JB):          </th>  <td>    0.00</td> \n",
       "</tr>\n",
       "<tr>\n",
       "  <th>Kurtosis:</th>       <td>10.688</td>   <th>  Cond. No.          </th>  <td>    7.98</td> \n",
       "</tr>\n",
       "</table><br/><br/>Warnings:<br/>[1] Standard Errors assume that the covariance matrix of the errors is correctly specified."
      ],
      "text/plain": [
       "<class 'statsmodels.iolib.summary.Summary'>\n",
       "\"\"\"\n",
       "                            OLS Regression Results                            \n",
       "==============================================================================\n",
       "Dep. Variable:                strDENS   R-squared:                       0.292\n",
       "Model:                            OLS   Adj. R-squared:                  0.292\n",
       "Method:                 Least Squares   F-statistic:                 2.144e+04\n",
       "Date:                Mon, 29 Apr 2019   Prob (F-statistic):               0.00\n",
       "Time:                        15:26:59   Log-Likelihood:            -1.6705e+05\n",
       "No. Observations:               51956   AIC:                         3.341e+05\n",
       "Df Residuals:                   51954   BIC:                         3.341e+05\n",
       "Df Model:                           1                                         \n",
       "Covariance Type:            nonrobust                                         \n",
       "==============================================================================\n",
       "                 coef    std err          t      P>|t|      [0.025      0.975]\n",
       "------------------------------------------------------------------------------\n",
       "Intercept     13.5432      0.068    199.815      0.000      13.410      13.676\n",
       "NSyll         -3.5396      0.024   -146.437      0.000      -3.587      -3.492\n",
       "==============================================================================\n",
       "Omnibus:                    25945.958   Durbin-Watson:                   1.595\n",
       "Prob(Omnibus):                  0.000   Jarque-Bera (JB):           175578.525\n",
       "Skew:                           2.345   Prob(JB):                         0.00\n",
       "Kurtosis:                      10.688   Cond. No.                         7.98\n",
       "==============================================================================\n",
       "\n",
       "Warnings:\n",
       "[1] Standard Errors assume that the covariance matrix of the errors is correctly specified.\n",
       "\"\"\""
      ]
     },
     "execution_count": 26,
     "metadata": {},
     "output_type": "execute_result"
    }
   ],
   "source": [
    "syllables_and_density = sm.ols(formula=\"strDENS ~ NSyll\", data=df_processed).fit()\n",
    "syllables_and_density.summary()"
   ]
  },
  {
   "cell_type": "code",
   "execution_count": 27,
   "metadata": {},
   "outputs": [],
   "source": [
    "def agg_y_by_x(dataframe, x = \"NSyll\", y = \"num_homophones\", n_se = 1):\n",
    "    \"\"\"Aggregate homophones by number of syllables.\"\"\"\n",
    "    means_table = pd.pivot_table(dataframe, values=y,\n",
    "               columns=x,\n",
    "               aggfunc=np.mean)\n",
    "    sem_table = pd.pivot_table(dataframe, values=y,\n",
    "                   columns=x,\n",
    "                   aggfunc=ss.sem)\n",
    "    \n",
    "    num_sylls = list(range(1, max(sem_table)+1))\n",
    "    means = [means_table[i][y] for i in num_sylls]\n",
    "    sems = [n_se*sem_table[i][y] for i in num_sylls]\n",
    "    \n",
    "    return pd.DataFrame.from_dict({'num_sylls': num_sylls,\n",
    "                                   'mean_homophones': means,\n",
    "                                   'sem_homophones': sems})\n",
    "                            "
   ]
  },
  {
   "cell_type": "code",
   "execution_count": 28,
   "metadata": {},
   "outputs": [
    {
     "data": {
      "text/plain": [
       "<ErrorbarContainer object of 3 artists>"
      ]
     },
     "execution_count": 28,
     "metadata": {},
     "output_type": "execute_result"
    },
    {
     "data": {
      "image/png": "[encoded data removed]",
      "text/plain": [
       "<Figure size 432x288 with 1 Axes>"
      ]
     },
     "metadata": {
      "needs_background": "light"
     },
     "output_type": "display_data"
    }
   ],
   "source": [
    "df_density_syllables = agg_y_by_x(df_processed, x=\"NSyll\", y = \"strDENS\", n_se=4)\n",
    "plt.figure()\n",
    "plt.xlabel(\"Number of syllables\")\n",
    "plt.ylabel(\"Mean phonological neighborhood density\")\n",
    "plt.title(\"Phonological neighborhood by word length\")\n",
    "plt.errorbar(df_density_syllables['num_sylls'], \n",
    "             df_density_syllables['mean_homophones'],\n",
    "             yerr=df_density_syllables['sem_homophones'], \n",
    "            color=\"blue\", ecolor=\"orange\")"
   ]
  },
  {
   "cell_type": "markdown",
   "metadata": {},
   "source": [
    "# Part 2: Conduct same analysis on pseudo-words\n",
    "\n",
    "Now we conduct the same analyses on the set of pseudowords in IPHOD. Specifically, we randomly sample from the 814840 pseudowords 100 times. Each time, we construct a random lexicon of roughly the same size (~50k words), with the same distribution of word lengths and word probabilities."
   ]
  },
  {
   "cell_type": "markdown",
   "metadata": {},
   "source": [
    "## Loading and processing data"
   ]
  },
  {
   "cell_type": "code",
   "execution_count": 32,
   "metadata": {},
   "outputs": [],
   "source": [
    "PATH = \"data/raw/IPhODv2.0_PSEUDO\"\n",
    "PHON_COLUMN = 'StTrn'"
   ]
  },
  {
   "cell_type": "code",
   "execution_count": 33,
   "metadata": {},
   "outputs": [
    {
     "name": "stderr",
     "output_type": "stream",
     "text": [
      "\r",
      "  0%|          | 0/19 [00:00<?, ?it/s]"
     ]
    },
    {
     "name": "stdout",
     "output_type": "stream",
     "text": [
      "Loading pseudo-words from files...\n"
     ]
    },
    {
     "name": "stderr",
     "output_type": "stream",
     "text": [
      "100%|██████████| 19/19 [00:12<00:00,  1.57s/it]\n"
     ]
    }
   ],
   "source": [
    "sources = []\n",
    "files = listdir(PATH)\n",
    "print(\"Loading pseudo-words from files...\")\n",
    "for f in tqdm(files):\n",
    "\tif \"IPhOD2_Pseudos\" in f:\n",
    "\t\ttemp = pd.read_csv(\"{path}/{file_name}\".format(path=PATH, file_name=f), sep=\"\\t\")\n",
    "\t\tsources.append(temp)\n",
    "\n",
    "df = pd.concat(sources)"
   ]
  },
  {
   "cell_type": "code",
   "execution_count": 34,
   "metadata": {},
   "outputs": [
    {
     "name": "stdout",
     "output_type": "stream",
     "text": [
      "814840 pseudowords in all.\n"
     ]
    }
   ],
   "source": [
    "print(\"{X} pseudowords in all.\".format(X=len(df)))"
   ]
  },
  {
   "cell_type": "code",
   "execution_count": 35,
   "metadata": {},
   "outputs": [
    {
     "name": "stdout",
     "output_type": "stream",
     "text": [
      "761688 pseudowords after dropping duplicate wordforms.\n"
     ]
    }
   ],
   "source": [
    "df = df.drop_duplicates(subset=PHON_COLUMN)\n",
    "print(\"{X} pseudowords after dropping duplicate wordforms.\".format(X=len(df)))"
   ]
  },
  {
   "cell_type": "code",
   "execution_count": 36,
   "metadata": {},
   "outputs": [
    {
     "data": {
      "text/plain": [
       "array([[<matplotlib.axes._subplots.AxesSubplot object at 0x1a1eaf1f98>]],\n",
       "      dtype=object)"
      ]
     },
     "execution_count": 36,
     "metadata": {},
     "output_type": "execute_result"
    },
    {
     "data": {
      "image/png": "[encoded data removed]",
      "text/plain": [
       "<Figure size 432x288 with 1 Axes>"
      ]
     },
     "metadata": {
      "needs_background": "light"
     },
     "output_type": "display_data"
    }
   ],
   "source": [
    "df['strTPAV_scaled'] = df['strTPAV'] + .00001\n",
    "df['surprisal'] = df['strTPAV_scaled'].apply(lambda x: -math.log(x))\n",
    "df.hist(column='surprisal')"
   ]
  },
  {
   "cell_type": "markdown",
   "metadata": {},
   "source": [
    "## Running simulations"
   ]
  },
  {
   "cell_type": "markdown",
   "metadata": {},
   "source": [
    "### Weighted sampling"
   ]
  },
  {
   "cell_type": "code",
   "execution_count": 39,
   "metadata": {},
   "outputs": [
    {
     "data": {
      "text/plain": [
       "Counter({1: 7132,\n",
       "         3: 14329,\n",
       "         2: 20759,\n",
       "         4: 6785,\n",
       "         5: 2400,\n",
       "         6: 482,\n",
       "         7: 56,\n",
       "         12: 1,\n",
       "         8: 8,\n",
       "         9: 1,\n",
       "         0: 3})"
      ]
     },
     "execution_count": 39,
     "metadata": {},
     "output_type": "execute_result"
    }
   ],
   "source": [
    "ACTUAL_DISTRIBUTION = Counter(df_processed['NSyll'])\n",
    "ACTUAL_DISTRIBUTION"
   ]
  },
  {
   "cell_type": "code",
   "execution_count": 40,
   "metadata": {},
   "outputs": [
    {
     "data": {
      "text/html": [
       "<div>\n",
       "<style scoped>\n",
       "    .dataframe tbody tr th:only-of-type {\n",
       "        vertical-align: middle;\n",
       "    }\n",
       "\n",
       "    .dataframe tbody tr th {\n",
       "        vertical-align: top;\n",
       "    }\n",
       "\n",
       "    .dataframe thead th {\n",
       "        text-align: right;\n",
       "    }\n",
       "</style>\n",
       "<table border=\"1\" class=\"dataframe\">\n",
       "  <thead>\n",
       "    <tr style=\"text-align: right;\">\n",
       "      <th></th>\n",
       "      <th>number_syllables</th>\n",
       "      <th>count</th>\n",
       "    </tr>\n",
       "  </thead>\n",
       "  <tbody>\n",
       "    <tr>\n",
       "      <th>10</th>\n",
       "      <td>0</td>\n",
       "      <td>3</td>\n",
       "    </tr>\n",
       "    <tr>\n",
       "      <th>0</th>\n",
       "      <td>1</td>\n",
       "      <td>7132</td>\n",
       "    </tr>\n",
       "    <tr>\n",
       "      <th>2</th>\n",
       "      <td>2</td>\n",
       "      <td>20759</td>\n",
       "    </tr>\n",
       "    <tr>\n",
       "      <th>1</th>\n",
       "      <td>3</td>\n",
       "      <td>14329</td>\n",
       "    </tr>\n",
       "    <tr>\n",
       "      <th>3</th>\n",
       "      <td>4</td>\n",
       "      <td>6785</td>\n",
       "    </tr>\n",
       "    <tr>\n",
       "      <th>4</th>\n",
       "      <td>5</td>\n",
       "      <td>2400</td>\n",
       "    </tr>\n",
       "    <tr>\n",
       "      <th>5</th>\n",
       "      <td>6</td>\n",
       "      <td>482</td>\n",
       "    </tr>\n",
       "    <tr>\n",
       "      <th>6</th>\n",
       "      <td>7</td>\n",
       "      <td>56</td>\n",
       "    </tr>\n",
       "    <tr>\n",
       "      <th>8</th>\n",
       "      <td>8</td>\n",
       "      <td>8</td>\n",
       "    </tr>\n",
       "    <tr>\n",
       "      <th>9</th>\n",
       "      <td>9</td>\n",
       "      <td>1</td>\n",
       "    </tr>\n",
       "    <tr>\n",
       "      <th>7</th>\n",
       "      <td>12</td>\n",
       "      <td>1</td>\n",
       "    </tr>\n",
       "  </tbody>\n",
       "</table>\n",
       "</div>"
      ],
      "text/plain": [
       "    number_syllables  count\n",
       "10                 0      3\n",
       "0                  1   7132\n",
       "2                  2  20759\n",
       "1                  3  14329\n",
       "3                  4   6785\n",
       "4                  5   2400\n",
       "5                  6    482\n",
       "6                  7     56\n",
       "8                  8      8\n",
       "9                  9      1\n",
       "7                 12      1"
      ]
     },
     "execution_count": 40,
     "metadata": {},
     "output_type": "execute_result"
    }
   ],
   "source": [
    "df_dist = pd.DataFrame.from_dict({\n",
    "    'number_syllables': list(ACTUAL_DISTRIBUTION.keys()),\n",
    "    'count': list(ACTUAL_DISTRIBUTION.values())\n",
    "})\n",
    "df_dist.sort_values('number_syllables')"
   ]
  },
  {
   "cell_type": "code",
   "execution_count": 41,
   "metadata": {},
   "outputs": [],
   "source": [
    "ITERATIONS = 100"
   ]
  },
  {
   "cell_type": "code",
   "execution_count": 45,
   "metadata": {},
   "outputs": [],
   "source": [
    "length_coefs_with_weights, length_coefs_without_weights = [], []\n",
    "phonotactic_coefs_with_weights, phonotactic_coefs_without_weights = [], []\n",
    "all_coefs = []\n",
    "agg_temps = []\n",
    "surprisals = []"
   ]
  },
  {
   "cell_type": "code",
   "execution_count": 46,
   "metadata": {},
   "outputs": [],
   "source": [
    "def sample_and_compute(syllable_number_dist, dataframe, weight=True):\n",
    "\n",
    "    temp = []\n",
    "    for syl, num in syllable_number_dist.items():\n",
    "        df_subset = dataframe[dataframe['NSyll']==syl]\n",
    "        if len(df_subset) > 0: # num\n",
    "            # Weight sampling by selecting higher-probability words\n",
    "            if weight:\n",
    "                temp.append(df_subset.sample(num, replace=True, weights=df_subset['strTPAV']))\n",
    "            else:\n",
    "                temp.append(df_subset.sample(num, replace=True))\n",
    "\n",
    "\n",
    "    df_sampled = pd.concat(temp)\n",
    "    df_sampled['Word_recoded'] = df_sampled['Word'].apply(lambda x: x.split(\" (\")[0])\n",
    "    \n",
    "    # Preprocess\n",
    "    df_processed = utils.preprocess_for_analysis(df_sampled, \n",
    "                                                 word_column='Word_recoded',\n",
    "                                                 phon_column=PHON_COLUMN)\n",
    "\n",
    "    # Analysis\n",
    "    result = sm.poisson(formula='num_homophones ~ NSyll + surprisal', data=df_processed).fit(disp=0)\n",
    "    \n",
    "    return (df_processed, result.params['NSyll'], result.params['surprisal'])"
   ]
  },
  {
   "cell_type": "code",
   "execution_count": 47,
   "metadata": {},
   "outputs": [
    {
     "name": "stderr",
     "output_type": "stream",
     "text": [
      "100%|██████████| 100/100 [05:52<00:00,  3.19s/it]\n"
     ]
    }
   ],
   "source": [
    "for i in tqdm(list(range(ITERATIONS))):\n",
    "\n",
    "    df_processed_without, length_without_weight, phon_without_weight = sample_and_compute(syllable_number_dist=ACTUAL_DISTRIBUTION,\n",
    "                                                                   dataframe=df,\n",
    "                                                                   weight=False)\n",
    "\n",
    "    df_processed_with, length_with_weight, phon_with_weight = sample_and_compute(syllable_number_dist=ACTUAL_DISTRIBUTION,\n",
    "                                                                   dataframe=df,\n",
    "                                                                   weight=True)\n",
    "\n",
    "    \n",
    "    all_coefs.append({\n",
    "        'nsyll_unweighted': length_without_weight,\n",
    "        'nsyll_weighted': length_with_weight,\n",
    "        'surprisal_unweighted': phon_without_weight,\n",
    "        'surprisal_weighted': phon_with_weight\n",
    "    })\n",
    "    \n",
    "    s, t = list(df_processed_without['surprisal']), list(df_processed_with['surprisal'])\n",
    "    surprisals.append((s, t))\n",
    "    \n",
    "    df_agg = utils.agg_homophones_by_syllable(df_processed_with)\n",
    "    \n",
    "    agg_temps.append(df_agg)"
   ]
  },
  {
   "cell_type": "code",
   "execution_count": 48,
   "metadata": {},
   "outputs": [],
   "source": [
    "for i in range(len(agg_temps)):\n",
    "    agg_temps[i]['row'] = i\n",
    "df_agg_all = pd.concat(agg_temps)\n",
    "df_agg_all.to_csv(\"data/aggregated_simulations.csv\")"
   ]
  },
  {
   "cell_type": "markdown",
   "metadata": {},
   "source": [
    "### Compare surprisal of pseudowords to real words"
   ]
  },
  {
   "cell_type": "markdown",
   "metadata": {},
   "source": [
    "If I'm interpreting these tests correctly, it looks like the pseudoword lexicons are more phonotactically plausible than the real lexicon? (E.g., the surprisal tends to be lower in the pseudoword lexicons than the real English lexicon, especially when weighting by phonotactic plausibility.)"
   ]
  },
  {
   "cell_type": "code",
   "execution_count": 49,
   "metadata": {},
   "outputs": [],
   "source": [
    "tests = []\n",
    "real_mean = np.mean(REAL_SURPRISAL)\n",
    "for s_without, s_with in surprisals:\n",
    "\n",
    "    test_without = ss.ttest_ind(s_without, REAL_SURPRISAL)\n",
    "    test_with = ss.ttest_ind(s_with, REAL_SURPRISAL)\n",
    "    \n",
    "    tests.append({\n",
    "        'test_without': test_without.statistic,\n",
    "        'test_with': test_with.statistic,\n",
    "        'mean_without': np.mean(s_without),\n",
    "        'mean_with': np.mean(s_with)\n",
    "    })\n",
    "df_test = pd.DataFrame.from_dict(tests)\n"
   ]
  },
  {
   "cell_type": "code",
   "execution_count": 50,
   "metadata": {},
   "outputs": [
    {
     "data": {
      "text/plain": [
       "array([[<matplotlib.axes._subplots.AxesSubplot object at 0x10865da90>]],\n",
       "      dtype=object)"
      ]
     },
     "execution_count": 50,
     "metadata": {},
     "output_type": "execute_result"
    },
    {
     "data": {
      "image/png": "[encoded data removed]",
      "text/plain": [
       "<Figure size 432x288 with 1 Axes>"
      ]
     },
     "metadata": {
      "needs_background": "light"
     },
     "output_type": "display_data"
    }
   ],
   "source": [
    "df_test.hist(column='test_without')"
   ]
  },
  {
   "cell_type": "code",
   "execution_count": 51,
   "metadata": {},
   "outputs": [
    {
     "data": {
      "text/plain": [
       "array([[<matplotlib.axes._subplots.AxesSubplot object at 0x1a63d9ff98>]],\n",
       "      dtype=object)"
      ]
     },
     "execution_count": 51,
     "metadata": {},
     "output_type": "execute_result"
    },
    {
     "data": {
      "image/png": "[encoded data removed]",
      "text/plain": [
       "<Figure size 432x288 with 1 Axes>"
      ]
     },
     "metadata": {
      "needs_background": "light"
     },
     "output_type": "display_data"
    }
   ],
   "source": [
    "df_test.hist(column='test_with')"
   ]
  },
  {
   "cell_type": "code",
   "execution_count": 52,
   "metadata": {},
   "outputs": [
    {
     "data": {
      "text/plain": [
       "<matplotlib.lines.Line2D at 0x1a2f7722e8>"
      ]
     },
     "execution_count": 52,
     "metadata": {},
     "output_type": "execute_result"
    },
    {
     "data": {
      "image/png": "[encoded data removed]",
      "text/plain": [
       "<Figure size 432x288 with 1 Axes>"
      ]
     },
     "metadata": {
      "needs_background": "light"
     },
     "output_type": "display_data"
    }
   ],
   "source": [
    "plt.hist(df_test['mean_with'], label=\"mean surprisal with weighted sampling\")\n",
    "plt.hist(df_test['mean_without'], label=\"mean surprisal without weighted sampling\")\n",
    "plt.axvline(x=real_mean, linestyle=\"dotted\")\n"
   ]
  },
  {
   "cell_type": "markdown",
   "metadata": {},
   "source": [
    "### Comparing weighted vs. unweighted together"
   ]
  },
  {
   "cell_type": "code",
   "execution_count": 53,
   "metadata": {},
   "outputs": [],
   "source": [
    "df_coefs = pd.DataFrame(all_coefs)"
   ]
  },
  {
   "cell_type": "code",
   "execution_count": 59,
   "metadata": {},
   "outputs": [
    {
     "data": {
      "image/png": "[encoded data removed]",
      "text/plain": [
       "<Figure size 432x288 with 1 Axes>"
      ]
     },
     "metadata": {
      "needs_background": "light"
     },
     "output_type": "display_data"
    }
   ],
   "source": [
    "plt.hist(df_coefs['nsyll_weighted'], label=\"weighted sampling\")\n",
    "plt.hist(df_coefs['nsyll_unweighted'], label=\"unweighted sampling\")\n",
    "plt.axvline(x=REAL_LENGTH_COEF, linestyle=\"dotted\")\n",
    "plt.text(s=\"Real slope: {sl}\".format(sl=round(REAL_LENGTH_COEF, 2)),\n",
    "                                     x=REAL_LENGTH_COEF, y =25)\n",
    "plt.xlabel(\"Distribution of slope coefficients\")\n",
    "plt.ylabel(\"Count\")\n",
    "plt.title(\"Slope coefficients for #homophones ~ #syllables\")\n",
    "plt.legend(loc='upper right')\n",
    "plt.show()"
   ]
  },
  {
   "cell_type": "code",
   "execution_count": 60,
   "metadata": {},
   "outputs": [
    {
     "data": {
      "image/png": "[encoded data removed]",
      "text/plain": [
       "<Figure size 432x288 with 1 Axes>"
      ]
     },
     "metadata": {
      "needs_background": "light"
     },
     "output_type": "display_data"
    }
   ],
   "source": [
    "plt.hist(df_coefs['surprisal_weighted'], label=\"weighted sampling\")\n",
    "plt.hist(df_coefs['surprisal_unweighted'], label=\"unweighted sampling\")\n",
    "plt.axvline(x=REAL_SURPRISAL_COEF, linestyle=\"dotted\")\n",
    "# plt.axvline(x=mean_random_slope, linestyle=\"dotted\", color=\"blue\")\n",
    "# plt.text(s=\"Real slope: {sl}\".format(sl=REAL_LENGTH_COEF),x=REAL_LENGTH_COEF, y=5)\n",
    "# plt.xlim(-.05, .05)\n",
    "plt.xlabel(\"Distribution of phonotactic coefficients\")\n",
    "plt.ylabel(\"Count\")\n",
    "plt.title(\"Slope coefficients for #homophones ~ #normalized surprisal\")\n",
    "plt.legend(loc='upper right')\n",
    "plt.show()"
   ]
  },
  {
   "cell_type": "code",
   "execution_count": null,
   "metadata": {},
   "outputs": [],
   "source": []
  }
 ],
 "metadata": {
  "kernelspec": {
   "display_name": "Python 3",
   "language": "python",
   "name": "python3"
  },
  "language_info": {
   "codemirror_mode": {
    "name": "ipython",
    "version": 3
   },
   "file_extension": ".py",
   "mimetype": "text/x-python",
   "name": "python",
   "nbconvert_exporter": "python",
   "pygments_lexer": "ipython3",
   "version": "3.7.1"
  }
 },
 "nbformat": 4,
 "nbformat_minor": 2
}
