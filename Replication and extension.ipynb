{
 "cells": [
  {
   "cell_type": "markdown",
   "metadata": {},
   "source": [
    "# Replicate Piantadosi et al (2012) across five languages\n",
    "\n",
    "**Sean Trott** and **Benjamin Bergen**\n",
    "\n",
    "Here, we ask whether word length (measured by `#syllables`) predicts `#homophones` across five languages. We also ask about the predictive power of `surprisal`, a measure of the phonotactic plausibility of a wordform. Following Piantadosi et al (2012), we normalized `surprisal` to the length (in `#phones`) of a wordform."
   ]
  },
  {
   "cell_type": "code",
   "execution_count": 1,
   "metadata": {},
   "outputs": [],
   "source": [
    "import os\n",
    "\n",
    "import pandas as pd\n",
    "import matplotlib.pyplot as plt\n",
    "import numpy as np\n",
    "import statsmodels.formula.api as sm\n",
    "import seaborn as sns\n",
    "from tqdm import tqdm\n",
    "\n",
    "import src.utils as utils\n",
    "import src.config as config\n",
    "\n",
    "from collections import Counter"
   ]
  },
  {
   "cell_type": "code",
   "execution_count": 2,
   "metadata": {},
   "outputs": [],
   "source": [
    "from mpl_toolkits.mplot3d import Axes3D"
   ]
  },
  {
   "cell_type": "code",
   "execution_count": 3,
   "metadata": {},
   "outputs": [],
   "source": [
    "%matplotlib inline\n",
    "%config InlineBackend.figure_format = 'retina' "
   ]
  },
  {
   "cell_type": "code",
   "execution_count": 43,
   "metadata": {},
   "outputs": [],
   "source": [
    "TARGET = 'num_homophones'\n",
    "COVARIATES = [\n",
    "    'surprisal_normed',\n",
    "    'num_sylls_est'\n",
    "]\n",
    "FORMULA = '{y} ~ {regressors}'.format(y=TARGET, regressors=' + '.join(COVARIATES))\n",
    "\n",
    "COVARIATES2 = [\n",
    "    'surprisal',\n",
    "    'num_sylls_est'\n",
    "]\n",
    "FORMULA2 = '{y} ~ {regressors}'.format(y=TARGET, regressors=' + '.join(COVARIATES2))\n"
   ]
  },
  {
   "cell_type": "markdown",
   "metadata": {},
   "source": [
    "## Replicate in English, German, and Dutch"
   ]
  },
  {
   "cell_type": "markdown",
   "metadata": {},
   "source": [
    "### English"
   ]
  },
  {
   "cell_type": "code",
   "execution_count": 44,
   "metadata": {},
   "outputs": [],
   "source": [
    "language = 'english'"
   ]
  },
  {
   "cell_type": "code",
   "execution_count": 45,
   "metadata": {},
   "outputs": [],
   "source": [
    "# Here, we ignore the artificial lexica\n",
    "df_og, df_processed, _ = utils.load_lexicons_for_language(\"english\")"
   ]
  },
  {
   "cell_type": "code",
   "execution_count": 46,
   "metadata": {},
   "outputs": [
    {
     "data": {
      "text/plain": [
       "52438"
      ]
     },
     "execution_count": 46,
     "metadata": {},
     "output_type": "execute_result"
    }
   ],
   "source": [
    "len(df_og)"
   ]
  },
  {
   "cell_type": "code",
   "execution_count": 47,
   "metadata": {},
   "outputs": [
    {
     "data": {
      "text/plain": [
       "35107"
      ]
     },
     "execution_count": 47,
     "metadata": {},
     "output_type": "execute_result"
    }
   ],
   "source": [
    "len(df_processed)"
   ]
  },
  {
   "cell_type": "code",
   "execution_count": 48,
   "metadata": {},
   "outputs": [
    {
     "data": {
      "text/plain": [
       "{'homophone_percentage': 0.1564,\n",
       " 'mean_homophones': 0.1931,\n",
       " 'max_homophones': 7,\n",
       " 'mean_mp': 2.5598,\n",
       " 'max_mp': 46,\n",
       " 'total_mp': 89868,\n",
       " 'mean_mp_w_hp': 4.3281,\n",
       " 'max_mp_w_hp': 127,\n",
       " 'total_mp_w_hp': 151948}"
      ]
     },
     "execution_count": 48,
     "metadata": {},
     "output_type": "execute_result"
    }
   ],
   "source": [
    "utils.get_stats_for_lexicon(df_processed)"
   ]
  },
  {
   "cell_type": "code",
   "execution_count": 49,
   "metadata": {},
   "outputs": [],
   "source": [
    "df_processed['surprisal_normed'] = df_processed['surprisal'] / df_processed['num_phones']"
   ]
  },
  {
   "cell_type": "code",
   "execution_count": 50,
   "metadata": {},
   "outputs": [
    {
     "data": {
      "text/plain": [
       "Counter({1: 7855,\n",
       "         2: 19198,\n",
       "         3: 15165,\n",
       "         4: 7124,\n",
       "         5: 2223,\n",
       "         6: 670,\n",
       "         7: 165,\n",
       "         8: 25,\n",
       "         10: 5,\n",
       "         9: 7,\n",
       "         12: 1})"
      ]
     },
     "execution_count": 50,
     "metadata": {},
     "output_type": "execute_result"
    }
   ],
   "source": [
    "Counter(df_og['num_sylls_est'])"
   ]
  },
  {
   "cell_type": "markdown",
   "metadata": {},
   "source": [
    "#### Main analysis"
   ]
  },
  {
   "cell_type": "code",
   "execution_count": 13,
   "metadata": {
    "scrolled": false
   },
   "outputs": [
    {
     "data": {
      "text/html": [
       "<table class=\"simpletable\">\n",
       "<caption>Poisson Regression Results</caption>\n",
       "<tr>\n",
       "  <th>Dep. Variable:</th>  <td>num_homophones</td>  <th>  No. Observations:  </th>  <td> 35107</td> \n",
       "</tr>\n",
       "<tr>\n",
       "  <th>Model:</th>              <td>Poisson</td>     <th>  Df Residuals:      </th>  <td> 35104</td> \n",
       "</tr>\n",
       "<tr>\n",
       "  <th>Method:</th>               <td>MLE</td>       <th>  Df Model:          </th>  <td>     2</td> \n",
       "</tr>\n",
       "<tr>\n",
       "  <th>Date:</th>          <td>Sun, 01 Dec 2019</td> <th>  Pseudo R-squ.:     </th>  <td>0.1427</td> \n",
       "</tr>\n",
       "<tr>\n",
       "  <th>Time:</th>              <td>10:35:08</td>     <th>  Log-Likelihood:    </th> <td> -16316.</td>\n",
       "</tr>\n",
       "<tr>\n",
       "  <th>converged:</th>           <td>True</td>       <th>  LL-Null:           </th> <td> -19033.</td>\n",
       "</tr>\n",
       "<tr>\n",
       "  <th> </th>                      <td> </td>        <th>  LLR p-value:       </th>  <td> 0.000</td> \n",
       "</tr>\n",
       "</table>\n",
       "<table class=\"simpletable\">\n",
       "<tr>\n",
       "          <td></td>            <th>coef</th>     <th>std err</th>      <th>z</th>      <th>P>|z|</th>  <th>[0.025</th>    <th>0.975]</th>  \n",
       "</tr>\n",
       "<tr>\n",
       "  <th>Intercept</th>        <td>   -0.8380</td> <td>    0.060</td> <td>  -13.990</td> <td> 0.000</td> <td>   -0.955</td> <td>   -0.721</td>\n",
       "</tr>\n",
       "<tr>\n",
       "  <th>surprisal_normed</th> <td>    0.7815</td> <td>    0.030</td> <td>   26.118</td> <td> 0.000</td> <td>    0.723</td> <td>    0.840</td>\n",
       "</tr>\n",
       "<tr>\n",
       "  <th>num_sylls_est</th>    <td>   -0.7171</td> <td>    0.018</td> <td>  -39.926</td> <td> 0.000</td> <td>   -0.752</td> <td>   -0.682</td>\n",
       "</tr>\n",
       "</table>"
      ],
      "text/plain": [
       "<class 'statsmodels.iolib.summary.Summary'>\n",
       "\"\"\"\n",
       "                          Poisson Regression Results                          \n",
       "==============================================================================\n",
       "Dep. Variable:         num_homophones   No. Observations:                35107\n",
       "Model:                        Poisson   Df Residuals:                    35104\n",
       "Method:                           MLE   Df Model:                            2\n",
       "Date:                Sun, 01 Dec 2019   Pseudo R-squ.:                  0.1427\n",
       "Time:                        10:35:08   Log-Likelihood:                -16316.\n",
       "converged:                       True   LL-Null:                       -19033.\n",
       "                                        LLR p-value:                     0.000\n",
       "====================================================================================\n",
       "                       coef    std err          z      P>|z|      [0.025      0.975]\n",
       "------------------------------------------------------------------------------------\n",
       "Intercept           -0.8380      0.060    -13.990      0.000      -0.955      -0.721\n",
       "surprisal_normed     0.7815      0.030     26.118      0.000       0.723       0.840\n",
       "num_sylls_est       -0.7171      0.018    -39.926      0.000      -0.752      -0.682\n",
       "====================================================================================\n",
       "\"\"\""
      ]
     },
     "execution_count": 13,
     "metadata": {},
     "output_type": "execute_result"
    }
   ],
   "source": [
    "result_real = sm.poisson(formula=FORMULA, \n",
    "                         data=df_processed).fit(disp=0)\n",
    "result_real.summary()"
   ]
  },
  {
   "cell_type": "code",
   "execution_count": 51,
   "metadata": {
    "scrolled": false
   },
   "outputs": [
    {
     "data": {
      "text/html": [
       "<table class=\"simpletable\">\n",
       "<caption>Poisson Regression Results</caption>\n",
       "<tr>\n",
       "  <th>Dep. Variable:</th>  <td>num_homophones</td>  <th>  No. Observations:  </th>  <td> 35107</td> \n",
       "</tr>\n",
       "<tr>\n",
       "  <th>Model:</th>              <td>Poisson</td>     <th>  Df Residuals:      </th>  <td> 35104</td> \n",
       "</tr>\n",
       "<tr>\n",
       "  <th>Method:</th>               <td>MLE</td>       <th>  Df Model:          </th>  <td>     2</td> \n",
       "</tr>\n",
       "<tr>\n",
       "  <th>Date:</th>          <td>Sun, 01 Dec 2019</td> <th>  Pseudo R-squ.:     </th>  <td>0.1316</td> \n",
       "</tr>\n",
       "<tr>\n",
       "  <th>Time:</th>              <td>10:46:54</td>     <th>  Log-Likelihood:    </th> <td> -16528.</td>\n",
       "</tr>\n",
       "<tr>\n",
       "  <th>converged:</th>           <td>True</td>       <th>  LL-Null:           </th> <td> -19033.</td>\n",
       "</tr>\n",
       "<tr>\n",
       "  <th> </th>                      <td> </td>        <th>  LLR p-value:       </th>  <td> 0.000</td> \n",
       "</tr>\n",
       "</table>\n",
       "<table class=\"simpletable\">\n",
       "<tr>\n",
       "        <td></td>           <th>coef</th>     <th>std err</th>      <th>z</th>      <th>P>|z|</th>  <th>[0.025</th>    <th>0.975]</th>  \n",
       "</tr>\n",
       "<tr>\n",
       "  <th>Intercept</th>     <td>    1.3085</td> <td>    0.122</td> <td>   10.736</td> <td> 0.000</td> <td>    1.070</td> <td>    1.547</td>\n",
       "</tr>\n",
       "<tr>\n",
       "  <th>surprisal</th>     <td>   -0.2036</td> <td>    0.028</td> <td>   -7.327</td> <td> 0.000</td> <td>   -0.258</td> <td>   -0.149</td>\n",
       "</tr>\n",
       "<tr>\n",
       "  <th>num_sylls_est</th> <td>   -0.8713</td> <td>    0.019</td> <td>  -45.227</td> <td> 0.000</td> <td>   -0.909</td> <td>   -0.834</td>\n",
       "</tr>\n",
       "</table>"
      ],
      "text/plain": [
       "<class 'statsmodels.iolib.summary.Summary'>\n",
       "\"\"\"\n",
       "                          Poisson Regression Results                          \n",
       "==============================================================================\n",
       "Dep. Variable:         num_homophones   No. Observations:                35107\n",
       "Model:                        Poisson   Df Residuals:                    35104\n",
       "Method:                           MLE   Df Model:                            2\n",
       "Date:                Sun, 01 Dec 2019   Pseudo R-squ.:                  0.1316\n",
       "Time:                        10:46:54   Log-Likelihood:                -16528.\n",
       "converged:                       True   LL-Null:                       -19033.\n",
       "                                        LLR p-value:                     0.000\n",
       "=================================================================================\n",
       "                    coef    std err          z      P>|z|      [0.025      0.975]\n",
       "---------------------------------------------------------------------------------\n",
       "Intercept         1.3085      0.122     10.736      0.000       1.070       1.547\n",
       "surprisal        -0.2036      0.028     -7.327      0.000      -0.258      -0.149\n",
       "num_sylls_est    -0.8713      0.019    -45.227      0.000      -0.909      -0.834\n",
       "=================================================================================\n",
       "\"\"\""
      ]
     },
     "execution_count": 51,
     "metadata": {},
     "output_type": "execute_result"
    }
   ],
   "source": [
    "result_real = sm.poisson(formula=FORMULA2, \n",
    "                         data=df_processed).fit(disp=0)\n",
    "result_real.summary()"
   ]
  },
  {
   "cell_type": "markdown",
   "metadata": {},
   "source": [
    "### German"
   ]
  },
  {
   "cell_type": "code",
   "execution_count": 84,
   "metadata": {},
   "outputs": [],
   "source": [
    "language = \"german\""
   ]
  },
  {
   "cell_type": "code",
   "execution_count": 85,
   "metadata": {},
   "outputs": [
    {
     "name": "stderr",
     "output_type": "stream",
     "text": [
      "/Users/seantrott/Dropbox/UCSD/Research/Ambiguity/Evolution/homophone_simulations/src/utils.py:36: SettingWithCopyWarning: \n",
      "A value is trying to be set on a copy of a slice from a DataFrame.\n",
      "Try using .loc[row_indexer,col_indexer] = value instead\n",
      "\n",
      "See the caveats in the documentation: http://pandas.pydata.org/pandas-docs/stable/indexing.html#indexing-view-versus-copy\n",
      "  df['remove'] = df[word_column].apply(remove_word)\n"
     ]
    }
   ],
   "source": [
    "# Here, we ignore the artificial lexica\n",
    "df_og, df_processed, _ = utils.load_lexicons_for_language(\"german\")"
   ]
  },
  {
   "cell_type": "code",
   "execution_count": 86,
   "metadata": {},
   "outputs": [
    {
     "data": {
      "text/plain": [
       "51719"
      ]
     },
     "execution_count": 86,
     "metadata": {},
     "output_type": "execute_result"
    }
   ],
   "source": [
    "len(df_og)"
   ]
  },
  {
   "cell_type": "code",
   "execution_count": 87,
   "metadata": {},
   "outputs": [
    {
     "data": {
      "text/plain": [
       "50474"
      ]
     },
     "execution_count": 87,
     "metadata": {},
     "output_type": "execute_result"
    }
   ],
   "source": [
    "len(df_processed)"
   ]
  },
  {
   "cell_type": "code",
   "execution_count": 88,
   "metadata": {},
   "outputs": [
    {
     "data": {
      "text/plain": [
       "{'homophone_percentage': 0.023,\n",
       " 'mean_homophones': 0.0246,\n",
       " 'max_homophones': 4,\n",
       " 'mean_mp': 1.0245,\n",
       " 'max_mp': 27,\n",
       " 'total_mp': 51713,\n",
       " 'mean_mp_w_hp': 1.1325,\n",
       " 'max_mp_w_hp': 40,\n",
       " 'total_mp_w_hp': 57160}"
      ]
     },
     "execution_count": 88,
     "metadata": {},
     "output_type": "execute_result"
    }
   ],
   "source": [
    "utils.get_stats_for_lexicon(df_processed)"
   ]
  },
  {
   "cell_type": "code",
   "execution_count": 89,
   "metadata": {},
   "outputs": [],
   "source": [
    "df_processed['surprisal_normed'] = df_processed['surprisal'] / df_processed['num_phones']"
   ]
  },
  {
   "cell_type": "markdown",
   "metadata": {},
   "source": [
    "#### Main analysis"
   ]
  },
  {
   "cell_type": "code",
   "execution_count": 20,
   "metadata": {
    "scrolled": false
   },
   "outputs": [
    {
     "data": {
      "text/html": [
       "<table class=\"simpletable\">\n",
       "<caption>Poisson Regression Results</caption>\n",
       "<tr>\n",
       "  <th>Dep. Variable:</th>  <td>num_homophones</td>  <th>  No. Observations:  </th>   <td> 50474</td>  \n",
       "</tr>\n",
       "<tr>\n",
       "  <th>Model:</th>              <td>Poisson</td>     <th>  Df Residuals:      </th>   <td> 50471</td>  \n",
       "</tr>\n",
       "<tr>\n",
       "  <th>Method:</th>               <td>MLE</td>       <th>  Df Model:          </th>   <td>     2</td>  \n",
       "</tr>\n",
       "<tr>\n",
       "  <th>Date:</th>          <td>Sun, 01 Dec 2019</td> <th>  Pseudo R-squ.:     </th>   <td>0.09039</td> \n",
       "</tr>\n",
       "<tr>\n",
       "  <th>Time:</th>              <td>10:37:53</td>     <th>  Log-Likelihood:    </th>  <td> -5382.1</td> \n",
       "</tr>\n",
       "<tr>\n",
       "  <th>converged:</th>           <td>True</td>       <th>  LL-Null:           </th>  <td> -5917.0</td> \n",
       "</tr>\n",
       "<tr>\n",
       "  <th> </th>                      <td> </td>        <th>  LLR p-value:       </th> <td>5.405e-233</td>\n",
       "</tr>\n",
       "</table>\n",
       "<table class=\"simpletable\">\n",
       "<tr>\n",
       "          <td></td>            <th>coef</th>     <th>std err</th>      <th>z</th>      <th>P>|z|</th>  <th>[0.025</th>    <th>0.975]</th>  \n",
       "</tr>\n",
       "<tr>\n",
       "  <th>Intercept</th>        <td>   -2.2375</td> <td>    0.134</td> <td>  -16.685</td> <td> 0.000</td> <td>   -2.500</td> <td>   -1.975</td>\n",
       "</tr>\n",
       "<tr>\n",
       "  <th>surprisal_normed</th> <td>    0.7177</td> <td>    0.064</td> <td>   11.191</td> <td> 0.000</td> <td>    0.592</td> <td>    0.843</td>\n",
       "</tr>\n",
       "<tr>\n",
       "  <th>num_sylls_est</th>    <td>   -0.7657</td> <td>    0.037</td> <td>  -20.537</td> <td> 0.000</td> <td>   -0.839</td> <td>   -0.693</td>\n",
       "</tr>\n",
       "</table>"
      ],
      "text/plain": [
       "<class 'statsmodels.iolib.summary.Summary'>\n",
       "\"\"\"\n",
       "                          Poisson Regression Results                          \n",
       "==============================================================================\n",
       "Dep. Variable:         num_homophones   No. Observations:                50474\n",
       "Model:                        Poisson   Df Residuals:                    50471\n",
       "Method:                           MLE   Df Model:                            2\n",
       "Date:                Sun, 01 Dec 2019   Pseudo R-squ.:                 0.09039\n",
       "Time:                        10:37:53   Log-Likelihood:                -5382.1\n",
       "converged:                       True   LL-Null:                       -5917.0\n",
       "                                        LLR p-value:                5.405e-233\n",
       "====================================================================================\n",
       "                       coef    std err          z      P>|z|      [0.025      0.975]\n",
       "------------------------------------------------------------------------------------\n",
       "Intercept           -2.2375      0.134    -16.685      0.000      -2.500      -1.975\n",
       "surprisal_normed     0.7177      0.064     11.191      0.000       0.592       0.843\n",
       "num_sylls_est       -0.7657      0.037    -20.537      0.000      -0.839      -0.693\n",
       "====================================================================================\n",
       "\"\"\""
      ]
     },
     "execution_count": 20,
     "metadata": {},
     "output_type": "execute_result"
    }
   ],
   "source": [
    "result_real = sm.poisson(formula=FORMULA, \n",
    "                         data=df_processed).fit(disp=0)\n",
    "result_real.summary()"
   ]
  },
  {
   "cell_type": "code",
   "execution_count": 58,
   "metadata": {
    "scrolled": false
   },
   "outputs": [
    {
     "data": {
      "text/html": [
       "<table class=\"simpletable\">\n",
       "<caption>Poisson Regression Results</caption>\n",
       "<tr>\n",
       "  <th>Dep. Variable:</th>  <td>num_homophones</td>  <th>  No. Observations:  </th>   <td> 50474</td>  \n",
       "</tr>\n",
       "<tr>\n",
       "  <th>Model:</th>              <td>Poisson</td>     <th>  Df Residuals:      </th>   <td> 50471</td>  \n",
       "</tr>\n",
       "<tr>\n",
       "  <th>Method:</th>               <td>MLE</td>       <th>  Df Model:          </th>   <td>     2</td>  \n",
       "</tr>\n",
       "<tr>\n",
       "  <th>Date:</th>          <td>Sun, 01 Dec 2019</td> <th>  Pseudo R-squ.:     </th>   <td>0.1181</td>  \n",
       "</tr>\n",
       "<tr>\n",
       "  <th>Time:</th>              <td>10:48:55</td>     <th>  Log-Likelihood:    </th>  <td> -5218.1</td> \n",
       "</tr>\n",
       "<tr>\n",
       "  <th>converged:</th>           <td>True</td>       <th>  LL-Null:           </th>  <td> -5917.0</td> \n",
       "</tr>\n",
       "<tr>\n",
       "  <th> </th>                      <td> </td>        <th>  LLR p-value:       </th> <td>3.242e-304</td>\n",
       "</tr>\n",
       "</table>\n",
       "<table class=\"simpletable\">\n",
       "<tr>\n",
       "        <td></td>           <th>coef</th>     <th>std err</th>      <th>z</th>      <th>P>|z|</th>  <th>[0.025</th>    <th>0.975]</th>  \n",
       "</tr>\n",
       "<tr>\n",
       "  <th>Intercept</th>     <td>    2.6886</td> <td>    0.219</td> <td>   12.297</td> <td> 0.000</td> <td>    2.260</td> <td>    3.117</td>\n",
       "</tr>\n",
       "<tr>\n",
       "  <th>surprisal</th>     <td>   -0.9284</td> <td>    0.049</td> <td>  -18.881</td> <td> 0.000</td> <td>   -1.025</td> <td>   -0.832</td>\n",
       "</tr>\n",
       "<tr>\n",
       "  <th>num_sylls_est</th> <td>   -0.4684</td> <td>    0.039</td> <td>  -11.922</td> <td> 0.000</td> <td>   -0.545</td> <td>   -0.391</td>\n",
       "</tr>\n",
       "</table>"
      ],
      "text/plain": [
       "<class 'statsmodels.iolib.summary.Summary'>\n",
       "\"\"\"\n",
       "                          Poisson Regression Results                          \n",
       "==============================================================================\n",
       "Dep. Variable:         num_homophones   No. Observations:                50474\n",
       "Model:                        Poisson   Df Residuals:                    50471\n",
       "Method:                           MLE   Df Model:                            2\n",
       "Date:                Sun, 01 Dec 2019   Pseudo R-squ.:                  0.1181\n",
       "Time:                        10:48:55   Log-Likelihood:                -5218.1\n",
       "converged:                       True   LL-Null:                       -5917.0\n",
       "                                        LLR p-value:                3.242e-304\n",
       "=================================================================================\n",
       "                    coef    std err          z      P>|z|      [0.025      0.975]\n",
       "---------------------------------------------------------------------------------\n",
       "Intercept         2.6886      0.219     12.297      0.000       2.260       3.117\n",
       "surprisal        -0.9284      0.049    -18.881      0.000      -1.025      -0.832\n",
       "num_sylls_est    -0.4684      0.039    -11.922      0.000      -0.545      -0.391\n",
       "=================================================================================\n",
       "\"\"\""
      ]
     },
     "execution_count": 58,
     "metadata": {},
     "output_type": "execute_result"
    }
   ],
   "source": [
    "result_real = sm.poisson(formula=FORMULA2, \n",
    "                         data=df_processed).fit(disp=0)\n",
    "result_real.summary()"
   ]
  },
  {
   "cell_type": "markdown",
   "metadata": {},
   "source": [
    "### Dutch"
   ]
  },
  {
   "cell_type": "code",
   "execution_count": 59,
   "metadata": {},
   "outputs": [],
   "source": [
    "language = 'dutch'"
   ]
  },
  {
   "cell_type": "code",
   "execution_count": 60,
   "metadata": {},
   "outputs": [],
   "source": [
    "# Here, we ignore the artificial lexica\n",
    "df_og, df_processed, _ = utils.load_lexicons_for_language(\"dutch\")"
   ]
  },
  {
   "cell_type": "code",
   "execution_count": 61,
   "metadata": {},
   "outputs": [
    {
     "data": {
      "text/plain": [
       "67910"
      ]
     },
     "execution_count": 61,
     "metadata": {},
     "output_type": "execute_result"
    }
   ],
   "source": [
    "len(df_og)"
   ]
  },
  {
   "cell_type": "code",
   "execution_count": 62,
   "metadata": {},
   "outputs": [
    {
     "data": {
      "text/plain": [
       "65351"
      ]
     },
     "execution_count": 62,
     "metadata": {},
     "output_type": "execute_result"
    }
   ],
   "source": [
    "len(df_processed)"
   ]
  },
  {
   "cell_type": "code",
   "execution_count": 63,
   "metadata": {},
   "outputs": [
    {
     "data": {
      "text/plain": [
       "{'homophone_percentage': 0.0292,\n",
       " 'mean_homophones': 0.0342,\n",
       " 'max_homophones': 5,\n",
       " 'mean_mp': 1.5185,\n",
       " 'max_mp': 43,\n",
       " 'total_mp': 99235,\n",
       " 'mean_mp_w_hp': 1.8802,\n",
       " 'max_mp_w_hp': 74,\n",
       " 'total_mp_w_hp': 122873}"
      ]
     },
     "execution_count": 63,
     "metadata": {},
     "output_type": "execute_result"
    }
   ],
   "source": [
    "utils.get_stats_for_lexicon(df_processed)"
   ]
  },
  {
   "cell_type": "code",
   "execution_count": 64,
   "metadata": {},
   "outputs": [],
   "source": [
    "df_processed['surprisal_normed'] = df_processed['surprisal'] / df_processed['num_phones']"
   ]
  },
  {
   "cell_type": "markdown",
   "metadata": {},
   "source": [
    "#### Main analysis"
   ]
  },
  {
   "cell_type": "code",
   "execution_count": 65,
   "metadata": {
    "scrolled": false
   },
   "outputs": [
    {
     "data": {
      "text/html": [
       "<table class=\"simpletable\">\n",
       "<caption>Poisson Regression Results</caption>\n",
       "<tr>\n",
       "  <th>Dep. Variable:</th>  <td>num_homophones</td>  <th>  No. Observations:  </th>  <td> 65351</td> \n",
       "</tr>\n",
       "<tr>\n",
       "  <th>Model:</th>              <td>Poisson</td>     <th>  Df Residuals:      </th>  <td> 65348</td> \n",
       "</tr>\n",
       "<tr>\n",
       "  <th>Method:</th>               <td>MLE</td>       <th>  Df Model:          </th>  <td>     2</td> \n",
       "</tr>\n",
       "<tr>\n",
       "  <th>Date:</th>          <td>Sun, 01 Dec 2019</td> <th>  Pseudo R-squ.:     </th>  <td>0.1866</td> \n",
       "</tr>\n",
       "<tr>\n",
       "  <th>Time:</th>              <td>10:49:33</td>     <th>  Log-Likelihood:    </th> <td> -8152.0</td>\n",
       "</tr>\n",
       "<tr>\n",
       "  <th>converged:</th>           <td>True</td>       <th>  LL-Null:           </th> <td> -10022.</td>\n",
       "</tr>\n",
       "<tr>\n",
       "  <th> </th>                      <td> </td>        <th>  LLR p-value:       </th>  <td> 0.000</td> \n",
       "</tr>\n",
       "</table>\n",
       "<table class=\"simpletable\">\n",
       "<tr>\n",
       "          <td></td>            <th>coef</th>     <th>std err</th>      <th>z</th>      <th>P>|z|</th>  <th>[0.025</th>    <th>0.975]</th>  \n",
       "</tr>\n",
       "<tr>\n",
       "  <th>Intercept</th>        <td>   -1.4618</td> <td>    0.095</td> <td>  -15.464</td> <td> 0.000</td> <td>   -1.647</td> <td>   -1.277</td>\n",
       "</tr>\n",
       "<tr>\n",
       "  <th>surprisal_normed</th> <td>    0.9182</td> <td>    0.039</td> <td>   23.701</td> <td> 0.000</td> <td>    0.842</td> <td>    0.994</td>\n",
       "</tr>\n",
       "<tr>\n",
       "  <th>num_sylls_est</th>    <td>   -1.1865</td> <td>    0.033</td> <td>  -36.466</td> <td> 0.000</td> <td>   -1.250</td> <td>   -1.123</td>\n",
       "</tr>\n",
       "</table>"
      ],
      "text/plain": [
       "<class 'statsmodels.iolib.summary.Summary'>\n",
       "\"\"\"\n",
       "                          Poisson Regression Results                          \n",
       "==============================================================================\n",
       "Dep. Variable:         num_homophones   No. Observations:                65351\n",
       "Model:                        Poisson   Df Residuals:                    65348\n",
       "Method:                           MLE   Df Model:                            2\n",
       "Date:                Sun, 01 Dec 2019   Pseudo R-squ.:                  0.1866\n",
       "Time:                        10:49:33   Log-Likelihood:                -8152.0\n",
       "converged:                       True   LL-Null:                       -10022.\n",
       "                                        LLR p-value:                     0.000\n",
       "====================================================================================\n",
       "                       coef    std err          z      P>|z|      [0.025      0.975]\n",
       "------------------------------------------------------------------------------------\n",
       "Intercept           -1.4618      0.095    -15.464      0.000      -1.647      -1.277\n",
       "surprisal_normed     0.9182      0.039     23.701      0.000       0.842       0.994\n",
       "num_sylls_est       -1.1865      0.033    -36.466      0.000      -1.250      -1.123\n",
       "====================================================================================\n",
       "\"\"\""
      ]
     },
     "execution_count": 65,
     "metadata": {},
     "output_type": "execute_result"
    }
   ],
   "source": [
    "result_real = sm.poisson(formula=FORMULA, \n",
    "                         data=df_processed).fit(disp=0)\n",
    "result_real.summary()"
   ]
  },
  {
   "cell_type": "code",
   "execution_count": 66,
   "metadata": {
    "scrolled": false
   },
   "outputs": [
    {
     "data": {
      "text/html": [
       "<table class=\"simpletable\">\n",
       "<caption>Poisson Regression Results</caption>\n",
       "<tr>\n",
       "  <th>Dep. Variable:</th>  <td>num_homophones</td>  <th>  No. Observations:  </th>  <td> 65351</td> \n",
       "</tr>\n",
       "<tr>\n",
       "  <th>Model:</th>              <td>Poisson</td>     <th>  Df Residuals:      </th>  <td> 65348</td> \n",
       "</tr>\n",
       "<tr>\n",
       "  <th>Method:</th>               <td>MLE</td>       <th>  Df Model:          </th>  <td>     2</td> \n",
       "</tr>\n",
       "<tr>\n",
       "  <th>Date:</th>          <td>Sun, 01 Dec 2019</td> <th>  Pseudo R-squ.:     </th>  <td>0.1929</td> \n",
       "</tr>\n",
       "<tr>\n",
       "  <th>Time:</th>              <td>10:49:36</td>     <th>  Log-Likelihood:    </th> <td> -8088.6</td>\n",
       "</tr>\n",
       "<tr>\n",
       "  <th>converged:</th>           <td>True</td>       <th>  LL-Null:           </th> <td> -10022.</td>\n",
       "</tr>\n",
       "<tr>\n",
       "  <th> </th>                      <td> </td>        <th>  LLR p-value:       </th>  <td> 0.000</td> \n",
       "</tr>\n",
       "</table>\n",
       "<table class=\"simpletable\">\n",
       "<tr>\n",
       "        <td></td>           <th>coef</th>     <th>std err</th>      <th>z</th>      <th>P>|z|</th>  <th>[0.025</th>    <th>0.975]</th>  \n",
       "</tr>\n",
       "<tr>\n",
       "  <th>Intercept</th>     <td>    3.0583</td> <td>    0.149</td> <td>   20.560</td> <td> 0.000</td> <td>    2.767</td> <td>    3.350</td>\n",
       "</tr>\n",
       "<tr>\n",
       "  <th>surprisal</th>     <td>   -0.7087</td> <td>    0.034</td> <td>  -20.932</td> <td> 0.000</td> <td>   -0.775</td> <td>   -0.642</td>\n",
       "</tr>\n",
       "<tr>\n",
       "  <th>num_sylls_est</th> <td>   -1.0644</td> <td>    0.035</td> <td>  -30.573</td> <td> 0.000</td> <td>   -1.133</td> <td>   -0.996</td>\n",
       "</tr>\n",
       "</table>"
      ],
      "text/plain": [
       "<class 'statsmodels.iolib.summary.Summary'>\n",
       "\"\"\"\n",
       "                          Poisson Regression Results                          \n",
       "==============================================================================\n",
       "Dep. Variable:         num_homophones   No. Observations:                65351\n",
       "Model:                        Poisson   Df Residuals:                    65348\n",
       "Method:                           MLE   Df Model:                            2\n",
       "Date:                Sun, 01 Dec 2019   Pseudo R-squ.:                  0.1929\n",
       "Time:                        10:49:36   Log-Likelihood:                -8088.6\n",
       "converged:                       True   LL-Null:                       -10022.\n",
       "                                        LLR p-value:                     0.000\n",
       "=================================================================================\n",
       "                    coef    std err          z      P>|z|      [0.025      0.975]\n",
       "---------------------------------------------------------------------------------\n",
       "Intercept         3.0583      0.149     20.560      0.000       2.767       3.350\n",
       "surprisal        -0.7087      0.034    -20.932      0.000      -0.775      -0.642\n",
       "num_sylls_est    -1.0644      0.035    -30.573      0.000      -1.133      -0.996\n",
       "=================================================================================\n",
       "\"\"\""
      ]
     },
     "execution_count": 66,
     "metadata": {},
     "output_type": "execute_result"
    }
   ],
   "source": [
    "result_real = sm.poisson(formula=FORMULA2, \n",
    "                         data=df_processed).fit(disp=0)\n",
    "result_real.summary()"
   ]
  },
  {
   "cell_type": "markdown",
   "metadata": {},
   "source": [
    "## Extend to French and Japanese"
   ]
  },
  {
   "cell_type": "markdown",
   "metadata": {},
   "source": [
    "### French"
   ]
  },
  {
   "cell_type": "code",
   "execution_count": 67,
   "metadata": {},
   "outputs": [],
   "source": [
    "language = \"french\""
   ]
  },
  {
   "cell_type": "code",
   "execution_count": 68,
   "metadata": {},
   "outputs": [],
   "source": [
    "# Here, we ignore the artificial lexica\n",
    "df_og, df_processed, _ = utils.load_lexicons_for_language(language,\n",
    "                                                         phon_column=config.PHON_COLUMN[language],\n",
    "                                                         word_column=config.WORD_COLUMN[language])"
   ]
  },
  {
   "cell_type": "code",
   "execution_count": 69,
   "metadata": {},
   "outputs": [
    {
     "data": {
      "text/plain": [
       "47310"
      ]
     },
     "execution_count": 69,
     "metadata": {},
     "output_type": "execute_result"
    }
   ],
   "source": [
    "len(df_og)"
   ]
  },
  {
   "cell_type": "code",
   "execution_count": 70,
   "metadata": {},
   "outputs": [
    {
     "data": {
      "text/plain": [
       "37278"
      ]
     },
     "execution_count": 70,
     "metadata": {},
     "output_type": "execute_result"
    }
   ],
   "source": [
    "len(df_processed)"
   ]
  },
  {
   "cell_type": "code",
   "execution_count": 71,
   "metadata": {},
   "outputs": [
    {
     "data": {
      "text/plain": [
       "{'homophone_percentage': 0.1434,\n",
       " 'mean_homophones': 0.1745,\n",
       " 'max_homophones': 12,\n",
       " 'mean_mp': 2.724,\n",
       " 'max_mp': 63,\n",
       " 'total_mp': 101547,\n",
       " 'mean_mp_w_hp': 4.0443,\n",
       " 'max_mp_w_hp': 141,\n",
       " 'total_mp_w_hp': 150763}"
      ]
     },
     "execution_count": 71,
     "metadata": {},
     "output_type": "execute_result"
    }
   ],
   "source": [
    "utils.get_stats_for_lexicon(df_processed)"
   ]
  },
  {
   "cell_type": "code",
   "execution_count": 72,
   "metadata": {},
   "outputs": [],
   "source": [
    "df_processed['surprisal_normed'] = df_processed['surprisal'] / df_processed['num_phones']"
   ]
  },
  {
   "cell_type": "markdown",
   "metadata": {},
   "source": [
    "#### Main analysis"
   ]
  },
  {
   "cell_type": "code",
   "execution_count": 73,
   "metadata": {
    "scrolled": false
   },
   "outputs": [
    {
     "data": {
      "text/html": [
       "<table class=\"simpletable\">\n",
       "<caption>Poisson Regression Results</caption>\n",
       "<tr>\n",
       "  <th>Dep. Variable:</th>  <td>num_homophones</td>  <th>  No. Observations:  </th>  <td> 37278</td> \n",
       "</tr>\n",
       "<tr>\n",
       "  <th>Model:</th>              <td>Poisson</td>     <th>  Df Residuals:      </th>  <td> 37275</td> \n",
       "</tr>\n",
       "<tr>\n",
       "  <th>Method:</th>               <td>MLE</td>       <th>  Df Model:          </th>  <td>     2</td> \n",
       "</tr>\n",
       "<tr>\n",
       "  <th>Date:</th>          <td>Sun, 01 Dec 2019</td> <th>  Pseudo R-squ.:     </th>  <td>0.05951</td>\n",
       "</tr>\n",
       "<tr>\n",
       "  <th>Time:</th>              <td>10:49:53</td>     <th>  Log-Likelihood:    </th> <td> -17749.</td>\n",
       "</tr>\n",
       "<tr>\n",
       "  <th>converged:</th>           <td>True</td>       <th>  LL-Null:           </th> <td> -18873.</td>\n",
       "</tr>\n",
       "<tr>\n",
       "  <th> </th>                      <td> </td>        <th>  LLR p-value:       </th>  <td> 0.000</td> \n",
       "</tr>\n",
       "</table>\n",
       "<table class=\"simpletable\">\n",
       "<tr>\n",
       "          <td></td>            <th>coef</th>     <th>std err</th>      <th>z</th>      <th>P>|z|</th>  <th>[0.025</th>    <th>0.975]</th>  \n",
       "</tr>\n",
       "<tr>\n",
       "  <th>Intercept</th>        <td>   -1.9335</td> <td>    0.060</td> <td>  -32.049</td> <td> 0.000</td> <td>   -2.052</td> <td>   -1.815</td>\n",
       "</tr>\n",
       "<tr>\n",
       "  <th>surprisal_normed</th> <td>    0.9234</td> <td>    0.029</td> <td>   32.310</td> <td> 0.000</td> <td>    0.867</td> <td>    0.979</td>\n",
       "</tr>\n",
       "<tr>\n",
       "  <th>num_sylls_est</th>    <td>   -0.2573</td> <td>    0.015</td> <td>  -17.206</td> <td> 0.000</td> <td>   -0.287</td> <td>   -0.228</td>\n",
       "</tr>\n",
       "</table>"
      ],
      "text/plain": [
       "<class 'statsmodels.iolib.summary.Summary'>\n",
       "\"\"\"\n",
       "                          Poisson Regression Results                          \n",
       "==============================================================================\n",
       "Dep. Variable:         num_homophones   No. Observations:                37278\n",
       "Model:                        Poisson   Df Residuals:                    37275\n",
       "Method:                           MLE   Df Model:                            2\n",
       "Date:                Sun, 01 Dec 2019   Pseudo R-squ.:                 0.05951\n",
       "Time:                        10:49:53   Log-Likelihood:                -17749.\n",
       "converged:                       True   LL-Null:                       -18873.\n",
       "                                        LLR p-value:                     0.000\n",
       "====================================================================================\n",
       "                       coef    std err          z      P>|z|      [0.025      0.975]\n",
       "------------------------------------------------------------------------------------\n",
       "Intercept           -1.9335      0.060    -32.049      0.000      -2.052      -1.815\n",
       "surprisal_normed     0.9234      0.029     32.310      0.000       0.867       0.979\n",
       "num_sylls_est       -0.2573      0.015    -17.206      0.000      -0.287      -0.228\n",
       "====================================================================================\n",
       "\"\"\""
      ]
     },
     "execution_count": 73,
     "metadata": {},
     "output_type": "execute_result"
    }
   ],
   "source": [
    "result_real = sm.poisson(formula=FORMULA, \n",
    "                         data=df_processed).fit(disp=0)\n",
    "result_real.summary()"
   ]
  },
  {
   "cell_type": "code",
   "execution_count": 74,
   "metadata": {
    "scrolled": false
   },
   "outputs": [
    {
     "data": {
      "text/html": [
       "<table class=\"simpletable\">\n",
       "<caption>Poisson Regression Results</caption>\n",
       "<tr>\n",
       "  <th>Dep. Variable:</th>  <td>num_homophones</td>  <th>  No. Observations:  </th>  <td> 37278</td> \n",
       "</tr>\n",
       "<tr>\n",
       "  <th>Model:</th>              <td>Poisson</td>     <th>  Df Residuals:      </th>  <td> 37275</td> \n",
       "</tr>\n",
       "<tr>\n",
       "  <th>Method:</th>               <td>MLE</td>       <th>  Df Model:          </th>  <td>     2</td> \n",
       "</tr>\n",
       "<tr>\n",
       "  <th>Date:</th>          <td>Sun, 01 Dec 2019</td> <th>  Pseudo R-squ.:     </th>  <td>0.05000</td>\n",
       "</tr>\n",
       "<tr>\n",
       "  <th>Time:</th>              <td>10:49:55</td>     <th>  Log-Likelihood:    </th> <td> -17929.</td>\n",
       "</tr>\n",
       "<tr>\n",
       "  <th>converged:</th>           <td>True</td>       <th>  LL-Null:           </th> <td> -18873.</td>\n",
       "</tr>\n",
       "<tr>\n",
       "  <th> </th>                      <td> </td>        <th>  LLR p-value:       </th>  <td> 0.000</td> \n",
       "</tr>\n",
       "</table>\n",
       "<table class=\"simpletable\">\n",
       "<tr>\n",
       "        <td></td>           <th>coef</th>     <th>std err</th>      <th>z</th>      <th>P>|z|</th>  <th>[0.025</th>    <th>0.975]</th>  \n",
       "</tr>\n",
       "<tr>\n",
       "  <th>Intercept</th>     <td>    1.1717</td> <td>    0.107</td> <td>   10.975</td> <td> 0.000</td> <td>    0.962</td> <td>    1.381</td>\n",
       "</tr>\n",
       "<tr>\n",
       "  <th>surprisal</th>     <td>   -0.3860</td> <td>    0.024</td> <td>  -16.009</td> <td> 0.000</td> <td>   -0.433</td> <td>   -0.339</td>\n",
       "</tr>\n",
       "<tr>\n",
       "  <th>num_sylls_est</th> <td>   -0.3333</td> <td>    0.016</td> <td>  -20.950</td> <td> 0.000</td> <td>   -0.364</td> <td>   -0.302</td>\n",
       "</tr>\n",
       "</table>"
      ],
      "text/plain": [
       "<class 'statsmodels.iolib.summary.Summary'>\n",
       "\"\"\"\n",
       "                          Poisson Regression Results                          \n",
       "==============================================================================\n",
       "Dep. Variable:         num_homophones   No. Observations:                37278\n",
       "Model:                        Poisson   Df Residuals:                    37275\n",
       "Method:                           MLE   Df Model:                            2\n",
       "Date:                Sun, 01 Dec 2019   Pseudo R-squ.:                 0.05000\n",
       "Time:                        10:49:55   Log-Likelihood:                -17929.\n",
       "converged:                       True   LL-Null:                       -18873.\n",
       "                                        LLR p-value:                     0.000\n",
       "=================================================================================\n",
       "                    coef    std err          z      P>|z|      [0.025      0.975]\n",
       "---------------------------------------------------------------------------------\n",
       "Intercept         1.1717      0.107     10.975      0.000       0.962       1.381\n",
       "surprisal        -0.3860      0.024    -16.009      0.000      -0.433      -0.339\n",
       "num_sylls_est    -0.3333      0.016    -20.950      0.000      -0.364      -0.302\n",
       "=================================================================================\n",
       "\"\"\""
      ]
     },
     "execution_count": 74,
     "metadata": {},
     "output_type": "execute_result"
    }
   ],
   "source": [
    "result_real = sm.poisson(formula=FORMULA2, \n",
    "                         data=df_processed).fit(disp=0)\n",
    "result_real.summary()"
   ]
  },
  {
   "cell_type": "markdown",
   "metadata": {},
   "source": [
    "### Japanese"
   ]
  },
  {
   "cell_type": "code",
   "execution_count": 92,
   "metadata": {},
   "outputs": [],
   "source": [
    "language = \"japanese\""
   ]
  },
  {
   "cell_type": "code",
   "execution_count": 93,
   "metadata": {},
   "outputs": [],
   "source": [
    "# Here, we ignore the artificial lexica\n",
    "df_og, df_processed, _ = utils.load_lexicons_for_language(language,\n",
    "                                                         phon_column=config.PHON_COLUMN[language],\n",
    "                                                         word_column=config.WORD_COLUMN[language])"
   ]
  },
  {
   "cell_type": "code",
   "execution_count": 94,
   "metadata": {},
   "outputs": [
    {
     "data": {
      "text/plain": [
       "51147"
      ]
     },
     "execution_count": 94,
     "metadata": {},
     "output_type": "execute_result"
    }
   ],
   "source": [
    "len(df_og)"
   ]
  },
  {
   "cell_type": "code",
   "execution_count": 95,
   "metadata": {},
   "outputs": [
    {
     "data": {
      "text/plain": [
       "40449"
      ]
     },
     "execution_count": 95,
     "metadata": {},
     "output_type": "execute_result"
    }
   ],
   "source": [
    "len(df_processed)"
   ]
  },
  {
   "cell_type": "code",
   "execution_count": 96,
   "metadata": {},
   "outputs": [
    {
     "data": {
      "text/plain": [
       "{'homophone_percentage': 0.1506,\n",
       " 'mean_homophones': 0.2645,\n",
       " 'max_homophones': 33,\n",
       " 'mean_mp': 4.7489,\n",
       " 'max_mp': 59,\n",
       " 'total_mp': 192090,\n",
       " 'mean_mp_w_hp': 9.4683,\n",
       " 'max_mp_w_hp': 356,\n",
       " 'total_mp_w_hp': 382984}"
      ]
     },
     "execution_count": 96,
     "metadata": {},
     "output_type": "execute_result"
    }
   ],
   "source": [
    "utils.get_stats_for_lexicon(df_processed)"
   ]
  },
  {
   "cell_type": "code",
   "execution_count": 97,
   "metadata": {},
   "outputs": [],
   "source": [
    "df_processed['surprisal_normed'] = df_processed['surprisal'] / df_processed['num_phones']"
   ]
  },
  {
   "cell_type": "code",
   "execution_count": null,
   "metadata": {},
   "outputs": [],
   "source": []
  },
  {
   "cell_type": "markdown",
   "metadata": {},
   "source": [
    "#### Main analysis"
   ]
  },
  {
   "cell_type": "code",
   "execution_count": 41,
   "metadata": {
    "scrolled": false
   },
   "outputs": [
    {
     "data": {
      "text/html": [
       "<table class=\"simpletable\">\n",
       "<caption>Poisson Regression Results</caption>\n",
       "<tr>\n",
       "  <th>Dep. Variable:</th>  <td>num_homophones</td>  <th>  No. Observations:  </th>  <td> 40449</td> \n",
       "</tr>\n",
       "<tr>\n",
       "  <th>Model:</th>              <td>Poisson</td>     <th>  Df Residuals:      </th>  <td> 40446</td> \n",
       "</tr>\n",
       "<tr>\n",
       "  <th>Method:</th>               <td>MLE</td>       <th>  Df Model:          </th>  <td>     2</td> \n",
       "</tr>\n",
       "<tr>\n",
       "  <th>Date:</th>          <td>Sun, 01 Dec 2019</td> <th>  Pseudo R-squ.:     </th>  <td>0.2042</td> \n",
       "</tr>\n",
       "<tr>\n",
       "  <th>Time:</th>              <td>10:38:52</td>     <th>  Log-Likelihood:    </th> <td> -24128.</td>\n",
       "</tr>\n",
       "<tr>\n",
       "  <th>converged:</th>           <td>True</td>       <th>  LL-Null:           </th> <td> -30318.</td>\n",
       "</tr>\n",
       "<tr>\n",
       "  <th> </th>                      <td> </td>        <th>  LLR p-value:       </th>  <td> 0.000</td> \n",
       "</tr>\n",
       "</table>\n",
       "<table class=\"simpletable\">\n",
       "<tr>\n",
       "          <td></td>            <th>coef</th>     <th>std err</th>      <th>z</th>      <th>P>|z|</th>  <th>[0.025</th>    <th>0.975]</th>  \n",
       "</tr>\n",
       "<tr>\n",
       "  <th>Intercept</th>        <td>    1.3538</td> <td>    0.058</td> <td>   23.439</td> <td> 0.000</td> <td>    1.241</td> <td>    1.467</td>\n",
       "</tr>\n",
       "<tr>\n",
       "  <th>surprisal_normed</th> <td>    0.3472</td> <td>    0.024</td> <td>   14.193</td> <td> 0.000</td> <td>    0.299</td> <td>    0.395</td>\n",
       "</tr>\n",
       "<tr>\n",
       "  <th>num_sylls_est</th>    <td>   -0.9041</td> <td>    0.013</td> <td>  -71.438</td> <td> 0.000</td> <td>   -0.929</td> <td>   -0.879</td>\n",
       "</tr>\n",
       "</table>"
      ],
      "text/plain": [
       "<class 'statsmodels.iolib.summary.Summary'>\n",
       "\"\"\"\n",
       "                          Poisson Regression Results                          \n",
       "==============================================================================\n",
       "Dep. Variable:         num_homophones   No. Observations:                40449\n",
       "Model:                        Poisson   Df Residuals:                    40446\n",
       "Method:                           MLE   Df Model:                            2\n",
       "Date:                Sun, 01 Dec 2019   Pseudo R-squ.:                  0.2042\n",
       "Time:                        10:38:52   Log-Likelihood:                -24128.\n",
       "converged:                       True   LL-Null:                       -30318.\n",
       "                                        LLR p-value:                     0.000\n",
       "====================================================================================\n",
       "                       coef    std err          z      P>|z|      [0.025      0.975]\n",
       "------------------------------------------------------------------------------------\n",
       "Intercept            1.3538      0.058     23.439      0.000       1.241       1.467\n",
       "surprisal_normed     0.3472      0.024     14.193      0.000       0.299       0.395\n",
       "num_sylls_est       -0.9041      0.013    -71.438      0.000      -0.929      -0.879\n",
       "====================================================================================\n",
       "\"\"\""
      ]
     },
     "execution_count": 41,
     "metadata": {},
     "output_type": "execute_result"
    }
   ],
   "source": [
    "result_real = sm.poisson(formula=FORMULA, \n",
    "                         data=df_processed).fit(disp=0)\n",
    "result_real.summary()"
   ]
  },
  {
   "cell_type": "code",
   "execution_count": 81,
   "metadata": {
    "scrolled": false
   },
   "outputs": [
    {
     "data": {
      "text/html": [
       "<table class=\"simpletable\">\n",
       "<caption>Poisson Regression Results</caption>\n",
       "<tr>\n",
       "  <th>Dep. Variable:</th>  <td>num_homophones</td>  <th>  No. Observations:  </th>  <td> 40449</td> \n",
       "</tr>\n",
       "<tr>\n",
       "  <th>Model:</th>              <td>Poisson</td>     <th>  Df Residuals:      </th>  <td> 40446</td> \n",
       "</tr>\n",
       "<tr>\n",
       "  <th>Method:</th>               <td>MLE</td>       <th>  Df Model:          </th>  <td>     2</td> \n",
       "</tr>\n",
       "<tr>\n",
       "  <th>Date:</th>          <td>Sun, 01 Dec 2019</td> <th>  Pseudo R-squ.:     </th>  <td>0.2370</td> \n",
       "</tr>\n",
       "<tr>\n",
       "  <th>Time:</th>              <td>10:51:08</td>     <th>  Log-Likelihood:    </th> <td> -23133.</td>\n",
       "</tr>\n",
       "<tr>\n",
       "  <th>converged:</th>           <td>True</td>       <th>  LL-Null:           </th> <td> -30318.</td>\n",
       "</tr>\n",
       "<tr>\n",
       "  <th> </th>                      <td> </td>        <th>  LLR p-value:       </th>  <td> 0.000</td> \n",
       "</tr>\n",
       "</table>\n",
       "<table class=\"simpletable\">\n",
       "<tr>\n",
       "        <td></td>           <th>coef</th>     <th>std err</th>      <th>z</th>      <th>P>|z|</th>  <th>[0.025</th>    <th>0.975]</th>  \n",
       "</tr>\n",
       "<tr>\n",
       "  <th>Intercept</th>     <td>    5.1821</td> <td>    0.079</td> <td>   65.415</td> <td> 0.000</td> <td>    5.027</td> <td>    5.337</td>\n",
       "</tr>\n",
       "<tr>\n",
       "  <th>surprisal</th>     <td>   -0.8771</td> <td>    0.019</td> <td>  -44.998</td> <td> 0.000</td> <td>   -0.915</td> <td>   -0.839</td>\n",
       "</tr>\n",
       "<tr>\n",
       "  <th>num_sylls_est</th> <td>   -0.5687</td> <td>    0.014</td> <td>  -40.425</td> <td> 0.000</td> <td>   -0.596</td> <td>   -0.541</td>\n",
       "</tr>\n",
       "</table>"
      ],
      "text/plain": [
       "<class 'statsmodels.iolib.summary.Summary'>\n",
       "\"\"\"\n",
       "                          Poisson Regression Results                          \n",
       "==============================================================================\n",
       "Dep. Variable:         num_homophones   No. Observations:                40449\n",
       "Model:                        Poisson   Df Residuals:                    40446\n",
       "Method:                           MLE   Df Model:                            2\n",
       "Date:                Sun, 01 Dec 2019   Pseudo R-squ.:                  0.2370\n",
       "Time:                        10:51:08   Log-Likelihood:                -23133.\n",
       "converged:                       True   LL-Null:                       -30318.\n",
       "                                        LLR p-value:                     0.000\n",
       "=================================================================================\n",
       "                    coef    std err          z      P>|z|      [0.025      0.975]\n",
       "---------------------------------------------------------------------------------\n",
       "Intercept         5.1821      0.079     65.415      0.000       5.027       5.337\n",
       "surprisal        -0.8771      0.019    -44.998      0.000      -0.915      -0.839\n",
       "num_sylls_est    -0.5687      0.014    -40.425      0.000      -0.596      -0.541\n",
       "=================================================================================\n",
       "\"\"\""
      ]
     },
     "execution_count": 81,
     "metadata": {},
     "output_type": "execute_result"
    }
   ],
   "source": [
    "result_real = sm.poisson(formula=FORMULA2, \n",
    "                         data=df_processed).fit(disp=0)\n",
    "result_real.summary()"
   ]
  },
  {
   "cell_type": "code",
   "execution_count": null,
   "metadata": {},
   "outputs": [],
   "source": []
  }
 ],
 "metadata": {
  "kernelspec": {
   "display_name": "Python 3",
   "language": "python",
   "name": "python3"
  },
  "language_info": {
   "codemirror_mode": {
    "name": "ipython",
    "version": 3
   },
   "file_extension": ".py",
   "mimetype": "text/x-python",
   "name": "python",
   "nbconvert_exporter": "python",
   "pygments_lexer": "ipython3",
   "version": "3.7.1"
  }
 },
 "nbformat": 4,
 "nbformat_minor": 2
}
