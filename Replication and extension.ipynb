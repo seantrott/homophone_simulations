{
 "cells": [
  {
   "cell_type": "markdown",
   "metadata": {},
   "source": [
    "# Replicate Piantadosi et al (2012) across five languages\n",
    "\n",
    "**Sean Trott** and **Benjamin Bergen**\n",
    "\n",
    "Here, we ask whether word length (measured by `#syllables`) predicts `#homophones` across five languages. We also ask about the predictive power of `surprisal`, a measure of the phonotactic plausibility of a wordform. Following Piantadosi et al (2012), we normalized `surprisal` to the length (in `#phones`) of a wordform."
   ]
  },
  {
   "cell_type": "code",
   "execution_count": 12,
   "metadata": {},
   "outputs": [],
   "source": [
    "import os\n",
    "\n",
    "import pandas as pd\n",
    "import matplotlib.pyplot as plt\n",
    "import numpy as np\n",
    "import statsmodels.formula.api as sm\n",
    "import seaborn as sns\n",
    "from tqdm import tqdm\n",
    "\n",
    "import src.utils as utils\n",
    "import src.config as config\n",
    "\n",
    "from collections import Counter"
   ]
  },
  {
   "cell_type": "code",
   "execution_count": 2,
   "metadata": {},
   "outputs": [],
   "source": [
    "from mpl_toolkits.mplot3d import Axes3D"
   ]
  },
  {
   "cell_type": "code",
   "execution_count": 3,
   "metadata": {},
   "outputs": [],
   "source": [
    "%matplotlib inline\n",
    "%config InlineBackend.figure_format = 'retina' "
   ]
  },
  {
   "cell_type": "code",
   "execution_count": 4,
   "metadata": {},
   "outputs": [],
   "source": [
    "TARGET = 'num_homophones'\n",
    "COVARIATES = [\n",
    "    'surprisal_normed',\n",
    "    'num_sylls_est'\n",
    "]\n",
    "FORMULA = '{y} ~ {regressors}'.format(y=TARGET, regressors=' + '.join(COVARIATES))\n",
    "\n",
    "COVARIATE_LABELS = [\n",
    "    'normalized surprisal', \n",
    "    '#syllables']\n",
    "\n",
    "LANGUAGE = 'English'"
   ]
  },
  {
   "cell_type": "code",
   "execution_count": 5,
   "metadata": {},
   "outputs": [],
   "source": [
    "def make_aggregated_plot(df, language, syl_column, homophone_column=\"num_homophones\",\n",
    "                        x_axis=\"#Syllables\", y_axis=\"#Homophones\"):\n",
    "    \n",
    "    language_upper = language[0].upper() + language[1:]\n",
    "    \n",
    "    \"\"\"\n",
    "    \n",
    "    df_agg_real = utils.agg_homophones_by_syllable(df_processed, \n",
    "                                          syl_column=syl_column, \n",
    "                                          homophone_column='num_homophones')\n",
    "    plt.errorbar(df_agg_real['num_sylls'], df_agg_real['mean_homophones'], \n",
    "                    yerr=df_agg_real['sem_homophones'], color=\"red\", ecolor=\"orange\")\n",
    "    \"\"\"\n",
    "    plt.title(\"{lan}: {y} by {x}\".format(lan=language_upper, y=y_axis, x=x_axis))\n",
    "    \n",
    "    sns.lineplot(data = df_processed,\n",
    "            x = syl_column,\n",
    "            y = homophone_column)\n",
    "    \n",
    "    plt.xlabel(x_axis)\n",
    "    plt.ylabel(y_axis)\n",
    "    \n",
    "    ### Set up directories\n",
    "    if not os.path.exists(\"Figures/{lan}/replication_results\".format(lan=language)):\n",
    "        print(\"Creating directory: Figures/{lan}/replication_results\".format(lan=language))\n",
    "        os.mkdir(\"Figures/{lan}/replication_results\".format(lan=language))\n",
    "    plt.savefig(\"Figures/{l1}/replication_results/{l2}_{y}_{x}.png\".format(l1=language,\n",
    "                                                                               l2=language,\n",
    "                                                                               y=y_axis,\n",
    "                                                                               x=x_axis),\n",
    "                dpi=300)"
   ]
  },
  {
   "cell_type": "markdown",
   "metadata": {},
   "source": [
    "## Replicate in English, German, and Dutch"
   ]
  },
  {
   "cell_type": "markdown",
   "metadata": {},
   "source": [
    "### English"
   ]
  },
  {
   "cell_type": "code",
   "execution_count": 6,
   "metadata": {},
   "outputs": [],
   "source": [
    "language = 'english'"
   ]
  },
  {
   "cell_type": "code",
   "execution_count": 7,
   "metadata": {},
   "outputs": [
    {
     "name": "stderr",
     "output_type": "stream",
     "text": [
      "/Users/seantrott/Dropbox/UCSD/Research/Ambiguity/Evolution/homophone_simulations/src/utils.py:36: SettingWithCopyWarning: \n",
      "A value is trying to be set on a copy of a slice from a DataFrame.\n",
      "Try using .loc[row_indexer,col_indexer] = value instead\n",
      "\n",
      "See the caveats in the documentation: http://pandas.pydata.org/pandas-docs/stable/indexing.html#indexing-view-versus-copy\n",
      "  df['remove'] = df[word_column].apply(remove_word)\n"
     ]
    }
   ],
   "source": [
    "# Here, we ignore the artificial lexica\n",
    "df_og, df_processed, _ = utils.load_lexicons_for_language(\"english\")"
   ]
  },
  {
   "cell_type": "code",
   "execution_count": 8,
   "metadata": {},
   "outputs": [
    {
     "data": {
      "text/plain": [
       "52438"
      ]
     },
     "execution_count": 8,
     "metadata": {},
     "output_type": "execute_result"
    }
   ],
   "source": [
    "len(df_og)"
   ]
  },
  {
   "cell_type": "code",
   "execution_count": 9,
   "metadata": {},
   "outputs": [
    {
     "data": {
      "text/plain": [
       "35107"
      ]
     },
     "execution_count": 9,
     "metadata": {},
     "output_type": "execute_result"
    }
   ],
   "source": [
    "len(df_processed)"
   ]
  },
  {
   "cell_type": "code",
   "execution_count": 10,
   "metadata": {},
   "outputs": [
    {
     "data": {
      "text/plain": [
       "{'homophone_percentage': 0.1564,\n",
       " 'mean_homophones': 0.1931,\n",
       " 'max_homophones': 7,\n",
       " 'mean_mp': 1.9914,\n",
       " 'max_mp': 35,\n",
       " 'total_mp': 69911,\n",
       " 'mean_mp_w_hp': 3.403,\n",
       " 'max_mp_w_hp': 98,\n",
       " 'total_mp_w_hp': 119469}"
      ]
     },
     "execution_count": 10,
     "metadata": {},
     "output_type": "execute_result"
    }
   ],
   "source": [
    "utils.get_stats_for_lexicon(df_processed)"
   ]
  },
  {
   "cell_type": "code",
   "execution_count": 11,
   "metadata": {},
   "outputs": [],
   "source": [
    "df_processed['surprisal_normed'] = df_processed['surprisal'] / df_processed['num_phones']"
   ]
  },
  {
   "cell_type": "code",
   "execution_count": 14,
   "metadata": {},
   "outputs": [
    {
     "data": {
      "text/plain": [
       "Counter({1: 7855,\n",
       "         2: 19198,\n",
       "         3: 15165,\n",
       "         4: 7124,\n",
       "         5: 2223,\n",
       "         6: 670,\n",
       "         7: 165,\n",
       "         8: 25,\n",
       "         10: 5,\n",
       "         9: 7,\n",
       "         12: 1})"
      ]
     },
     "execution_count": 14,
     "metadata": {},
     "output_type": "execute_result"
    }
   ],
   "source": [
    "Counter(df_og['num_sylls_est'])"
   ]
  },
  {
   "cell_type": "markdown",
   "metadata": {},
   "source": [
    "#### Main analysis"
   ]
  },
  {
   "cell_type": "code",
   "execution_count": 15,
   "metadata": {
    "scrolled": false
   },
   "outputs": [
    {
     "data": {
      "text/html": [
       "<table class=\"simpletable\">\n",
       "<caption>Poisson Regression Results</caption>\n",
       "<tr>\n",
       "  <th>Dep. Variable:</th>  <td>num_homophones</td>  <th>  No. Observations:  </th>  <td> 35107</td> \n",
       "</tr>\n",
       "<tr>\n",
       "  <th>Model:</th>              <td>Poisson</td>     <th>  Df Residuals:      </th>  <td> 35104</td> \n",
       "</tr>\n",
       "<tr>\n",
       "  <th>Method:</th>               <td>MLE</td>       <th>  Df Model:          </th>  <td>     2</td> \n",
       "</tr>\n",
       "<tr>\n",
       "  <th>Date:</th>          <td>Fri, 01 Nov 2019</td> <th>  Pseudo R-squ.:     </th>  <td>0.1427</td> \n",
       "</tr>\n",
       "<tr>\n",
       "  <th>Time:</th>              <td>14:26:15</td>     <th>  Log-Likelihood:    </th> <td> -16316.</td>\n",
       "</tr>\n",
       "<tr>\n",
       "  <th>converged:</th>           <td>True</td>       <th>  LL-Null:           </th> <td> -19033.</td>\n",
       "</tr>\n",
       "<tr>\n",
       "  <th> </th>                      <td> </td>        <th>  LLR p-value:       </th>  <td> 0.000</td> \n",
       "</tr>\n",
       "</table>\n",
       "<table class=\"simpletable\">\n",
       "<tr>\n",
       "          <td></td>            <th>coef</th>     <th>std err</th>      <th>z</th>      <th>P>|z|</th>  <th>[0.025</th>    <th>0.975]</th>  \n",
       "</tr>\n",
       "<tr>\n",
       "  <th>Intercept</th>        <td>   -0.8380</td> <td>    0.060</td> <td>  -13.990</td> <td> 0.000</td> <td>   -0.955</td> <td>   -0.721</td>\n",
       "</tr>\n",
       "<tr>\n",
       "  <th>surprisal_normed</th> <td>    0.7815</td> <td>    0.030</td> <td>   26.118</td> <td> 0.000</td> <td>    0.723</td> <td>    0.840</td>\n",
       "</tr>\n",
       "<tr>\n",
       "  <th>num_sylls_est</th>    <td>   -0.7171</td> <td>    0.018</td> <td>  -39.926</td> <td> 0.000</td> <td>   -0.752</td> <td>   -0.682</td>\n",
       "</tr>\n",
       "</table>"
      ],
      "text/plain": [
       "<class 'statsmodels.iolib.summary.Summary'>\n",
       "\"\"\"\n",
       "                          Poisson Regression Results                          \n",
       "==============================================================================\n",
       "Dep. Variable:         num_homophones   No. Observations:                35107\n",
       "Model:                        Poisson   Df Residuals:                    35104\n",
       "Method:                           MLE   Df Model:                            2\n",
       "Date:                Fri, 01 Nov 2019   Pseudo R-squ.:                  0.1427\n",
       "Time:                        14:26:15   Log-Likelihood:                -16316.\n",
       "converged:                       True   LL-Null:                       -19033.\n",
       "                                        LLR p-value:                     0.000\n",
       "====================================================================================\n",
       "                       coef    std err          z      P>|z|      [0.025      0.975]\n",
       "------------------------------------------------------------------------------------\n",
       "Intercept           -0.8380      0.060    -13.990      0.000      -0.955      -0.721\n",
       "surprisal_normed     0.7815      0.030     26.118      0.000       0.723       0.840\n",
       "num_sylls_est       -0.7171      0.018    -39.926      0.000      -0.752      -0.682\n",
       "====================================================================================\n",
       "\"\"\""
      ]
     },
     "execution_count": 15,
     "metadata": {},
     "output_type": "execute_result"
    }
   ],
   "source": [
    "result_real = sm.poisson(formula=FORMULA, \n",
    "                         data=df_processed).fit(disp=0)\n",
    "result_real.summary()"
   ]
  },
  {
   "cell_type": "markdown",
   "metadata": {},
   "source": [
    "#### Visualization"
   ]
  },
  {
   "cell_type": "code",
   "execution_count": 16,
   "metadata": {
    "scrolled": false
   },
   "outputs": [
    {
     "name": "stderr",
     "output_type": "stream",
     "text": [
      "/Users/seantrott/anaconda3/lib/python3.7/site-packages/scipy/stats/stats.py:1713: FutureWarning: Using a non-tuple sequence for multidimensional indexing is deprecated; use `arr[tuple(seq)]` instead of `arr[seq]`. In the future this will be interpreted as an array index, `arr[np.array(seq)]`, which will result either in an error or a different result.\n",
      "  return np.add.reduce(sorted[indexer] * weights, axis=axis) / sumval\n"
     ]
    },
    {
     "data": {
      "image/png": "[encoded data removed]",
      "text/plain": [
       "<Figure size 432x288 with 1 Axes>"
      ]
     },
     "metadata": {
      "image/png": {
       "height": 277,
       "width": 387
      },
      "needs_background": "light"
     },
     "output_type": "display_data"
    }
   ],
   "source": [
    "make_aggregated_plot(df_processed,\n",
    "                    language='english',\n",
    "                    syl_column=\"num_sylls_est\",\n",
    "                    homophone_column=\"num_homophones\",\n",
    "                    x_axis=\"#Syllables\")"
   ]
  },
  {
   "cell_type": "markdown",
   "metadata": {},
   "source": [
    "### German"
   ]
  },
  {
   "cell_type": "code",
   "execution_count": 42,
   "metadata": {},
   "outputs": [],
   "source": [
    "language = \"german\""
   ]
  },
  {
   "cell_type": "code",
   "execution_count": 43,
   "metadata": {},
   "outputs": [
    {
     "name": "stderr",
     "output_type": "stream",
     "text": [
      "/Users/seantrott/Dropbox/UCSD/Research/Ambiguity/Evolution/homophone_simulations/src/utils.py:36: SettingWithCopyWarning: \n",
      "A value is trying to be set on a copy of a slice from a DataFrame.\n",
      "Try using .loc[row_indexer,col_indexer] = value instead\n",
      "\n",
      "See the caveats in the documentation: http://pandas.pydata.org/pandas-docs/stable/indexing.html#indexing-view-versus-copy\n",
      "  df['remove'] = df[word_column].apply(remove_word)\n"
     ]
    }
   ],
   "source": [
    "# Here, we ignore the artificial lexica\n",
    "df_og, df_processed, _ = utils.load_lexicons_for_language(\"german\")"
   ]
  },
  {
   "cell_type": "code",
   "execution_count": 44,
   "metadata": {},
   "outputs": [
    {
     "data": {
      "text/plain": [
       "51719"
      ]
     },
     "execution_count": 44,
     "metadata": {},
     "output_type": "execute_result"
    }
   ],
   "source": [
    "len(df_og)"
   ]
  },
  {
   "cell_type": "code",
   "execution_count": 45,
   "metadata": {},
   "outputs": [
    {
     "data": {
      "text/plain": [
       "50474"
      ]
     },
     "execution_count": 45,
     "metadata": {},
     "output_type": "execute_result"
    }
   ],
   "source": [
    "len(df_processed)"
   ]
  },
  {
   "cell_type": "code",
   "execution_count": 46,
   "metadata": {},
   "outputs": [
    {
     "data": {
      "text/plain": [
       "{'homophone_percentage': 0.023,\n",
       " 'mean_homophones': 0.0246,\n",
       " 'max_homophones': 4,\n",
       " 'mean_mp': 0.7739,\n",
       " 'max_mp': 21,\n",
       " 'total_mp': 39061,\n",
       " 'mean_mp_w_hp': 0.8549,\n",
       " 'max_mp_w_hp': 29,\n",
       " 'total_mp_w_hp': 43149}"
      ]
     },
     "execution_count": 46,
     "metadata": {},
     "output_type": "execute_result"
    }
   ],
   "source": [
    "utils.get_stats_for_lexicon(df_processed)"
   ]
  },
  {
   "cell_type": "code",
   "execution_count": 47,
   "metadata": {},
   "outputs": [],
   "source": [
    "df_processed['surprisal_normed'] = df_processed['surprisal'] / df_processed['num_phones']"
   ]
  },
  {
   "cell_type": "markdown",
   "metadata": {},
   "source": [
    "#### Main analysis"
   ]
  },
  {
   "cell_type": "code",
   "execution_count": 48,
   "metadata": {
    "scrolled": false
   },
   "outputs": [
    {
     "data": {
      "text/html": [
       "<table class=\"simpletable\">\n",
       "<caption>Poisson Regression Results</caption>\n",
       "<tr>\n",
       "  <th>Dep. Variable:</th>  <td>num_homophones</td>  <th>  No. Observations:  </th>   <td> 50474</td>  \n",
       "</tr>\n",
       "<tr>\n",
       "  <th>Model:</th>              <td>Poisson</td>     <th>  Df Residuals:      </th>   <td> 50471</td>  \n",
       "</tr>\n",
       "<tr>\n",
       "  <th>Method:</th>               <td>MLE</td>       <th>  Df Model:          </th>   <td>     2</td>  \n",
       "</tr>\n",
       "<tr>\n",
       "  <th>Date:</th>          <td>Fri, 01 Nov 2019</td> <th>  Pseudo R-squ.:     </th>   <td>0.09039</td> \n",
       "</tr>\n",
       "<tr>\n",
       "  <th>Time:</th>              <td>14:30:48</td>     <th>  Log-Likelihood:    </th>  <td> -5382.1</td> \n",
       "</tr>\n",
       "<tr>\n",
       "  <th>converged:</th>           <td>True</td>       <th>  LL-Null:           </th>  <td> -5917.0</td> \n",
       "</tr>\n",
       "<tr>\n",
       "  <th> </th>                      <td> </td>        <th>  LLR p-value:       </th> <td>5.405e-233</td>\n",
       "</tr>\n",
       "</table>\n",
       "<table class=\"simpletable\">\n",
       "<tr>\n",
       "          <td></td>            <th>coef</th>     <th>std err</th>      <th>z</th>      <th>P>|z|</th>  <th>[0.025</th>    <th>0.975]</th>  \n",
       "</tr>\n",
       "<tr>\n",
       "  <th>Intercept</th>        <td>   -2.2375</td> <td>    0.134</td> <td>  -16.685</td> <td> 0.000</td> <td>   -2.500</td> <td>   -1.975</td>\n",
       "</tr>\n",
       "<tr>\n",
       "  <th>surprisal_normed</th> <td>    0.7177</td> <td>    0.064</td> <td>   11.191</td> <td> 0.000</td> <td>    0.592</td> <td>    0.843</td>\n",
       "</tr>\n",
       "<tr>\n",
       "  <th>num_sylls_est</th>    <td>   -0.7657</td> <td>    0.037</td> <td>  -20.537</td> <td> 0.000</td> <td>   -0.839</td> <td>   -0.693</td>\n",
       "</tr>\n",
       "</table>"
      ],
      "text/plain": [
       "<class 'statsmodels.iolib.summary.Summary'>\n",
       "\"\"\"\n",
       "                          Poisson Regression Results                          \n",
       "==============================================================================\n",
       "Dep. Variable:         num_homophones   No. Observations:                50474\n",
       "Model:                        Poisson   Df Residuals:                    50471\n",
       "Method:                           MLE   Df Model:                            2\n",
       "Date:                Fri, 01 Nov 2019   Pseudo R-squ.:                 0.09039\n",
       "Time:                        14:30:48   Log-Likelihood:                -5382.1\n",
       "converged:                       True   LL-Null:                       -5917.0\n",
       "                                        LLR p-value:                5.405e-233\n",
       "====================================================================================\n",
       "                       coef    std err          z      P>|z|      [0.025      0.975]\n",
       "------------------------------------------------------------------------------------\n",
       "Intercept           -2.2375      0.134    -16.685      0.000      -2.500      -1.975\n",
       "surprisal_normed     0.7177      0.064     11.191      0.000       0.592       0.843\n",
       "num_sylls_est       -0.7657      0.037    -20.537      0.000      -0.839      -0.693\n",
       "====================================================================================\n",
       "\"\"\""
      ]
     },
     "execution_count": 48,
     "metadata": {},
     "output_type": "execute_result"
    }
   ],
   "source": [
    "result_real = sm.poisson(formula=FORMULA, \n",
    "                         data=df_processed).fit(disp=0)\n",
    "result_real.summary()"
   ]
  },
  {
   "cell_type": "markdown",
   "metadata": {},
   "source": [
    "#### Visualization"
   ]
  },
  {
   "cell_type": "code",
   "execution_count": 49,
   "metadata": {
    "scrolled": false
   },
   "outputs": [
    {
     "data": {
      "image/png": "[encoded data removed]",
      "text/plain": [
       "<Figure size 432x288 with 1 Axes>"
      ]
     },
     "metadata": {
      "image/png": {
       "height": 277,
       "width": 393
      },
      "needs_background": "light"
     },
     "output_type": "display_data"
    }
   ],
   "source": [
    "make_aggregated_plot(df_processed,\n",
    "                    language='german',\n",
    "                    syl_column=\"num_sylls_est\",\n",
    "                    homophone_column=\"num_homophones\",\n",
    "                    x_axis=\"#Syllables\")"
   ]
  },
  {
   "cell_type": "markdown",
   "metadata": {},
   "source": [
    "### Dutch"
   ]
  },
  {
   "cell_type": "code",
   "execution_count": 50,
   "metadata": {},
   "outputs": [],
   "source": [
    "language = 'dutch'"
   ]
  },
  {
   "cell_type": "code",
   "execution_count": 51,
   "metadata": {},
   "outputs": [],
   "source": [
    "# Here, we ignore the artificial lexica\n",
    "df_og, df_processed, _ = utils.load_lexicons_for_language(\"dutch\")"
   ]
  },
  {
   "cell_type": "code",
   "execution_count": 52,
   "metadata": {},
   "outputs": [
    {
     "data": {
      "text/plain": [
       "67910"
      ]
     },
     "execution_count": 52,
     "metadata": {},
     "output_type": "execute_result"
    }
   ],
   "source": [
    "len(df_og)"
   ]
  },
  {
   "cell_type": "code",
   "execution_count": 53,
   "metadata": {},
   "outputs": [
    {
     "data": {
      "text/plain": [
       "65351"
      ]
     },
     "execution_count": 53,
     "metadata": {},
     "output_type": "execute_result"
    }
   ],
   "source": [
    "len(df_processed)"
   ]
  },
  {
   "cell_type": "code",
   "execution_count": 54,
   "metadata": {},
   "outputs": [
    {
     "data": {
      "text/plain": [
       "{'homophone_percentage': 0.0292,\n",
       " 'mean_homophones': 0.0342,\n",
       " 'max_homophones': 5,\n",
       " 'mean_mp': 1.1584,\n",
       " 'max_mp': 35,\n",
       " 'total_mp': 75701,\n",
       " 'mean_mp_w_hp': 1.4446,\n",
       " 'max_mp_w_hp': 64,\n",
       " 'total_mp_w_hp': 94405}"
      ]
     },
     "execution_count": 54,
     "metadata": {},
     "output_type": "execute_result"
    }
   ],
   "source": [
    "utils.get_stats_for_lexicon(df_processed)"
   ]
  },
  {
   "cell_type": "code",
   "execution_count": 55,
   "metadata": {},
   "outputs": [],
   "source": [
    "df_processed['surprisal_normed'] = df_processed['surprisal'] / df_processed['num_phones']"
   ]
  },
  {
   "cell_type": "markdown",
   "metadata": {},
   "source": [
    "#### Main analysis"
   ]
  },
  {
   "cell_type": "code",
   "execution_count": 56,
   "metadata": {
    "scrolled": false
   },
   "outputs": [
    {
     "data": {
      "text/html": [
       "<table class=\"simpletable\">\n",
       "<caption>Poisson Regression Results</caption>\n",
       "<tr>\n",
       "  <th>Dep. Variable:</th>  <td>num_homophones</td>  <th>  No. Observations:  </th>  <td> 65351</td> \n",
       "</tr>\n",
       "<tr>\n",
       "  <th>Model:</th>              <td>Poisson</td>     <th>  Df Residuals:      </th>  <td> 65348</td> \n",
       "</tr>\n",
       "<tr>\n",
       "  <th>Method:</th>               <td>MLE</td>       <th>  Df Model:          </th>  <td>     2</td> \n",
       "</tr>\n",
       "<tr>\n",
       "  <th>Date:</th>          <td>Fri, 01 Nov 2019</td> <th>  Pseudo R-squ.:     </th>  <td>0.1866</td> \n",
       "</tr>\n",
       "<tr>\n",
       "  <th>Time:</th>              <td>14:31:10</td>     <th>  Log-Likelihood:    </th> <td> -8152.0</td>\n",
       "</tr>\n",
       "<tr>\n",
       "  <th>converged:</th>           <td>True</td>       <th>  LL-Null:           </th> <td> -10022.</td>\n",
       "</tr>\n",
       "<tr>\n",
       "  <th> </th>                      <td> </td>        <th>  LLR p-value:       </th>  <td> 0.000</td> \n",
       "</tr>\n",
       "</table>\n",
       "<table class=\"simpletable\">\n",
       "<tr>\n",
       "          <td></td>            <th>coef</th>     <th>std err</th>      <th>z</th>      <th>P>|z|</th>  <th>[0.025</th>    <th>0.975]</th>  \n",
       "</tr>\n",
       "<tr>\n",
       "  <th>Intercept</th>        <td>   -1.4618</td> <td>    0.095</td> <td>  -15.464</td> <td> 0.000</td> <td>   -1.647</td> <td>   -1.277</td>\n",
       "</tr>\n",
       "<tr>\n",
       "  <th>surprisal_normed</th> <td>    0.9182</td> <td>    0.039</td> <td>   23.701</td> <td> 0.000</td> <td>    0.842</td> <td>    0.994</td>\n",
       "</tr>\n",
       "<tr>\n",
       "  <th>num_sylls_est</th>    <td>   -1.1865</td> <td>    0.033</td> <td>  -36.466</td> <td> 0.000</td> <td>   -1.250</td> <td>   -1.123</td>\n",
       "</tr>\n",
       "</table>"
      ],
      "text/plain": [
       "<class 'statsmodels.iolib.summary.Summary'>\n",
       "\"\"\"\n",
       "                          Poisson Regression Results                          \n",
       "==============================================================================\n",
       "Dep. Variable:         num_homophones   No. Observations:                65351\n",
       "Model:                        Poisson   Df Residuals:                    65348\n",
       "Method:                           MLE   Df Model:                            2\n",
       "Date:                Fri, 01 Nov 2019   Pseudo R-squ.:                  0.1866\n",
       "Time:                        14:31:10   Log-Likelihood:                -8152.0\n",
       "converged:                       True   LL-Null:                       -10022.\n",
       "                                        LLR p-value:                     0.000\n",
       "====================================================================================\n",
       "                       coef    std err          z      P>|z|      [0.025      0.975]\n",
       "------------------------------------------------------------------------------------\n",
       "Intercept           -1.4618      0.095    -15.464      0.000      -1.647      -1.277\n",
       "surprisal_normed     0.9182      0.039     23.701      0.000       0.842       0.994\n",
       "num_sylls_est       -1.1865      0.033    -36.466      0.000      -1.250      -1.123\n",
       "====================================================================================\n",
       "\"\"\""
      ]
     },
     "execution_count": 56,
     "metadata": {},
     "output_type": "execute_result"
    }
   ],
   "source": [
    "result_real = sm.poisson(formula=FORMULA, \n",
    "                         data=df_processed).fit(disp=0)\n",
    "result_real.summary()"
   ]
  },
  {
   "cell_type": "markdown",
   "metadata": {},
   "source": [
    "#### Visualization"
   ]
  },
  {
   "cell_type": "code",
   "execution_count": 57,
   "metadata": {
    "scrolled": true
   },
   "outputs": [
    {
     "data": {
      "image/png": "[encoded data removed]",
      "text/plain": [
       "<Figure size 432x288 with 1 Axes>"
      ]
     },
     "metadata": {
      "image/png": {
       "height": 277,
       "width": 393
      },
      "needs_background": "light"
     },
     "output_type": "display_data"
    }
   ],
   "source": [
    "make_aggregated_plot(df_processed,\n",
    "                    language='dutch',\n",
    "                    syl_column=\"num_sylls_est\",\n",
    "                    homophone_column=\"num_homophones\",\n",
    "                    x_axis=\"#Syllables\")"
   ]
  },
  {
   "cell_type": "markdown",
   "metadata": {},
   "source": [
    "## Extend to French and Japanese"
   ]
  },
  {
   "cell_type": "markdown",
   "metadata": {},
   "source": [
    "### French"
   ]
  },
  {
   "cell_type": "code",
   "execution_count": 59,
   "metadata": {},
   "outputs": [],
   "source": [
    "language = \"french\""
   ]
  },
  {
   "cell_type": "code",
   "execution_count": 60,
   "metadata": {},
   "outputs": [],
   "source": [
    "# Here, we ignore the artificial lexica\n",
    "df_og, df_processed, _ = utils.load_lexicons_for_language(language,\n",
    "                                                         phon_column=config.PHON_COLUMN[language],\n",
    "                                                         word_column=config.WORD_COLUMN[language])"
   ]
  },
  {
   "cell_type": "code",
   "execution_count": 61,
   "metadata": {},
   "outputs": [
    {
     "data": {
      "text/plain": [
       "47310"
      ]
     },
     "execution_count": 61,
     "metadata": {},
     "output_type": "execute_result"
    }
   ],
   "source": [
    "len(df_og)"
   ]
  },
  {
   "cell_type": "code",
   "execution_count": 62,
   "metadata": {},
   "outputs": [
    {
     "data": {
      "text/plain": [
       "37278"
      ]
     },
     "execution_count": 62,
     "metadata": {},
     "output_type": "execute_result"
    }
   ],
   "source": [
    "len(df_processed)"
   ]
  },
  {
   "cell_type": "code",
   "execution_count": 63,
   "metadata": {},
   "outputs": [
    {
     "data": {
      "text/plain": [
       "{'homophone_percentage': 0.1434,\n",
       " 'mean_homophones': 0.1745,\n",
       " 'max_homophones': 12,\n",
       " 'mean_mp': 1.9556,\n",
       " 'max_mp': 39,\n",
       " 'total_mp': 72901,\n",
       " 'mean_mp_w_hp': 2.8871,\n",
       " 'max_mp_w_hp': 97,\n",
       " 'total_mp_w_hp': 107624}"
      ]
     },
     "execution_count": 63,
     "metadata": {},
     "output_type": "execute_result"
    }
   ],
   "source": [
    "utils.get_stats_for_lexicon(df_processed)"
   ]
  },
  {
   "cell_type": "code",
   "execution_count": 64,
   "metadata": {},
   "outputs": [],
   "source": [
    "df_processed['surprisal_normed'] = df_processed['surprisal'] / df_processed['num_phones']"
   ]
  },
  {
   "cell_type": "markdown",
   "metadata": {},
   "source": [
    "#### Main analysis"
   ]
  },
  {
   "cell_type": "code",
   "execution_count": 65,
   "metadata": {
    "scrolled": false
   },
   "outputs": [
    {
     "data": {
      "text/html": [
       "<table class=\"simpletable\">\n",
       "<caption>Poisson Regression Results</caption>\n",
       "<tr>\n",
       "  <th>Dep. Variable:</th>  <td>num_homophones</td>  <th>  No. Observations:  </th>  <td> 37278</td> \n",
       "</tr>\n",
       "<tr>\n",
       "  <th>Model:</th>              <td>Poisson</td>     <th>  Df Residuals:      </th>  <td> 37275</td> \n",
       "</tr>\n",
       "<tr>\n",
       "  <th>Method:</th>               <td>MLE</td>       <th>  Df Model:          </th>  <td>     2</td> \n",
       "</tr>\n",
       "<tr>\n",
       "  <th>Date:</th>          <td>Fri, 01 Nov 2019</td> <th>  Pseudo R-squ.:     </th>  <td>0.05951</td>\n",
       "</tr>\n",
       "<tr>\n",
       "  <th>Time:</th>              <td>14:31:31</td>     <th>  Log-Likelihood:    </th> <td> -17749.</td>\n",
       "</tr>\n",
       "<tr>\n",
       "  <th>converged:</th>           <td>True</td>       <th>  LL-Null:           </th> <td> -18873.</td>\n",
       "</tr>\n",
       "<tr>\n",
       "  <th> </th>                      <td> </td>        <th>  LLR p-value:       </th>  <td> 0.000</td> \n",
       "</tr>\n",
       "</table>\n",
       "<table class=\"simpletable\">\n",
       "<tr>\n",
       "          <td></td>            <th>coef</th>     <th>std err</th>      <th>z</th>      <th>P>|z|</th>  <th>[0.025</th>    <th>0.975]</th>  \n",
       "</tr>\n",
       "<tr>\n",
       "  <th>Intercept</th>        <td>   -1.9335</td> <td>    0.060</td> <td>  -32.049</td> <td> 0.000</td> <td>   -2.052</td> <td>   -1.815</td>\n",
       "</tr>\n",
       "<tr>\n",
       "  <th>surprisal_normed</th> <td>    0.9234</td> <td>    0.029</td> <td>   32.310</td> <td> 0.000</td> <td>    0.867</td> <td>    0.979</td>\n",
       "</tr>\n",
       "<tr>\n",
       "  <th>num_sylls_est</th>    <td>   -0.2573</td> <td>    0.015</td> <td>  -17.206</td> <td> 0.000</td> <td>   -0.287</td> <td>   -0.228</td>\n",
       "</tr>\n",
       "</table>"
      ],
      "text/plain": [
       "<class 'statsmodels.iolib.summary.Summary'>\n",
       "\"\"\"\n",
       "                          Poisson Regression Results                          \n",
       "==============================================================================\n",
       "Dep. Variable:         num_homophones   No. Observations:                37278\n",
       "Model:                        Poisson   Df Residuals:                    37275\n",
       "Method:                           MLE   Df Model:                            2\n",
       "Date:                Fri, 01 Nov 2019   Pseudo R-squ.:                 0.05951\n",
       "Time:                        14:31:31   Log-Likelihood:                -17749.\n",
       "converged:                       True   LL-Null:                       -18873.\n",
       "                                        LLR p-value:                     0.000\n",
       "====================================================================================\n",
       "                       coef    std err          z      P>|z|      [0.025      0.975]\n",
       "------------------------------------------------------------------------------------\n",
       "Intercept           -1.9335      0.060    -32.049      0.000      -2.052      -1.815\n",
       "surprisal_normed     0.9234      0.029     32.310      0.000       0.867       0.979\n",
       "num_sylls_est       -0.2573      0.015    -17.206      0.000      -0.287      -0.228\n",
       "====================================================================================\n",
       "\"\"\""
      ]
     },
     "execution_count": 65,
     "metadata": {},
     "output_type": "execute_result"
    }
   ],
   "source": [
    "result_real = sm.poisson(formula=FORMULA, \n",
    "                         data=df_processed).fit(disp=0)\n",
    "result_real.summary()"
   ]
  },
  {
   "cell_type": "markdown",
   "metadata": {},
   "source": [
    "#### Visualization"
   ]
  },
  {
   "cell_type": "code",
   "execution_count": 66,
   "metadata": {
    "scrolled": true
   },
   "outputs": [
    {
     "data": {
      "image/png": "[encoded data removed]",
      "text/plain": [
       "<Figure size 432x288 with 1 Axes>"
      ]
     },
     "metadata": {
      "image/png": {
       "height": 277,
       "width": 387
      },
      "needs_background": "light"
     },
     "output_type": "display_data"
    }
   ],
   "source": [
    "make_aggregated_plot(df_processed,\n",
    "                    language='french',\n",
    "                    syl_column=\"num_sylls_est\",\n",
    "                    homophone_column=\"num_homophones\",\n",
    "                    x_axis=\"#Syllables\")"
   ]
  },
  {
   "cell_type": "code",
   "execution_count": null,
   "metadata": {},
   "outputs": [],
   "source": []
  },
  {
   "cell_type": "markdown",
   "metadata": {},
   "source": [
    "### Japanese"
   ]
  },
  {
   "cell_type": "code",
   "execution_count": 67,
   "metadata": {},
   "outputs": [],
   "source": [
    "language = \"japanese\""
   ]
  },
  {
   "cell_type": "code",
   "execution_count": 68,
   "metadata": {},
   "outputs": [],
   "source": [
    "# Here, we ignore the artificial lexica\n",
    "df_og, df_processed, _ = utils.load_lexicons_for_language(language,\n",
    "                                                         phon_column=config.PHON_COLUMN[language],\n",
    "                                                         word_column=config.WORD_COLUMN[language])"
   ]
  },
  {
   "cell_type": "code",
   "execution_count": 69,
   "metadata": {},
   "outputs": [
    {
     "data": {
      "text/plain": [
       "51147"
      ]
     },
     "execution_count": 69,
     "metadata": {},
     "output_type": "execute_result"
    }
   ],
   "source": [
    "len(df_og)"
   ]
  },
  {
   "cell_type": "code",
   "execution_count": 70,
   "metadata": {},
   "outputs": [
    {
     "data": {
      "text/plain": [
       "40449"
      ]
     },
     "execution_count": 70,
     "metadata": {},
     "output_type": "execute_result"
    }
   ],
   "source": [
    "len(df_processed)"
   ]
  },
  {
   "cell_type": "code",
   "execution_count": 71,
   "metadata": {},
   "outputs": [
    {
     "data": {
      "text/plain": [
       "{'homophone_percentage': 0.1506,\n",
       " 'mean_homophones': 0.2645,\n",
       " 'max_homophones': 33,\n",
       " 'mean_mp': 3.9055,\n",
       " 'max_mp': 43,\n",
       " 'total_mp': 157972,\n",
       " 'mean_mp_w_hp': 7.6132,\n",
       " 'max_mp_w_hp': 273,\n",
       " 'total_mp_w_hp': 307946}"
      ]
     },
     "execution_count": 71,
     "metadata": {},
     "output_type": "execute_result"
    }
   ],
   "source": [
    "utils.get_stats_for_lexicon(df_processed)"
   ]
  },
  {
   "cell_type": "code",
   "execution_count": 73,
   "metadata": {},
   "outputs": [],
   "source": [
    "df_processed['surprisal_normed'] = df_processed['surprisal'] / df_processed['num_phones']"
   ]
  },
  {
   "cell_type": "markdown",
   "metadata": {},
   "source": [
    "#### Main analysis"
   ]
  },
  {
   "cell_type": "code",
   "execution_count": 74,
   "metadata": {
    "scrolled": false
   },
   "outputs": [
    {
     "data": {
      "text/html": [
       "<table class=\"simpletable\">\n",
       "<caption>Poisson Regression Results</caption>\n",
       "<tr>\n",
       "  <th>Dep. Variable:</th>  <td>num_homophones</td>  <th>  No. Observations:  </th>  <td> 40449</td> \n",
       "</tr>\n",
       "<tr>\n",
       "  <th>Model:</th>              <td>Poisson</td>     <th>  Df Residuals:      </th>  <td> 40446</td> \n",
       "</tr>\n",
       "<tr>\n",
       "  <th>Method:</th>               <td>MLE</td>       <th>  Df Model:          </th>  <td>     2</td> \n",
       "</tr>\n",
       "<tr>\n",
       "  <th>Date:</th>          <td>Fri, 01 Nov 2019</td> <th>  Pseudo R-squ.:     </th>  <td>0.2042</td> \n",
       "</tr>\n",
       "<tr>\n",
       "  <th>Time:</th>              <td>14:31:53</td>     <th>  Log-Likelihood:    </th> <td> -24128.</td>\n",
       "</tr>\n",
       "<tr>\n",
       "  <th>converged:</th>           <td>True</td>       <th>  LL-Null:           </th> <td> -30318.</td>\n",
       "</tr>\n",
       "<tr>\n",
       "  <th> </th>                      <td> </td>        <th>  LLR p-value:       </th>  <td> 0.000</td> \n",
       "</tr>\n",
       "</table>\n",
       "<table class=\"simpletable\">\n",
       "<tr>\n",
       "          <td></td>            <th>coef</th>     <th>std err</th>      <th>z</th>      <th>P>|z|</th>  <th>[0.025</th>    <th>0.975]</th>  \n",
       "</tr>\n",
       "<tr>\n",
       "  <th>Intercept</th>        <td>    1.3538</td> <td>    0.058</td> <td>   23.439</td> <td> 0.000</td> <td>    1.241</td> <td>    1.467</td>\n",
       "</tr>\n",
       "<tr>\n",
       "  <th>surprisal_normed</th> <td>    0.3472</td> <td>    0.024</td> <td>   14.193</td> <td> 0.000</td> <td>    0.299</td> <td>    0.395</td>\n",
       "</tr>\n",
       "<tr>\n",
       "  <th>num_sylls_est</th>    <td>   -0.9041</td> <td>    0.013</td> <td>  -71.438</td> <td> 0.000</td> <td>   -0.929</td> <td>   -0.879</td>\n",
       "</tr>\n",
       "</table>"
      ],
      "text/plain": [
       "<class 'statsmodels.iolib.summary.Summary'>\n",
       "\"\"\"\n",
       "                          Poisson Regression Results                          \n",
       "==============================================================================\n",
       "Dep. Variable:         num_homophones   No. Observations:                40449\n",
       "Model:                        Poisson   Df Residuals:                    40446\n",
       "Method:                           MLE   Df Model:                            2\n",
       "Date:                Fri, 01 Nov 2019   Pseudo R-squ.:                  0.2042\n",
       "Time:                        14:31:53   Log-Likelihood:                -24128.\n",
       "converged:                       True   LL-Null:                       -30318.\n",
       "                                        LLR p-value:                     0.000\n",
       "====================================================================================\n",
       "                       coef    std err          z      P>|z|      [0.025      0.975]\n",
       "------------------------------------------------------------------------------------\n",
       "Intercept            1.3538      0.058     23.439      0.000       1.241       1.467\n",
       "surprisal_normed     0.3472      0.024     14.193      0.000       0.299       0.395\n",
       "num_sylls_est       -0.9041      0.013    -71.438      0.000      -0.929      -0.879\n",
       "====================================================================================\n",
       "\"\"\""
      ]
     },
     "execution_count": 74,
     "metadata": {},
     "output_type": "execute_result"
    }
   ],
   "source": [
    "result_real = sm.poisson(formula=FORMULA, \n",
    "                         data=df_processed).fit(disp=0)\n",
    "result_real.summary()"
   ]
  },
  {
   "cell_type": "markdown",
   "metadata": {},
   "source": [
    "#### Visualization"
   ]
  },
  {
   "cell_type": "code",
   "execution_count": 75,
   "metadata": {
    "scrolled": true
   },
   "outputs": [
    {
     "data": {
      "image/png": "[encoded data removed]",
      "text/plain": [
       "<Figure size 432x288 with 1 Axes>"
      ]
     },
     "metadata": {
      "image/png": {
       "height": 277,
       "width": 377
      },
      "needs_background": "light"
     },
     "output_type": "display_data"
    }
   ],
   "source": [
    "make_aggregated_plot(df_processed,\n",
    "                    language='japanese',\n",
    "                    syl_column=\"num_sylls_est\",\n",
    "                    homophone_column=\"num_homophones\",\n",
    "                    x_axis=\"#Morae\")"
   ]
  }
 ],
 "metadata": {
  "kernelspec": {
   "display_name": "Python 3",
   "language": "python",
   "name": "python3"
  },
  "language_info": {
   "codemirror_mode": {
    "name": "ipython",
    "version": 3
   },
   "file_extension": ".py",
   "mimetype": "text/x-python",
   "name": "python",
   "nbconvert_exporter": "python",
   "pygments_lexer": "ipython3",
   "version": "3.7.1"
  }
 },
 "nbformat": 4,
 "nbformat_minor": 2
}
