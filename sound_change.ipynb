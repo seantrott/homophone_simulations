{
 "cells": [
  {
   "cell_type": "markdown",
   "metadata": {},
   "source": [
    "# Simulating sound changes in real and artificial lexicons\n",
    "\n",
    "This aims to address several questions:\n",
    "1. Does simulating sound changes in a lexicon result in more homophones overall?\n",
    "2. Do simulated changes result in more homophones for *short* words than *long* words?"
   ]
  },
  {
   "cell_type": "markdown",
   "metadata": {},
   "source": [
    "## Simulating in real IPHOD lexicon\n"
   ]
  },
  {
   "cell_type": "markdown",
   "metadata": {},
   "source": [
    "### Load and preprocess data\n"
   ]
  },
  {
   "cell_type": "code",
   "execution_count": 26,
   "metadata": {},
   "outputs": [],
   "source": [
    "import pandas as pd \n",
    "import scipy.stats as ss\n",
    "import matplotlib.pyplot as plt\n",
    "import statsmodels.formula.api as sm\n",
    "import src.utils as utils\n",
    "import math\n",
    "import seaborn as sns\n",
    "from tqdm import tqdm\n",
    "from os import listdir\n",
    "import random\n",
    "import numpy as np\n",
    "from collections import Counter"
   ]
  },
  {
   "cell_type": "code",
   "execution_count": 27,
   "metadata": {},
   "outputs": [],
   "source": [
    "df = pd.read_csv(\"data/raw/IPhODv2.0_REALS/IPhOD2_Words.txt\", sep=\"\\t\")\n",
    "PHON_COLUMN = 'StTrn'"
   ]
  },
  {
   "cell_type": "code",
   "execution_count": 28,
   "metadata": {},
   "outputs": [
    {
     "data": {
      "text/plain": [
       "54030"
      ]
     },
     "execution_count": 28,
     "metadata": {},
     "output_type": "execute_result"
    }
   ],
   "source": [
    "len(df)"
   ]
  },
  {
   "cell_type": "code",
   "execution_count": 29,
   "metadata": {
    "scrolled": true
   },
   "outputs": [
    {
     "name": "stdout",
     "output_type": "stream",
     "text": [
      "Number of tokens: 54029\n",
      "Number of tokens: 54029\n"
     ]
    },
    {
     "name": "stderr",
     "output_type": "stream",
     "text": [
      "/Users/seantrott/Dropbox/UCSD/Research/Ambiguity/Evolution/homophone_simulations/src/utils.py:26: SettingWithCopyWarning: \n",
      "A value is trying to be set on a copy of a slice from a DataFrame.\n",
      "Try using .loc[row_indexer,col_indexer] = value instead\n",
      "\n",
      "See the caveats in the documentation: http://pandas.pydata.org/pandas-docs/stable/indexing.html#indexing-view-versus-copy\n",
      "  df['remove'] = df[word_column].apply(remove_word)\n"
     ]
    },
    {
     "name": "stdout",
     "output_type": "stream",
     "text": [
      "Number of tokens: 51956\n",
      "51956 words in final analysis\n"
     ]
    }
   ],
   "source": [
    "df_processed = utils.preprocess_for_analysis(df, phon_column=PHON_COLUMN, verbose=True)\n",
    "print(\"{X} words in final analysis\".format(X=len(df_processed)))"
   ]
  },
  {
   "cell_type": "markdown",
   "metadata": {},
   "source": [
    "### Extract number of homophones and length data"
   ]
  },
  {
   "cell_type": "code",
   "execution_count": 30,
   "metadata": {},
   "outputs": [
    {
     "name": "stdout",
     "output_type": "stream",
     "text": [
      "1703 homophones\n",
      "3.28% of lexicon\n"
     ]
    }
   ],
   "source": [
    "TOTAL_HOMOPHONES = len(df_processed[df_processed['num_homophones']>=1])\n",
    "PERCENT_LEXICON = (TOTAL_HOMOPHONES/len(df_processed)) * 100\n",
    "PERCENT_LEXICON = round(PERCENT_LEXICON, 2)\n",
    "print(\"{X} homophones\".format(X=TOTAL_HOMOPHONES))\n",
    "print(\"{X}% of lexicon\".format(X=PERCENT_LEXICON))"
   ]
  },
  {
   "cell_type": "code",
   "execution_count": 31,
   "metadata": {},
   "outputs": [],
   "source": [
    "FORMULA = 'num_homophones ~ NSyll'"
   ]
  },
  {
   "cell_type": "code",
   "execution_count": 32,
   "metadata": {},
   "outputs": [],
   "source": [
    "result_original = sm.poisson(formula=FORMULA, data=df_processed).fit(disp=0)"
   ]
  },
  {
   "cell_type": "code",
   "execution_count": 33,
   "metadata": {},
   "outputs": [
    {
     "data": {
      "text/plain": [
       "-1.6019300045541562"
      ]
     },
     "execution_count": 33,
     "metadata": {},
     "output_type": "execute_result"
    }
   ],
   "source": [
    "LENGTH_COEF = result_original.params['NSyll']\n",
    "LENGTH_COEF"
   ]
  },
  {
   "cell_type": "code",
   "execution_count": 34,
   "metadata": {},
   "outputs": [
    {
     "data": {
      "text/html": [
       "<div>\n",
       "<style scoped>\n",
       "    .dataframe tbody tr th:only-of-type {\n",
       "        vertical-align: middle;\n",
       "    }\n",
       "\n",
       "    .dataframe tbody tr th {\n",
       "        vertical-align: top;\n",
       "    }\n",
       "\n",
       "    .dataframe thead th {\n",
       "        text-align: right;\n",
       "    }\n",
       "</style>\n",
       "<table border=\"1\" class=\"dataframe\">\n",
       "  <thead>\n",
       "    <tr style=\"text-align: right;\">\n",
       "      <th>NSyll</th>\n",
       "      <th>0</th>\n",
       "      <th>1</th>\n",
       "      <th>2</th>\n",
       "      <th>3</th>\n",
       "      <th>4</th>\n",
       "      <th>5</th>\n",
       "      <th>6</th>\n",
       "      <th>7</th>\n",
       "      <th>8</th>\n",
       "      <th>9</th>\n",
       "      <th>12</th>\n",
       "    </tr>\n",
       "  </thead>\n",
       "  <tbody>\n",
       "    <tr>\n",
       "      <th>num_homophones</th>\n",
       "      <td>0</td>\n",
       "      <td>1296</td>\n",
       "      <td>643</td>\n",
       "      <td>104</td>\n",
       "      <td>19</td>\n",
       "      <td>8</td>\n",
       "      <td>3</td>\n",
       "      <td>0</td>\n",
       "      <td>0</td>\n",
       "      <td>0</td>\n",
       "      <td>0</td>\n",
       "    </tr>\n",
       "  </tbody>\n",
       "</table>\n",
       "</div>"
      ],
      "text/plain": [
       "NSyll           0     1    2    3   4   5   6   7   8   9   12\n",
       "num_homophones   0  1296  643  104  19   8   3   0   0   0   0"
      ]
     },
     "execution_count": 34,
     "metadata": {},
     "output_type": "execute_result"
    }
   ],
   "source": [
    "pd.pivot_table(df_processed, values='num_homophones',\n",
    "              columns=['NSyll'],\n",
    "              aggfunc=np.sum)"
   ]
  },
  {
   "cell_type": "code",
   "execution_count": 35,
   "metadata": {},
   "outputs": [
    {
     "data": {
      "text/plain": [
       "Counter({0: 50253, 2: 198, 1: 1431, 5: 6, 3: 56, 4: 12})"
      ]
     },
     "execution_count": 35,
     "metadata": {},
     "output_type": "execute_result"
    }
   ],
   "source": [
    "counts = Counter(df_processed['num_homophones'])\n",
    "counts"
   ]
  },
  {
   "cell_type": "markdown",
   "metadata": {},
   "source": [
    "### Construct sound change rules\n",
    "\n",
    "Now we construct a set of sound changes that can occur in a lexicon. For now, we simulate *unconditioned* sound change: that is, what happens when a single phone changes to another phone *across* the lexicon?"
   ]
  },
  {
   "cell_type": "code",
   "execution_count": 36,
   "metadata": {},
   "outputs": [],
   "source": [
    "# The IPA pronunciation guide for IPHOD seems different from my understanding?\n",
    "rules = [('AA', 'AE'), # \"tot\" --> \"tat\"\n",
    "         ('T', 'D'), # 'eater' --> 'eader'\n",
    "         ('P', 'B'), # 'pout' --> 'bout'\n",
    "         ('K', 'G'), # 'car' --> 'gar',\n",
    "         ('F', 'V'), # 'far' --> 'var',\n",
    "         ('S', 'Z'), # 'saw' --> 'zaw',\n",
    "         ('AY', 'IY'), # 'icy' --> 'eecee'\n",
    "         # ('D', 'T'), # 'eater' --> 'eader'\n",
    "         # ('B', 'P'), # 'pout' --> 'bout'\n",
    "         # ('G', 'K'), # 'car' --> 'gar',\n",
    "         # ('V', 'F'), # 'far' --> 'var',\n",
    "         #('Z', 'S'), # 'saw' --> 'zaw',\n",
    "            ]"
   ]
  },
  {
   "cell_type": "code",
   "execution_count": 37,
   "metadata": {},
   "outputs": [],
   "source": [
    "def implement_unconditioned_sound_change(wordforms, rule):\n",
    "    \"\"\"Implement sound change across a lexicon of phonological wordforms.\n",
    "    \n",
    "    Parameters\n",
    "    ----------\n",
    "    wordforms: list\n",
    "       list of strings representing phonological wordforms\n",
    "    rule: tuple\n",
    "       tuple with first element representing original sound, second \n",
    "       representing new sound\n",
    "    \"\"\"\n",
    "    new_wordforms = [word.replace(rule[0], rule[1]) for word in wordforms]\n",
    "    return new_wordforms"
   ]
  },
  {
   "cell_type": "markdown",
   "metadata": {},
   "source": [
    "### Simulate sound changes\n",
    "\n",
    "Now we simulate sound changes starting from the same initial conditions."
   ]
  },
  {
   "cell_type": "code",
   "execution_count": 13,
   "metadata": {},
   "outputs": [],
   "source": [
    "percent_homophone_list, slope_coefs = [], []"
   ]
  },
  {
   "cell_type": "code",
   "execution_count": 14,
   "metadata": {},
   "outputs": [
    {
     "name": "stderr",
     "output_type": "stream",
     "text": [
      "/Users/seantrott/Dropbox/UCSD/Research/Ambiguity/Evolution/homophone_simulations/src/utils.py:26: SettingWithCopyWarning: \n",
      "A value is trying to be set on a copy of a slice from a DataFrame.\n",
      "Try using .loc[row_indexer,col_indexer] = value instead\n",
      "\n",
      "See the caveats in the documentation: http://pandas.pydata.org/pandas-docs/stable/indexing.html#indexing-view-versus-copy\n",
      "  df['remove'] = df[word_column].apply(remove_word)\n"
     ]
    }
   ],
   "source": [
    "for rule in rules:\n",
    "    df_copy = df.copy()\n",
    "    df_copy['new_lexicon'] = implement_unconditioned_sound_change(list(df_copy['StTrn']), rule)\n",
    "    df_copy['unchanged'] = df_copy['new_lexicon'] == df_copy['StTrn']\n",
    "    df_copy_processed = utils.preprocess_for_analysis(df_copy, phon_column='new_lexicon')\n",
    "    \n",
    "    total = len(df_copy_processed[df_copy_processed['num_homophones']>=1]) \n",
    "    percent = (total/len(df_copy_processed)) * 100\n",
    "    percent_homophone_list.append(percent)\n",
    "        \n",
    "    result_new = sm.poisson(formula=FORMULA, data=df_copy_processed).fit(disp=0)\n",
    "    slope_coefs.append(result_new.params['NSyll'])"
   ]
  },
  {
   "cell_type": "code",
   "execution_count": 15,
   "metadata": {},
   "outputs": [
    {
     "data": {
      "text/plain": [
       "[-1.589436261988264,\n",
       " -1.6433263949544161,\n",
       " -1.6324746737761548,\n",
       " -1.6338417362761026,\n",
       " -1.5801769625165827,\n",
       " -1.5318041072576518,\n",
       " -1.500228979833363]"
      ]
     },
     "execution_count": 15,
     "metadata": {},
     "output_type": "execute_result"
    }
   ],
   "source": [
    "slope_coefs"
   ]
  },
  {
   "cell_type": "code",
   "execution_count": 16,
   "metadata": {},
   "outputs": [
    {
     "data": {
      "image/png": "[encoded data removed]",
      "text/plain": [
       "<Figure size 432x288 with 1 Axes>"
      ]
     },
     "metadata": {},
     "output_type": "display_data"
    }
   ],
   "source": [
    "plt.hist(slope_coefs)\n",
    "plt.axvline(x=LENGTH_COEF, linestyle=\"dotted\")\n",
    "plt.xlabel(\"Distribution of slope coefficients\")\n",
    "plt.ylabel(\"Count\")\n",
    "plt.title(\"Slope coefficients for #homophones ~ #syllables\")\n",
    "plt.show()"
   ]
  },
  {
   "cell_type": "code",
   "execution_count": 17,
   "metadata": {},
   "outputs": [
    {
     "data": {
      "image/png": "[encoded data removed]",
      "text/plain": [
       "<Figure size 432x288 with 1 Axes>"
      ]
     },
     "metadata": {},
     "output_type": "display_data"
    }
   ],
   "source": [
    "plt.hist(percent_homophone_list)\n",
    "plt.axvline(x=PERCENT_LEXICON, linestyle=\"dotted\")\n",
    "plt.xlabel(\"Distribution of percentage of homophones\")\n",
    "plt.text(s=\"Real percentage: {X}\".format(X=PERCENT_LEXICON),x=PERCENT_LEXICON, y=2)\n",
    "plt.ylabel(\"Count\")\n",
    "plt.title(\"Percentage of homophones from simulated sound changes\")\n",
    "plt.show()"
   ]
  },
  {
   "cell_type": "markdown",
   "metadata": {},
   "source": [
    "### Simulate sound changes in artificial lexicons\n",
    "\n",
    "Now we simulate sound changes in artificial lexicons."
   ]
  },
  {
   "cell_type": "code",
   "execution_count": 38,
   "metadata": {},
   "outputs": [
    {
     "name": "stderr",
     "output_type": "stream",
     "text": [
      "\r",
      "  0%|          | 0/19 [00:00<?, ?it/s]"
     ]
    },
    {
     "name": "stdout",
     "output_type": "stream",
     "text": [
      "Loading pseudo-words from files...\n"
     ]
    },
    {
     "name": "stderr",
     "output_type": "stream",
     "text": [
      "100%|██████████| 19/19 [00:13<00:00,  1.69s/it]\n"
     ]
    }
   ],
   "source": [
    "PATH = \"data/raw/IPhODv2.0_PSEUDO\"\n",
    "PHON_COLUMN = 'StTrn'\n",
    "sources = []\n",
    "files = listdir(PATH)\n",
    "print(\"Loading pseudo-words from files...\")\n",
    "for f in tqdm(files):\n",
    "\tif \"IPhOD2_Pseudos\" in f:\n",
    "\t\ttemp = pd.read_csv(\"{path}/{file_name}\".format(path=PATH, file_name=f), sep=\"\\t\")\n",
    "\t\tsources.append(temp)\n",
    "\n",
    "df_pseudos = pd.concat(sources)"
   ]
  },
  {
   "cell_type": "code",
   "execution_count": 39,
   "metadata": {},
   "outputs": [
    {
     "name": "stdout",
     "output_type": "stream",
     "text": [
      "761688 pseudowords after dropping duplicate wordforms.\n"
     ]
    }
   ],
   "source": [
    "df_pseudos = df_pseudos.drop_duplicates(subset=PHON_COLUMN)\n",
    "print(\"{X} pseudowords after dropping duplicate wordforms.\".format(X=len(df_pseudos)))"
   ]
  },
  {
   "cell_type": "code",
   "execution_count": 20,
   "metadata": {},
   "outputs": [
    {
     "data": {
      "text/plain": [
       "Counter({1: 7132,\n",
       "         3: 14329,\n",
       "         2: 20759,\n",
       "         4: 6785,\n",
       "         5: 2400,\n",
       "         6: 482,\n",
       "         7: 56,\n",
       "         12: 1,\n",
       "         8: 8,\n",
       "         9: 1,\n",
       "         0: 3})"
      ]
     },
     "execution_count": 20,
     "metadata": {},
     "output_type": "execute_result"
    }
   ],
   "source": [
    "ACTUAL_DISTRIBUTION = Counter(df_processed['NSyll'])\n",
    "ACTUAL_DISTRIBUTION"
   ]
  },
  {
   "cell_type": "markdown",
   "metadata": {},
   "source": [
    "#### Just random words for now\n",
    "\n",
    "For now, we just ask about the effect of sound changes on completely random lexicons."
   ]
  },
  {
   "cell_type": "code",
   "execution_count": 42,
   "metadata": {},
   "outputs": [
    {
     "name": "stdout",
     "output_type": "stream",
     "text": [
      "51956\n"
     ]
    }
   ],
   "source": [
    "ITERATIONS = 10\n",
    "SIZE = len(df_processed)\n",
    "print(SIZE)"
   ]
  },
  {
   "cell_type": "code",
   "execution_count": 68,
   "metadata": {},
   "outputs": [],
   "source": [
    "og_percents, og_nums = [], []\n",
    "new_percents, new_nums = [], []\n",
    "og_slopes = []\n",
    "new_slopes = []"
   ]
  },
  {
   "cell_type": "code",
   "execution_count": 70,
   "metadata": {},
   "outputs": [
    {
     "name": "stderr",
     "output_type": "stream",
     "text": [
      "\r",
      "  0%|          | 0/10 [00:00<?, ?it/s]"
     ]
    },
    {
     "name": "stdout",
     "output_type": "stream",
     "text": [
      "Number of tokens: 51956\n",
      "Number of tokens: 51956\n",
      "Number of tokens: 50236\n"
     ]
    },
    {
     "name": "stderr",
     "output_type": "stream",
     "text": [
      "\r",
      " 10%|█         | 1/10 [00:08<01:18,  8.70s/it]"
     ]
    },
    {
     "name": "stdout",
     "output_type": "stream",
     "text": [
      "Number of tokens: 51956\n",
      "Number of tokens: 51956\n",
      "Number of tokens: 50210\n"
     ]
    },
    {
     "name": "stderr",
     "output_type": "stream",
     "text": [
      "\r",
      " 20%|██        | 2/10 [00:17<01:09,  8.63s/it]"
     ]
    },
    {
     "name": "stdout",
     "output_type": "stream",
     "text": [
      "Number of tokens: 51956\n",
      "Number of tokens: 51956\n",
      "Number of tokens: 50169\n"
     ]
    },
    {
     "name": "stderr",
     "output_type": "stream",
     "text": [
      "\r",
      " 30%|███       | 3/10 [00:24<00:58,  8.39s/it]"
     ]
    },
    {
     "name": "stdout",
     "output_type": "stream",
     "text": [
      "Number of tokens: 51956\n",
      "Number of tokens: 51956\n",
      "Number of tokens: 50141\n"
     ]
    },
    {
     "name": "stderr",
     "output_type": "stream",
     "text": [
      "\r",
      " 40%|████      | 4/10 [00:33<00:50,  8.37s/it]"
     ]
    },
    {
     "name": "stdout",
     "output_type": "stream",
     "text": [
      "Number of tokens: 51956\n",
      "Number of tokens: 51956\n",
      "Number of tokens: 50263\n"
     ]
    },
    {
     "name": "stderr",
     "output_type": "stream",
     "text": [
      "\r",
      " 50%|█████     | 5/10 [00:41<00:41,  8.29s/it]"
     ]
    },
    {
     "name": "stdout",
     "output_type": "stream",
     "text": [
      "Number of tokens: 51956\n",
      "Number of tokens: 51956\n",
      "Number of tokens: 50135\n"
     ]
    },
    {
     "name": "stderr",
     "output_type": "stream",
     "text": [
      "\r",
      " 60%|██████    | 6/10 [00:49<00:33,  8.32s/it]"
     ]
    },
    {
     "name": "stdout",
     "output_type": "stream",
     "text": [
      "Number of tokens: 51956\n",
      "Number of tokens: 51956\n",
      "Number of tokens: 50254\n"
     ]
    },
    {
     "name": "stderr",
     "output_type": "stream",
     "text": [
      "\r",
      " 70%|███████   | 7/10 [00:57<00:24,  8.19s/it]"
     ]
    },
    {
     "name": "stdout",
     "output_type": "stream",
     "text": [
      "Number of tokens: 51956\n",
      "Number of tokens: 51956\n",
      "Number of tokens: 50234\n"
     ]
    },
    {
     "name": "stderr",
     "output_type": "stream",
     "text": [
      "\r",
      " 80%|████████  | 8/10 [01:05<00:16,  8.08s/it]"
     ]
    },
    {
     "name": "stdout",
     "output_type": "stream",
     "text": [
      "Number of tokens: 51956\n",
      "Number of tokens: 51956\n",
      "Number of tokens: 50173\n"
     ]
    },
    {
     "name": "stderr",
     "output_type": "stream",
     "text": [
      "\r",
      " 90%|█████████ | 9/10 [01:13<00:08,  8.09s/it]"
     ]
    },
    {
     "name": "stdout",
     "output_type": "stream",
     "text": [
      "Number of tokens: 51956\n",
      "Number of tokens: 51956\n",
      "Number of tokens: 50264\n"
     ]
    },
    {
     "name": "stderr",
     "output_type": "stream",
     "text": [
      "100%|██████████| 10/10 [01:22<00:00,  8.35s/it]\n"
     ]
    }
   ],
   "source": [
    "for i in tqdm(list(range(ITERATIONS))):\n",
    "    \n",
    "    df_artificial = df_pseudos.sample(SIZE, replace=True)\n",
    "    df_artificial['Word_recoded'] = df_artificial['Word'].apply(lambda x: x.split(\" (\")[0])\n",
    "    df_artificial_processed = utils.preprocess_for_analysis(df_artificial, \n",
    "                                                            phon_column=PHON_COLUMN, \n",
    "                                                            word_column='Word_recoded',\n",
    "                                                            verbose=True)\n",
    "    total_homophones_art = len(df_artificial_processed[df_artificial_processed['num_homophones']>=1])\n",
    "    percent_lex = (total_homophones_art/len(df_artificial_processed)) * 100\n",
    "    percent_lex = round(percent_lex, 2)\n",
    "    \n",
    "    og_percents.append(percent_lex)\n",
    "    og_nums.append(total_homophones_art)\n",
    "    \n",
    "    result_og = sm.poisson(formula=FORMULA, data=df_artificial_processed).fit(disp=0)\n",
    "    og_slopes.append(result_og.params['NSyll'])\n",
    "    \n",
    "    for rule in rules:\n",
    "        df_copy = df_artificial.copy()\n",
    "        df_copy['new_lexicon'] = implement_unconditioned_sound_change(list(df_copy['StTrn']), rule)\n",
    "        df_copy_processed = utils.preprocess_for_analysis(df_copy, word_column='Word_recoded',\n",
    "                                                          phon_column='new_lexicon')\n",
    "\n",
    "        total = len(df_copy_processed[df_copy_processed['num_homophones']>=1]) \n",
    "        percent = (total/len(df_copy_processed)) * 100\n",
    "        new_percents.append(percent)\n",
    "\n",
    "        result_new = sm.poisson(formula=FORMULA, data=df_copy_processed).fit(disp=0)\n",
    "        new_slopes.append(result_new.params['NSyll'])"
   ]
  },
  {
   "cell_type": "code",
   "execution_count": 71,
   "metadata": {},
   "outputs": [
    {
     "data": {
      "image/png": "[encoded data removed]",
      "text/plain": [
       "<Figure size 432x288 with 1 Axes>"
      ]
     },
     "metadata": {},
     "output_type": "display_data"
    }
   ],
   "source": [
    "plt.hist(og_percents, label=\"before simulated sound changes\", alpha = .6)\n",
    "plt.hist(new_percents, label=\"after simulated sound changes\", alpha = .6)\n",
    "# plt.axvline(x=PERCENT_LEXICON, linestyle=\"dotted\")\n",
    "plt.xlabel(\"Distribution of percentage of homophones\")\n",
    "# plt.text(s=\"Real percentage: {X}\".format(X=PERCENT_LEXICON),x=PERCENT_LEXICON, y=2)\n",
    "plt.ylabel(\"Count\")\n",
    "plt.title(\"Percentage of homophones from simulated sound changes\")\n",
    "plt.show()"
   ]
  },
  {
   "cell_type": "code",
   "execution_count": 72,
   "metadata": {},
   "outputs": [
    {
     "data": {
      "image/png": "[encoded data removed]",
      "text/plain": [
       "<Figure size 432x288 with 1 Axes>"
      ]
     },
     "metadata": {},
     "output_type": "display_data"
    }
   ],
   "source": [
    "plt.hist(og_slopes, label=\"before simulated sound changes\", alpha = .6)\n",
    "plt.hist(new_slopes, label=\"after simulated sound changes\", alpha = .6)\n",
    "# plt.axvline(x=PERCENT_LEXICON, linestyle=\"dotted\")\n",
    "plt.xlabel(\"Distribution of percentage of homophones\")\n",
    "# plt.text(s=\"Real percentage: {X}\".format(X=PERCENT_LEXICON),x=PERCENT_LEXICON, y=2)\n",
    "plt.ylabel(\"Count\")\n",
    "plt.title(\"Percentage of homophones from simulated sound changes\")\n",
    "plt.show()"
   ]
  },
  {
   "cell_type": "code",
   "execution_count": null,
   "metadata": {},
   "outputs": [],
   "source": []
  }
 ],
 "metadata": {
  "kernelspec": {
   "display_name": "Python 3",
   "language": "python",
   "name": "python3"
  },
  "language_info": {
   "codemirror_mode": {
    "name": "ipython",
    "version": 3
   },
   "file_extension": ".py",
   "mimetype": "text/x-python",
   "name": "python",
   "nbconvert_exporter": "python",
   "pygments_lexer": "ipython3",
   "version": "3.6.5"
  }
 },
 "nbformat": 4,
 "nbformat_minor": 2
}
