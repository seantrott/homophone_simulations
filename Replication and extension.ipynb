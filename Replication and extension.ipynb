{
 "cells": [
  {
   "cell_type": "markdown",
   "metadata": {},
   "source": [
    "# Replicate Piantadosi et al (2012) across five languages\n",
    "\n",
    "**Sean Trott** and **Benjamin Bergen**\n",
    "\n",
    "Here, we ask whether word length (measured by `#syllables`) predicts `#homophones` across five languages. We also ask about the predictive power of `surprisal`, a measure of the phonotactic plausibility of a wordform. Following Piantadosi et al (2012), we normalized `surprisal` to the length (in `#phones`) of a wordform."
   ]
  },
  {
   "cell_type": "code",
   "execution_count": 1,
   "metadata": {},
   "outputs": [],
   "source": [
    "import os\n",
    "\n",
    "import pandas as pd\n",
    "import matplotlib.pyplot as plt\n",
    "import numpy as np\n",
    "import statsmodels.formula.api as sm\n",
    "import seaborn as sns\n",
    "from tqdm import tqdm\n",
    "\n",
    "import src.utils as utils\n",
    "import src.config as config\n",
    "\n",
    "from collections import Counter"
   ]
  },
  {
   "cell_type": "code",
   "execution_count": 2,
   "metadata": {},
   "outputs": [],
   "source": [
    "from mpl_toolkits.mplot3d import Axes3D"
   ]
  },
  {
   "cell_type": "code",
   "execution_count": 3,
   "metadata": {},
   "outputs": [],
   "source": [
    "%matplotlib inline\n",
    "%config InlineBackend.figure_format = 'retina' "
   ]
  },
  {
   "cell_type": "code",
   "execution_count": 4,
   "metadata": {},
   "outputs": [],
   "source": [
    "TARGET = 'num_homophones'\n",
    "COVARIATES = [\n",
    "    'surprisal_normed',\n",
    "    'num_sylls_est'\n",
    "]\n",
    "FORMULA = '{y} ~ {regressors}'.format(y=TARGET, regressors=' + '.join(COVARIATES))\n",
    "\n",
    "COVARIATES2 = [\n",
    "    'surprisal',\n",
    "    'num_sylls_est'\n",
    "]\n",
    "FORMULA2 = '{y} ~ {regressors}'.format(y=TARGET, regressors=' + '.join(COVARIATES2))\n"
   ]
  },
  {
   "cell_type": "markdown",
   "metadata": {},
   "source": [
    "## Helper functions"
   ]
  },
  {
   "cell_type": "code",
   "execution_count": 8,
   "metadata": {},
   "outputs": [],
   "source": [
    "def load_lexicons_for_language(language, phon_column=\"PhonDISC\", word_column=\"Word\", n=5):\n",
    "    \"\"\"Loads lexicons for a given language.\"\"\"\n",
    "    df_real_all = pd.read_csv(\"data/processed/{lan1}/reals/{lan2}_all_reals_{n}phone.csv\".format(lan1=language,\n",
    "                                                                                         lan2=language,n=n))\n",
    "    df_lemmas_mps = pd.read_csv(\"data/processed/{lan1}/reals/{lan2}_with_mps_{n}phone.csv\".format(lan1=language,\n",
    "                                                                                         lan2=language,n=n))\n",
    "    df_artificials = pd.read_csv(\"data/processed/{lan1}/minimal_pairs/{lan2}_artificial_10_matched_on_sylls_mps_no_restriction_{n}phone.csv\".format(lan1=language,\n",
    "                                                                                                                           lan2=language, n=n))\n",
    "    return df_real_all, df_lemmas_mps, df_artificials"
   ]
  },
  {
   "cell_type": "markdown",
   "metadata": {},
   "source": [
    "## Replicate in English, German, and Dutch"
   ]
  },
  {
   "cell_type": "markdown",
   "metadata": {},
   "source": [
    "### English"
   ]
  },
  {
   "cell_type": "code",
   "execution_count": 5,
   "metadata": {},
   "outputs": [],
   "source": [
    "language = 'english'"
   ]
  },
  {
   "cell_type": "code",
   "execution_count": 11,
   "metadata": {},
   "outputs": [],
   "source": [
    "# Here, we ignore the artificial lexica\n",
    "df_og, df_processed, _ = load_lexicons_for_language(language=language, n=5)"
   ]
  },
  {
   "cell_type": "code",
   "execution_count": 12,
   "metadata": {},
   "outputs": [
    {
     "data": {
      "text/plain": [
       "41887"
      ]
     },
     "execution_count": 12,
     "metadata": {},
     "output_type": "execute_result"
    }
   ],
   "source": [
    "len(df_og)"
   ]
  },
  {
   "cell_type": "code",
   "execution_count": 13,
   "metadata": {},
   "outputs": [
    {
     "data": {
      "text/plain": [
       "35107"
      ]
     },
     "execution_count": 13,
     "metadata": {},
     "output_type": "execute_result"
    }
   ],
   "source": [
    "len(df_processed)"
   ]
  },
  {
   "cell_type": "code",
   "execution_count": 26,
   "metadata": {},
   "outputs": [
    {
     "data": {
      "text/plain": [
       "{'homophone_percentage': 0.0229,\n",
       " 'mean_homophones': 0.0246,\n",
       " 'max_homophones': 4}"
      ]
     },
     "execution_count": 26,
     "metadata": {},
     "output_type": "execute_result"
    }
   ],
   "source": [
    "utils.get_homophone_stats(df_processed)"
   ]
  },
  {
   "cell_type": "code",
   "execution_count": 15,
   "metadata": {},
   "outputs": [],
   "source": [
    "df_processed['surprisal_normed'] = df_processed['surprisal'] / df_processed['num_phones']"
   ]
  },
  {
   "cell_type": "code",
   "execution_count": 16,
   "metadata": {},
   "outputs": [
    {
     "data": {
      "text/plain": [
       "Counter({1: 7706,\n",
       "         2: 15247,\n",
       "         3: 11379,\n",
       "         4: 5316,\n",
       "         5: 1694,\n",
       "         6: 439,\n",
       "         7: 95,\n",
       "         8: 10,\n",
       "         10: 1})"
      ]
     },
     "execution_count": 16,
     "metadata": {},
     "output_type": "execute_result"
    }
   ],
   "source": [
    "Counter(df_og['num_sylls_est'])"
   ]
  },
  {
   "cell_type": "markdown",
   "metadata": {},
   "source": [
    "#### Main analysis"
   ]
  },
  {
   "cell_type": "code",
   "execution_count": 17,
   "metadata": {
    "scrolled": false
   },
   "outputs": [
    {
     "data": {
      "text/html": [
       "<table class=\"simpletable\">\n",
       "<caption>Poisson Regression Results</caption>\n",
       "<tr>\n",
       "  <th>Dep. Variable:</th>  <td>num_homophones</td>  <th>  No. Observations:  </th>  <td> 35107</td> \n",
       "</tr>\n",
       "<tr>\n",
       "  <th>Model:</th>              <td>Poisson</td>     <th>  Df Residuals:      </th>  <td> 35104</td> \n",
       "</tr>\n",
       "<tr>\n",
       "  <th>Method:</th>               <td>MLE</td>       <th>  Df Model:          </th>  <td>     2</td> \n",
       "</tr>\n",
       "<tr>\n",
       "  <th>Date:</th>          <td>Thu, 02 Apr 2020</td> <th>  Pseudo R-squ.:     </th>  <td>0.1427</td> \n",
       "</tr>\n",
       "<tr>\n",
       "  <th>Time:</th>              <td>13:22:34</td>     <th>  Log-Likelihood:    </th> <td> -16316.</td>\n",
       "</tr>\n",
       "<tr>\n",
       "  <th>converged:</th>           <td>True</td>       <th>  LL-Null:           </th> <td> -19033.</td>\n",
       "</tr>\n",
       "<tr>\n",
       "  <th> </th>                      <td> </td>        <th>  LLR p-value:       </th>  <td> 0.000</td> \n",
       "</tr>\n",
       "</table>\n",
       "<table class=\"simpletable\">\n",
       "<tr>\n",
       "          <td></td>            <th>coef</th>     <th>std err</th>      <th>z</th>      <th>P>|z|</th>  <th>[0.025</th>    <th>0.975]</th>  \n",
       "</tr>\n",
       "<tr>\n",
       "  <th>Intercept</th>        <td>   -0.8380</td> <td>    0.060</td> <td>  -13.990</td> <td> 0.000</td> <td>   -0.955</td> <td>   -0.721</td>\n",
       "</tr>\n",
       "<tr>\n",
       "  <th>surprisal_normed</th> <td>    0.7815</td> <td>    0.030</td> <td>   26.118</td> <td> 0.000</td> <td>    0.723</td> <td>    0.840</td>\n",
       "</tr>\n",
       "<tr>\n",
       "  <th>num_sylls_est</th>    <td>   -0.7171</td> <td>    0.018</td> <td>  -39.926</td> <td> 0.000</td> <td>   -0.752</td> <td>   -0.682</td>\n",
       "</tr>\n",
       "</table>"
      ],
      "text/plain": [
       "<class 'statsmodels.iolib.summary.Summary'>\n",
       "\"\"\"\n",
       "                          Poisson Regression Results                          \n",
       "==============================================================================\n",
       "Dep. Variable:         num_homophones   No. Observations:                35107\n",
       "Model:                        Poisson   Df Residuals:                    35104\n",
       "Method:                           MLE   Df Model:                            2\n",
       "Date:                Thu, 02 Apr 2020   Pseudo R-squ.:                  0.1427\n",
       "Time:                        13:22:34   Log-Likelihood:                -16316.\n",
       "converged:                       True   LL-Null:                       -19033.\n",
       "                                        LLR p-value:                     0.000\n",
       "====================================================================================\n",
       "                       coef    std err          z      P>|z|      [0.025      0.975]\n",
       "------------------------------------------------------------------------------------\n",
       "Intercept           -0.8380      0.060    -13.990      0.000      -0.955      -0.721\n",
       "surprisal_normed     0.7815      0.030     26.118      0.000       0.723       0.840\n",
       "num_sylls_est       -0.7171      0.018    -39.926      0.000      -0.752      -0.682\n",
       "====================================================================================\n",
       "\"\"\""
      ]
     },
     "execution_count": 17,
     "metadata": {},
     "output_type": "execute_result"
    }
   ],
   "source": [
    "result_real = sm.poisson(formula=FORMULA, \n",
    "                         data=df_processed).fit(disp=0)\n",
    "result_real.summary()"
   ]
  },
  {
   "cell_type": "code",
   "execution_count": 18,
   "metadata": {
    "scrolled": false
   },
   "outputs": [
    {
     "data": {
      "text/html": [
       "<table class=\"simpletable\">\n",
       "<caption>Poisson Regression Results</caption>\n",
       "<tr>\n",
       "  <th>Dep. Variable:</th>  <td>num_homophones</td>  <th>  No. Observations:  </th>  <td> 35107</td> \n",
       "</tr>\n",
       "<tr>\n",
       "  <th>Model:</th>              <td>Poisson</td>     <th>  Df Residuals:      </th>  <td> 35104</td> \n",
       "</tr>\n",
       "<tr>\n",
       "  <th>Method:</th>               <td>MLE</td>       <th>  Df Model:          </th>  <td>     2</td> \n",
       "</tr>\n",
       "<tr>\n",
       "  <th>Date:</th>          <td>Thu, 02 Apr 2020</td> <th>  Pseudo R-squ.:     </th>  <td>0.1316</td> \n",
       "</tr>\n",
       "<tr>\n",
       "  <th>Time:</th>              <td>13:22:35</td>     <th>  Log-Likelihood:    </th> <td> -16528.</td>\n",
       "</tr>\n",
       "<tr>\n",
       "  <th>converged:</th>           <td>True</td>       <th>  LL-Null:           </th> <td> -19033.</td>\n",
       "</tr>\n",
       "<tr>\n",
       "  <th> </th>                      <td> </td>        <th>  LLR p-value:       </th>  <td> 0.000</td> \n",
       "</tr>\n",
       "</table>\n",
       "<table class=\"simpletable\">\n",
       "<tr>\n",
       "        <td></td>           <th>coef</th>     <th>std err</th>      <th>z</th>      <th>P>|z|</th>  <th>[0.025</th>    <th>0.975]</th>  \n",
       "</tr>\n",
       "<tr>\n",
       "  <th>Intercept</th>     <td>    1.3085</td> <td>    0.122</td> <td>   10.736</td> <td> 0.000</td> <td>    1.070</td> <td>    1.547</td>\n",
       "</tr>\n",
       "<tr>\n",
       "  <th>surprisal</th>     <td>   -0.2036</td> <td>    0.028</td> <td>   -7.327</td> <td> 0.000</td> <td>   -0.258</td> <td>   -0.149</td>\n",
       "</tr>\n",
       "<tr>\n",
       "  <th>num_sylls_est</th> <td>   -0.8713</td> <td>    0.019</td> <td>  -45.227</td> <td> 0.000</td> <td>   -0.909</td> <td>   -0.834</td>\n",
       "</tr>\n",
       "</table>"
      ],
      "text/plain": [
       "<class 'statsmodels.iolib.summary.Summary'>\n",
       "\"\"\"\n",
       "                          Poisson Regression Results                          \n",
       "==============================================================================\n",
       "Dep. Variable:         num_homophones   No. Observations:                35107\n",
       "Model:                        Poisson   Df Residuals:                    35104\n",
       "Method:                           MLE   Df Model:                            2\n",
       "Date:                Thu, 02 Apr 2020   Pseudo R-squ.:                  0.1316\n",
       "Time:                        13:22:35   Log-Likelihood:                -16528.\n",
       "converged:                       True   LL-Null:                       -19033.\n",
       "                                        LLR p-value:                     0.000\n",
       "=================================================================================\n",
       "                    coef    std err          z      P>|z|      [0.025      0.975]\n",
       "---------------------------------------------------------------------------------\n",
       "Intercept         1.3085      0.122     10.736      0.000       1.070       1.547\n",
       "surprisal        -0.2036      0.028     -7.327      0.000      -0.258      -0.149\n",
       "num_sylls_est    -0.8713      0.019    -45.227      0.000      -0.909      -0.834\n",
       "=================================================================================\n",
       "\"\"\""
      ]
     },
     "execution_count": 18,
     "metadata": {},
     "output_type": "execute_result"
    }
   ],
   "source": [
    "result_real = sm.poisson(formula=FORMULA2, \n",
    "                         data=df_processed).fit(disp=0)\n",
    "result_real.summary()"
   ]
  },
  {
   "cell_type": "markdown",
   "metadata": {},
   "source": [
    "### German"
   ]
  },
  {
   "cell_type": "code",
   "execution_count": 21,
   "metadata": {},
   "outputs": [],
   "source": [
    "# Here, we ignore the artificial lexica\n",
    "df_og, df_processed, _ = load_lexicons_for_language(language='german', n=5)"
   ]
  },
  {
   "cell_type": "code",
   "execution_count": 22,
   "metadata": {},
   "outputs": [
    {
     "data": {
      "text/plain": [
       "51676"
      ]
     },
     "execution_count": 22,
     "metadata": {},
     "output_type": "execute_result"
    }
   ],
   "source": [
    "len(df_og)"
   ]
  },
  {
   "cell_type": "code",
   "execution_count": 23,
   "metadata": {},
   "outputs": [
    {
     "data": {
      "text/plain": [
       "50435"
      ]
     },
     "execution_count": 23,
     "metadata": {},
     "output_type": "execute_result"
    }
   ],
   "source": [
    "len(df_processed)"
   ]
  },
  {
   "cell_type": "code",
   "execution_count": 25,
   "metadata": {},
   "outputs": [
    {
     "data": {
      "text/plain": [
       "{'homophone_percentage': 0.0229,\n",
       " 'mean_homophones': 0.0246,\n",
       " 'max_homophones': 4}"
      ]
     },
     "execution_count": 25,
     "metadata": {},
     "output_type": "execute_result"
    }
   ],
   "source": [
    "utils.get_homophone_stats(df_processed)"
   ]
  },
  {
   "cell_type": "code",
   "execution_count": 28,
   "metadata": {},
   "outputs": [],
   "source": [
    "df_processed['surprisal_normed'] = df_processed['surprisal'] / df_processed['num_phones']"
   ]
  },
  {
   "cell_type": "markdown",
   "metadata": {},
   "source": [
    "#### Main analysis"
   ]
  },
  {
   "cell_type": "code",
   "execution_count": 29,
   "metadata": {
    "scrolled": false
   },
   "outputs": [
    {
     "data": {
      "text/html": [
       "<table class=\"simpletable\">\n",
       "<caption>Poisson Regression Results</caption>\n",
       "<tr>\n",
       "  <th>Dep. Variable:</th>  <td>num_homophones</td>  <th>  No. Observations:  </th>   <td> 50435</td>  \n",
       "</tr>\n",
       "<tr>\n",
       "  <th>Model:</th>              <td>Poisson</td>     <th>  Df Residuals:      </th>   <td> 50432</td>  \n",
       "</tr>\n",
       "<tr>\n",
       "  <th>Method:</th>               <td>MLE</td>       <th>  Df Model:          </th>   <td>     2</td>  \n",
       "</tr>\n",
       "<tr>\n",
       "  <th>Date:</th>          <td>Thu, 02 Apr 2020</td> <th>  Pseudo R-squ.:     </th>   <td>0.08620</td> \n",
       "</tr>\n",
       "<tr>\n",
       "  <th>Time:</th>              <td>13:23:51</td>     <th>  Log-Likelihood:    </th>  <td> -5395.9</td> \n",
       "</tr>\n",
       "<tr>\n",
       "  <th>converged:</th>           <td>True</td>       <th>  LL-Null:           </th>  <td> -5904.9</td> \n",
       "</tr>\n",
       "<tr>\n",
       "  <th> </th>                      <td> </td>        <th>  LLR p-value:       </th> <td>8.593e-222</td>\n",
       "</tr>\n",
       "</table>\n",
       "<table class=\"simpletable\">\n",
       "<tr>\n",
       "          <td></td>            <th>coef</th>     <th>std err</th>      <th>z</th>      <th>P>|z|</th>  <th>[0.025</th>    <th>0.975]</th>  \n",
       "</tr>\n",
       "<tr>\n",
       "  <th>Intercept</th>        <td>   -2.5962</td> <td>    0.125</td> <td>  -20.831</td> <td> 0.000</td> <td>   -2.840</td> <td>   -2.352</td>\n",
       "</tr>\n",
       "<tr>\n",
       "  <th>surprisal_normed</th> <td>    0.8602</td> <td>    0.060</td> <td>   14.410</td> <td> 0.000</td> <td>    0.743</td> <td>    0.977</td>\n",
       "</tr>\n",
       "<tr>\n",
       "  <th>num_sylls_est</th>    <td>   -0.6858</td> <td>    0.035</td> <td>  -19.367</td> <td> 0.000</td> <td>   -0.755</td> <td>   -0.616</td>\n",
       "</tr>\n",
       "</table>"
      ],
      "text/plain": [
       "<class 'statsmodels.iolib.summary.Summary'>\n",
       "\"\"\"\n",
       "                          Poisson Regression Results                          \n",
       "==============================================================================\n",
       "Dep. Variable:         num_homophones   No. Observations:                50435\n",
       "Model:                        Poisson   Df Residuals:                    50432\n",
       "Method:                           MLE   Df Model:                            2\n",
       "Date:                Thu, 02 Apr 2020   Pseudo R-squ.:                 0.08620\n",
       "Time:                        13:23:51   Log-Likelihood:                -5395.9\n",
       "converged:                       True   LL-Null:                       -5904.9\n",
       "                                        LLR p-value:                8.593e-222\n",
       "====================================================================================\n",
       "                       coef    std err          z      P>|z|      [0.025      0.975]\n",
       "------------------------------------------------------------------------------------\n",
       "Intercept           -2.5962      0.125    -20.831      0.000      -2.840      -2.352\n",
       "surprisal_normed     0.8602      0.060     14.410      0.000       0.743       0.977\n",
       "num_sylls_est       -0.6858      0.035    -19.367      0.000      -0.755      -0.616\n",
       "====================================================================================\n",
       "\"\"\""
      ]
     },
     "execution_count": 29,
     "metadata": {},
     "output_type": "execute_result"
    }
   ],
   "source": [
    "result_real = sm.poisson(formula=FORMULA, \n",
    "                         data=df_processed).fit(disp=0)\n",
    "result_real.summary()"
   ]
  },
  {
   "cell_type": "code",
   "execution_count": 30,
   "metadata": {
    "scrolled": false
   },
   "outputs": [
    {
     "data": {
      "text/html": [
       "<table class=\"simpletable\">\n",
       "<caption>Poisson Regression Results</caption>\n",
       "<tr>\n",
       "  <th>Dep. Variable:</th>  <td>num_homophones</td>  <th>  No. Observations:  </th>   <td> 50435</td>  \n",
       "</tr>\n",
       "<tr>\n",
       "  <th>Model:</th>              <td>Poisson</td>     <th>  Df Residuals:      </th>   <td> 50432</td>  \n",
       "</tr>\n",
       "<tr>\n",
       "  <th>Method:</th>               <td>MLE</td>       <th>  Df Model:          </th>   <td>     2</td>  \n",
       "</tr>\n",
       "<tr>\n",
       "  <th>Date:</th>          <td>Thu, 02 Apr 2020</td> <th>  Pseudo R-squ.:     </th>   <td>0.1154</td>  \n",
       "</tr>\n",
       "<tr>\n",
       "  <th>Time:</th>              <td>13:24:16</td>     <th>  Log-Likelihood:    </th>  <td> -5223.3</td> \n",
       "</tr>\n",
       "<tr>\n",
       "  <th>converged:</th>           <td>True</td>       <th>  LL-Null:           </th>  <td> -5904.9</td> \n",
       "</tr>\n",
       "<tr>\n",
       "  <th> </th>                      <td> </td>        <th>  LLR p-value:       </th> <td>9.844e-297</td>\n",
       "</tr>\n",
       "</table>\n",
       "<table class=\"simpletable\">\n",
       "<tr>\n",
       "        <td></td>           <th>coef</th>     <th>std err</th>      <th>z</th>      <th>P>|z|</th>  <th>[0.025</th>    <th>0.975]</th>  \n",
       "</tr>\n",
       "<tr>\n",
       "  <th>Intercept</th>     <td>    2.7822</td> <td>    0.219</td> <td>   12.694</td> <td> 0.000</td> <td>    2.353</td> <td>    3.212</td>\n",
       "</tr>\n",
       "<tr>\n",
       "  <th>surprisal</th>     <td>   -0.9792</td> <td>    0.049</td> <td>  -20.126</td> <td> 0.000</td> <td>   -1.075</td> <td>   -0.884</td>\n",
       "</tr>\n",
       "<tr>\n",
       "  <th>num_sylls_est</th> <td>   -0.4050</td> <td>    0.038</td> <td>  -10.655</td> <td> 0.000</td> <td>   -0.480</td> <td>   -0.331</td>\n",
       "</tr>\n",
       "</table>"
      ],
      "text/plain": [
       "<class 'statsmodels.iolib.summary.Summary'>\n",
       "\"\"\"\n",
       "                          Poisson Regression Results                          \n",
       "==============================================================================\n",
       "Dep. Variable:         num_homophones   No. Observations:                50435\n",
       "Model:                        Poisson   Df Residuals:                    50432\n",
       "Method:                           MLE   Df Model:                            2\n",
       "Date:                Thu, 02 Apr 2020   Pseudo R-squ.:                  0.1154\n",
       "Time:                        13:24:16   Log-Likelihood:                -5223.3\n",
       "converged:                       True   LL-Null:                       -5904.9\n",
       "                                        LLR p-value:                9.844e-297\n",
       "=================================================================================\n",
       "                    coef    std err          z      P>|z|      [0.025      0.975]\n",
       "---------------------------------------------------------------------------------\n",
       "Intercept         2.7822      0.219     12.694      0.000       2.353       3.212\n",
       "surprisal        -0.9792      0.049    -20.126      0.000      -1.075      -0.884\n",
       "num_sylls_est    -0.4050      0.038    -10.655      0.000      -0.480      -0.331\n",
       "=================================================================================\n",
       "\"\"\""
      ]
     },
     "execution_count": 30,
     "metadata": {},
     "output_type": "execute_result"
    }
   ],
   "source": [
    "result_real = sm.poisson(formula=FORMULA2, \n",
    "                         data=df_processed).fit(disp=0)\n",
    "result_real.summary()"
   ]
  },
  {
   "cell_type": "markdown",
   "metadata": {},
   "source": [
    "### Dutch"
   ]
  },
  {
   "cell_type": "code",
   "execution_count": 31,
   "metadata": {},
   "outputs": [],
   "source": [
    "language = 'dutch'"
   ]
  },
  {
   "cell_type": "code",
   "execution_count": 33,
   "metadata": {},
   "outputs": [],
   "source": [
    "# Here, we ignore the artificial lexica\n",
    "df_og, df_processed, _ = load_lexicons_for_language(\"dutch\", n =5)"
   ]
  },
  {
   "cell_type": "code",
   "execution_count": 34,
   "metadata": {},
   "outputs": [
    {
     "data": {
      "text/plain": [
       "67477"
      ]
     },
     "execution_count": 34,
     "metadata": {},
     "output_type": "execute_result"
    }
   ],
   "source": [
    "len(df_og)"
   ]
  },
  {
   "cell_type": "code",
   "execution_count": 35,
   "metadata": {},
   "outputs": [
    {
     "data": {
      "text/plain": [
       "65260"
      ]
     },
     "execution_count": 35,
     "metadata": {},
     "output_type": "execute_result"
    }
   ],
   "source": [
    "len(df_processed)"
   ]
  },
  {
   "cell_type": "code",
   "execution_count": 36,
   "metadata": {},
   "outputs": [],
   "source": [
    "df_processed['surprisal_normed'] = df_processed['surprisal'] / df_processed['num_phones']"
   ]
  },
  {
   "cell_type": "markdown",
   "metadata": {},
   "source": [
    "#### Main analysis"
   ]
  },
  {
   "cell_type": "code",
   "execution_count": 37,
   "metadata": {
    "scrolled": false
   },
   "outputs": [
    {
     "data": {
      "text/html": [
       "<table class=\"simpletable\">\n",
       "<caption>Poisson Regression Results</caption>\n",
       "<tr>\n",
       "  <th>Dep. Variable:</th>  <td>num_homophones</td>  <th>  No. Observations:  </th>  <td> 65260</td> \n",
       "</tr>\n",
       "<tr>\n",
       "  <th>Model:</th>              <td>Poisson</td>     <th>  Df Residuals:      </th>  <td> 65257</td> \n",
       "</tr>\n",
       "<tr>\n",
       "  <th>Method:</th>               <td>MLE</td>       <th>  Df Model:          </th>  <td>     2</td> \n",
       "</tr>\n",
       "<tr>\n",
       "  <th>Date:</th>          <td>Thu, 02 Apr 2020</td> <th>  Pseudo R-squ.:     </th>  <td>0.1804</td> \n",
       "</tr>\n",
       "<tr>\n",
       "  <th>Time:</th>              <td>13:24:30</td>     <th>  Log-Likelihood:    </th> <td> -8168.2</td>\n",
       "</tr>\n",
       "<tr>\n",
       "  <th>converged:</th>           <td>True</td>       <th>  LL-Null:           </th> <td> -9965.9</td>\n",
       "</tr>\n",
       "<tr>\n",
       "  <th> </th>                      <td> </td>        <th>  LLR p-value:       </th>  <td> 0.000</td> \n",
       "</tr>\n",
       "</table>\n",
       "<table class=\"simpletable\">\n",
       "<tr>\n",
       "          <td></td>            <th>coef</th>     <th>std err</th>      <th>z</th>      <th>P>|z|</th>  <th>[0.025</th>    <th>0.975]</th>  \n",
       "</tr>\n",
       "<tr>\n",
       "  <th>Intercept</th>        <td>   -1.7217</td> <td>    0.088</td> <td>  -19.486</td> <td> 0.000</td> <td>   -1.895</td> <td>   -1.549</td>\n",
       "</tr>\n",
       "<tr>\n",
       "  <th>surprisal_normed</th> <td>    0.9974</td> <td>    0.036</td> <td>   28.006</td> <td> 0.000</td> <td>    0.928</td> <td>    1.067</td>\n",
       "</tr>\n",
       "<tr>\n",
       "  <th>num_sylls_est</th>    <td>   -1.1119</td> <td>    0.031</td> <td>  -35.566</td> <td> 0.000</td> <td>   -1.173</td> <td>   -1.051</td>\n",
       "</tr>\n",
       "</table>"
      ],
      "text/plain": [
       "<class 'statsmodels.iolib.summary.Summary'>\n",
       "\"\"\"\n",
       "                          Poisson Regression Results                          \n",
       "==============================================================================\n",
       "Dep. Variable:         num_homophones   No. Observations:                65260\n",
       "Model:                        Poisson   Df Residuals:                    65257\n",
       "Method:                           MLE   Df Model:                            2\n",
       "Date:                Thu, 02 Apr 2020   Pseudo R-squ.:                  0.1804\n",
       "Time:                        13:24:30   Log-Likelihood:                -8168.2\n",
       "converged:                       True   LL-Null:                       -9965.9\n",
       "                                        LLR p-value:                     0.000\n",
       "====================================================================================\n",
       "                       coef    std err          z      P>|z|      [0.025      0.975]\n",
       "------------------------------------------------------------------------------------\n",
       "Intercept           -1.7217      0.088    -19.486      0.000      -1.895      -1.549\n",
       "surprisal_normed     0.9974      0.036     28.006      0.000       0.928       1.067\n",
       "num_sylls_est       -1.1119      0.031    -35.566      0.000      -1.173      -1.051\n",
       "====================================================================================\n",
       "\"\"\""
      ]
     },
     "execution_count": 37,
     "metadata": {},
     "output_type": "execute_result"
    }
   ],
   "source": [
    "result_real = sm.poisson(formula=FORMULA, \n",
    "                         data=df_processed).fit(disp=0)\n",
    "result_real.summary()"
   ]
  },
  {
   "cell_type": "code",
   "execution_count": 38,
   "metadata": {
    "scrolled": false
   },
   "outputs": [
    {
     "data": {
      "text/html": [
       "<table class=\"simpletable\">\n",
       "<caption>Poisson Regression Results</caption>\n",
       "<tr>\n",
       "  <th>Dep. Variable:</th>  <td>num_homophones</td>  <th>  No. Observations:  </th>  <td> 65260</td> \n",
       "</tr>\n",
       "<tr>\n",
       "  <th>Model:</th>              <td>Poisson</td>     <th>  Df Residuals:      </th>  <td> 65257</td> \n",
       "</tr>\n",
       "<tr>\n",
       "  <th>Method:</th>               <td>MLE</td>       <th>  Df Model:          </th>  <td>     2</td> \n",
       "</tr>\n",
       "<tr>\n",
       "  <th>Date:</th>          <td>Thu, 02 Apr 2020</td> <th>  Pseudo R-squ.:     </th>  <td>0.1871</td> \n",
       "</tr>\n",
       "<tr>\n",
       "  <th>Time:</th>              <td>13:24:31</td>     <th>  Log-Likelihood:    </th> <td> -8101.8</td>\n",
       "</tr>\n",
       "<tr>\n",
       "  <th>converged:</th>           <td>True</td>       <th>  LL-Null:           </th> <td> -9965.9</td>\n",
       "</tr>\n",
       "<tr>\n",
       "  <th> </th>                      <td> </td>        <th>  LLR p-value:       </th>  <td> 0.000</td> \n",
       "</tr>\n",
       "</table>\n",
       "<table class=\"simpletable\">\n",
       "<tr>\n",
       "        <td></td>           <th>coef</th>     <th>std err</th>      <th>z</th>      <th>P>|z|</th>  <th>[0.025</th>    <th>0.975]</th>  \n",
       "</tr>\n",
       "<tr>\n",
       "  <th>Intercept</th>     <td>    3.2040</td> <td>    0.149</td> <td>   21.566</td> <td> 0.000</td> <td>    2.913</td> <td>    3.495</td>\n",
       "</tr>\n",
       "<tr>\n",
       "  <th>surprisal</th>     <td>   -0.7735</td> <td>    0.033</td> <td>  -23.270</td> <td> 0.000</td> <td>   -0.839</td> <td>   -0.708</td>\n",
       "</tr>\n",
       "<tr>\n",
       "  <th>num_sylls_est</th> <td>   -0.9785</td> <td>    0.034</td> <td>  -29.055</td> <td> 0.000</td> <td>   -1.045</td> <td>   -0.913</td>\n",
       "</tr>\n",
       "</table>"
      ],
      "text/plain": [
       "<class 'statsmodels.iolib.summary.Summary'>\n",
       "\"\"\"\n",
       "                          Poisson Regression Results                          \n",
       "==============================================================================\n",
       "Dep. Variable:         num_homophones   No. Observations:                65260\n",
       "Model:                        Poisson   Df Residuals:                    65257\n",
       "Method:                           MLE   Df Model:                            2\n",
       "Date:                Thu, 02 Apr 2020   Pseudo R-squ.:                  0.1871\n",
       "Time:                        13:24:31   Log-Likelihood:                -8101.8\n",
       "converged:                       True   LL-Null:                       -9965.9\n",
       "                                        LLR p-value:                     0.000\n",
       "=================================================================================\n",
       "                    coef    std err          z      P>|z|      [0.025      0.975]\n",
       "---------------------------------------------------------------------------------\n",
       "Intercept         3.2040      0.149     21.566      0.000       2.913       3.495\n",
       "surprisal        -0.7735      0.033    -23.270      0.000      -0.839      -0.708\n",
       "num_sylls_est    -0.9785      0.034    -29.055      0.000      -1.045      -0.913\n",
       "=================================================================================\n",
       "\"\"\""
      ]
     },
     "execution_count": 38,
     "metadata": {},
     "output_type": "execute_result"
    }
   ],
   "source": [
    "result_real = sm.poisson(formula=FORMULA2, \n",
    "                         data=df_processed).fit(disp=0)\n",
    "result_real.summary()"
   ]
  },
  {
   "cell_type": "markdown",
   "metadata": {},
   "source": [
    "## Extend to French and Japanese"
   ]
  },
  {
   "cell_type": "markdown",
   "metadata": {},
   "source": [
    "### French"
   ]
  },
  {
   "cell_type": "code",
   "execution_count": 39,
   "metadata": {},
   "outputs": [],
   "source": [
    "language = \"french\""
   ]
  },
  {
   "cell_type": "code",
   "execution_count": 40,
   "metadata": {},
   "outputs": [],
   "source": [
    "# Here, we ignore the artificial lexica\n",
    "df_og, df_processed, _ = load_lexicons_for_language(language,\n",
    "                                                         phon_column=config.PHON_COLUMN[language],\n",
    "                                                         word_column=config.WORD_COLUMN[language],\n",
    "                                                   n=4)"
   ]
  },
  {
   "cell_type": "code",
   "execution_count": 41,
   "metadata": {},
   "outputs": [
    {
     "data": {
      "text/plain": [
       "43782"
      ]
     },
     "execution_count": 41,
     "metadata": {},
     "output_type": "execute_result"
    }
   ],
   "source": [
    "len(df_og)"
   ]
  },
  {
   "cell_type": "code",
   "execution_count": 42,
   "metadata": {},
   "outputs": [
    {
     "data": {
      "text/plain": [
       "37278"
      ]
     },
     "execution_count": 42,
     "metadata": {},
     "output_type": "execute_result"
    }
   ],
   "source": [
    "len(df_processed)"
   ]
  },
  {
   "cell_type": "code",
   "execution_count": 44,
   "metadata": {},
   "outputs": [],
   "source": [
    "df_processed['surprisal_normed'] = df_processed['surprisal'] / df_processed['num_phones']"
   ]
  },
  {
   "cell_type": "markdown",
   "metadata": {},
   "source": [
    "#### Main analysis"
   ]
  },
  {
   "cell_type": "code",
   "execution_count": 45,
   "metadata": {
    "scrolled": false
   },
   "outputs": [
    {
     "data": {
      "text/html": [
       "<table class=\"simpletable\">\n",
       "<caption>Poisson Regression Results</caption>\n",
       "<tr>\n",
       "  <th>Dep. Variable:</th>  <td>num_homophones</td>  <th>  No. Observations:  </th>  <td> 37278</td> \n",
       "</tr>\n",
       "<tr>\n",
       "  <th>Model:</th>              <td>Poisson</td>     <th>  Df Residuals:      </th>  <td> 37275</td> \n",
       "</tr>\n",
       "<tr>\n",
       "  <th>Method:</th>               <td>MLE</td>       <th>  Df Model:          </th>  <td>     2</td> \n",
       "</tr>\n",
       "<tr>\n",
       "  <th>Date:</th>          <td>Thu, 02 Apr 2020</td> <th>  Pseudo R-squ.:     </th>  <td>0.05054</td>\n",
       "</tr>\n",
       "<tr>\n",
       "  <th>Time:</th>              <td>13:25:08</td>     <th>  Log-Likelihood:    </th> <td> -17919.</td>\n",
       "</tr>\n",
       "<tr>\n",
       "  <th>converged:</th>           <td>True</td>       <th>  LL-Null:           </th> <td> -18873.</td>\n",
       "</tr>\n",
       "<tr>\n",
       "  <th> </th>                      <td> </td>        <th>  LLR p-value:       </th>  <td> 0.000</td> \n",
       "</tr>\n",
       "</table>\n",
       "<table class=\"simpletable\">\n",
       "<tr>\n",
       "          <td></td>            <th>coef</th>     <th>std err</th>      <th>z</th>      <th>P>|z|</th>  <th>[0.025</th>    <th>0.975]</th>  \n",
       "</tr>\n",
       "<tr>\n",
       "  <th>Intercept</th>        <td>   -1.6160</td> <td>    0.069</td> <td>  -23.376</td> <td> 0.000</td> <td>   -1.751</td> <td>   -1.480</td>\n",
       "</tr>\n",
       "<tr>\n",
       "  <th>surprisal_normed</th> <td>    0.7328</td> <td>    0.036</td> <td>   20.535</td> <td> 0.000</td> <td>    0.663</td> <td>    0.803</td>\n",
       "</tr>\n",
       "<tr>\n",
       "  <th>num_sylls_est</th>    <td>   -0.3467</td> <td>    0.015</td> <td>  -23.207</td> <td> 0.000</td> <td>   -0.376</td> <td>   -0.317</td>\n",
       "</tr>\n",
       "</table>"
      ],
      "text/plain": [
       "<class 'statsmodels.iolib.summary.Summary'>\n",
       "\"\"\"\n",
       "                          Poisson Regression Results                          \n",
       "==============================================================================\n",
       "Dep. Variable:         num_homophones   No. Observations:                37278\n",
       "Model:                        Poisson   Df Residuals:                    37275\n",
       "Method:                           MLE   Df Model:                            2\n",
       "Date:                Thu, 02 Apr 2020   Pseudo R-squ.:                 0.05054\n",
       "Time:                        13:25:08   Log-Likelihood:                -17919.\n",
       "converged:                       True   LL-Null:                       -18873.\n",
       "                                        LLR p-value:                     0.000\n",
       "====================================================================================\n",
       "                       coef    std err          z      P>|z|      [0.025      0.975]\n",
       "------------------------------------------------------------------------------------\n",
       "Intercept           -1.6160      0.069    -23.376      0.000      -1.751      -1.480\n",
       "surprisal_normed     0.7328      0.036     20.535      0.000       0.663       0.803\n",
       "num_sylls_est       -0.3467      0.015    -23.207      0.000      -0.376      -0.317\n",
       "====================================================================================\n",
       "\"\"\""
      ]
     },
     "execution_count": 45,
     "metadata": {},
     "output_type": "execute_result"
    }
   ],
   "source": [
    "result_real = sm.poisson(formula=FORMULA, \n",
    "                         data=df_processed).fit(disp=0)\n",
    "result_real.summary()"
   ]
  },
  {
   "cell_type": "code",
   "execution_count": 47,
   "metadata": {
    "scrolled": false
   },
   "outputs": [
    {
     "data": {
      "text/html": [
       "<table class=\"simpletable\">\n",
       "<caption>Poisson Regression Results</caption>\n",
       "<tr>\n",
       "  <th>Dep. Variable:</th>  <td>num_homophones</td>  <th>  No. Observations:  </th>  <td> 37278</td> \n",
       "</tr>\n",
       "<tr>\n",
       "  <th>Model:</th>              <td>Poisson</td>     <th>  Df Residuals:      </th>  <td> 37275</td> \n",
       "</tr>\n",
       "<tr>\n",
       "  <th>Method:</th>               <td>MLE</td>       <th>  Df Model:          </th>  <td>     2</td> \n",
       "</tr>\n",
       "<tr>\n",
       "  <th>Date:</th>          <td>Thu, 02 Apr 2020</td> <th>  Pseudo R-squ.:     </th>  <td>0.05769</td>\n",
       "</tr>\n",
       "<tr>\n",
       "  <th>Time:</th>              <td>13:26:18</td>     <th>  Log-Likelihood:    </th> <td> -17784.</td>\n",
       "</tr>\n",
       "<tr>\n",
       "  <th>converged:</th>           <td>True</td>       <th>  LL-Null:           </th> <td> -18873.</td>\n",
       "</tr>\n",
       "<tr>\n",
       "  <th> </th>                      <td> </td>        <th>  LLR p-value:       </th>  <td> 0.000</td> \n",
       "</tr>\n",
       "</table>\n",
       "<table class=\"simpletable\">\n",
       "<tr>\n",
       "        <td></td>           <th>coef</th>     <th>std err</th>      <th>z</th>      <th>P>|z|</th>  <th>[0.025</th>    <th>0.975]</th>  \n",
       "</tr>\n",
       "<tr>\n",
       "  <th>Intercept</th>     <td>    0.8233</td> <td>    0.064</td> <td>   12.856</td> <td> 0.000</td> <td>    0.698</td> <td>    0.949</td>\n",
       "</tr>\n",
       "<tr>\n",
       "  <th>surprisal</th>     <td>   -0.3245</td> <td>    0.014</td> <td>  -23.044</td> <td> 0.000</td> <td>   -0.352</td> <td>   -0.297</td>\n",
       "</tr>\n",
       "<tr>\n",
       "  <th>num_sylls_est</th> <td>   -0.2144</td> <td>    0.017</td> <td>  -12.519</td> <td> 0.000</td> <td>   -0.248</td> <td>   -0.181</td>\n",
       "</tr>\n",
       "</table>"
      ],
      "text/plain": [
       "<class 'statsmodels.iolib.summary.Summary'>\n",
       "\"\"\"\n",
       "                          Poisson Regression Results                          \n",
       "==============================================================================\n",
       "Dep. Variable:         num_homophones   No. Observations:                37278\n",
       "Model:                        Poisson   Df Residuals:                    37275\n",
       "Method:                           MLE   Df Model:                            2\n",
       "Date:                Thu, 02 Apr 2020   Pseudo R-squ.:                 0.05769\n",
       "Time:                        13:26:18   Log-Likelihood:                -17784.\n",
       "converged:                       True   LL-Null:                       -18873.\n",
       "                                        LLR p-value:                     0.000\n",
       "=================================================================================\n",
       "                    coef    std err          z      P>|z|      [0.025      0.975]\n",
       "---------------------------------------------------------------------------------\n",
       "Intercept         0.8233      0.064     12.856      0.000       0.698       0.949\n",
       "surprisal        -0.3245      0.014    -23.044      0.000      -0.352      -0.297\n",
       "num_sylls_est    -0.2144      0.017    -12.519      0.000      -0.248      -0.181\n",
       "=================================================================================\n",
       "\"\"\""
      ]
     },
     "execution_count": 47,
     "metadata": {},
     "output_type": "execute_result"
    }
   ],
   "source": [
    "result_real = sm.poisson(formula=FORMULA2, \n",
    "                         data=df_processed).fit(disp=0)\n",
    "result_real.summary()"
   ]
  },
  {
   "cell_type": "markdown",
   "metadata": {},
   "source": [
    "### Japanese"
   ]
  },
  {
   "cell_type": "code",
   "execution_count": 48,
   "metadata": {},
   "outputs": [],
   "source": [
    "language = \"japanese\""
   ]
  },
  {
   "cell_type": "code",
   "execution_count": 49,
   "metadata": {},
   "outputs": [],
   "source": [
    "# Here, we ignore the artificial lexica\n",
    "df_og, df_processed, _ = load_lexicons_for_language(language,\n",
    "                                                         phon_column=config.PHON_COLUMN[language],\n",
    "                                                         word_column=config.WORD_COLUMN[language],\n",
    "                                                         n=4)"
   ]
  },
  {
   "cell_type": "code",
   "execution_count": 50,
   "metadata": {},
   "outputs": [
    {
     "data": {
      "text/plain": [
       "51147"
      ]
     },
     "execution_count": 50,
     "metadata": {},
     "output_type": "execute_result"
    }
   ],
   "source": [
    "len(df_og)"
   ]
  },
  {
   "cell_type": "code",
   "execution_count": 51,
   "metadata": {},
   "outputs": [
    {
     "data": {
      "text/plain": [
       "40449"
      ]
     },
     "execution_count": 51,
     "metadata": {},
     "output_type": "execute_result"
    }
   ],
   "source": [
    "len(df_processed)"
   ]
  },
  {
   "cell_type": "code",
   "execution_count": 52,
   "metadata": {},
   "outputs": [],
   "source": [
    "df_processed['surprisal_normed'] = df_processed['surprisal'] / df_processed['num_phones']"
   ]
  },
  {
   "cell_type": "markdown",
   "metadata": {},
   "source": [
    "#### Main analysis"
   ]
  },
  {
   "cell_type": "code",
   "execution_count": 53,
   "metadata": {
    "scrolled": false
   },
   "outputs": [
    {
     "data": {
      "text/html": [
       "<table class=\"simpletable\">\n",
       "<caption>Poisson Regression Results</caption>\n",
       "<tr>\n",
       "  <th>Dep. Variable:</th>  <td>num_homophones</td>  <th>  No. Observations:  </th>  <td> 40449</td> \n",
       "</tr>\n",
       "<tr>\n",
       "  <th>Model:</th>              <td>Poisson</td>     <th>  Df Residuals:      </th>  <td> 40446</td> \n",
       "</tr>\n",
       "<tr>\n",
       "  <th>Method:</th>               <td>MLE</td>       <th>  Df Model:          </th>  <td>     2</td> \n",
       "</tr>\n",
       "<tr>\n",
       "  <th>Date:</th>          <td>Thu, 02 Apr 2020</td> <th>  Pseudo R-squ.:     </th>  <td>0.2014</td> \n",
       "</tr>\n",
       "<tr>\n",
       "  <th>Time:</th>              <td>13:26:36</td>     <th>  Log-Likelihood:    </th> <td> -24212.</td>\n",
       "</tr>\n",
       "<tr>\n",
       "  <th>converged:</th>           <td>True</td>       <th>  LL-Null:           </th> <td> -30318.</td>\n",
       "</tr>\n",
       "<tr>\n",
       "  <th> </th>                      <td> </td>        <th>  LLR p-value:       </th>  <td> 0.000</td> \n",
       "</tr>\n",
       "</table>\n",
       "<table class=\"simpletable\">\n",
       "<tr>\n",
       "          <td></td>            <th>coef</th>     <th>std err</th>      <th>z</th>      <th>P>|z|</th>  <th>[0.025</th>    <th>0.975]</th>  \n",
       "</tr>\n",
       "<tr>\n",
       "  <th>Intercept</th>        <td>    2.0262</td> <td>    0.064</td> <td>   31.805</td> <td> 0.000</td> <td>    1.901</td> <td>    2.151</td>\n",
       "</tr>\n",
       "<tr>\n",
       "  <th>surprisal_normed</th> <td>    0.0004</td> <td>    0.031</td> <td>    0.013</td> <td> 0.989</td> <td>   -0.061</td> <td>    0.062</td>\n",
       "</tr>\n",
       "<tr>\n",
       "  <th>num_sylls_est</th>    <td>   -1.0054</td> <td>    0.013</td> <td>  -80.383</td> <td> 0.000</td> <td>   -1.030</td> <td>   -0.981</td>\n",
       "</tr>\n",
       "</table>"
      ],
      "text/plain": [
       "<class 'statsmodels.iolib.summary.Summary'>\n",
       "\"\"\"\n",
       "                          Poisson Regression Results                          \n",
       "==============================================================================\n",
       "Dep. Variable:         num_homophones   No. Observations:                40449\n",
       "Model:                        Poisson   Df Residuals:                    40446\n",
       "Method:                           MLE   Df Model:                            2\n",
       "Date:                Thu, 02 Apr 2020   Pseudo R-squ.:                  0.2014\n",
       "Time:                        13:26:36   Log-Likelihood:                -24212.\n",
       "converged:                       True   LL-Null:                       -30318.\n",
       "                                        LLR p-value:                     0.000\n",
       "====================================================================================\n",
       "                       coef    std err          z      P>|z|      [0.025      0.975]\n",
       "------------------------------------------------------------------------------------\n",
       "Intercept            2.0262      0.064     31.805      0.000       1.901       2.151\n",
       "surprisal_normed     0.0004      0.031      0.013      0.989      -0.061       0.062\n",
       "num_sylls_est       -1.0054      0.013    -80.383      0.000      -1.030      -0.981\n",
       "====================================================================================\n",
       "\"\"\""
      ]
     },
     "execution_count": 53,
     "metadata": {},
     "output_type": "execute_result"
    }
   ],
   "source": [
    "result_real = sm.poisson(formula=FORMULA, \n",
    "                         data=df_processed).fit(disp=0)\n",
    "result_real.summary()"
   ]
  },
  {
   "cell_type": "code",
   "execution_count": 54,
   "metadata": {
    "scrolled": false
   },
   "outputs": [
    {
     "data": {
      "text/html": [
       "<table class=\"simpletable\">\n",
       "<caption>Poisson Regression Results</caption>\n",
       "<tr>\n",
       "  <th>Dep. Variable:</th>  <td>num_homophones</td>  <th>  No. Observations:  </th>  <td> 40449</td> \n",
       "</tr>\n",
       "<tr>\n",
       "  <th>Model:</th>              <td>Poisson</td>     <th>  Df Residuals:      </th>  <td> 40446</td> \n",
       "</tr>\n",
       "<tr>\n",
       "  <th>Method:</th>               <td>MLE</td>       <th>  Df Model:          </th>  <td>     2</td> \n",
       "</tr>\n",
       "<tr>\n",
       "  <th>Date:</th>          <td>Thu, 02 Apr 2020</td> <th>  Pseudo R-squ.:     </th>  <td>0.2596</td> \n",
       "</tr>\n",
       "<tr>\n",
       "  <th>Time:</th>              <td>13:26:37</td>     <th>  Log-Likelihood:    </th> <td> -22447.</td>\n",
       "</tr>\n",
       "<tr>\n",
       "  <th>converged:</th>           <td>True</td>       <th>  LL-Null:           </th> <td> -30318.</td>\n",
       "</tr>\n",
       "<tr>\n",
       "  <th> </th>                      <td> </td>        <th>  LLR p-value:       </th>  <td> 0.000</td> \n",
       "</tr>\n",
       "</table>\n",
       "<table class=\"simpletable\">\n",
       "<tr>\n",
       "        <td></td>           <th>coef</th>     <th>std err</th>      <th>z</th>      <th>P>|z|</th>  <th>[0.025</th>    <th>0.975]</th>  \n",
       "</tr>\n",
       "<tr>\n",
       "  <th>Intercept</th>     <td>    4.3071</td> <td>    0.052</td> <td>   83.226</td> <td> 0.000</td> <td>    4.206</td> <td>    4.409</td>\n",
       "</tr>\n",
       "<tr>\n",
       "  <th>surprisal</th>     <td>   -0.8036</td> <td>    0.014</td> <td>  -57.748</td> <td> 0.000</td> <td>   -0.831</td> <td>   -0.776</td>\n",
       "</tr>\n",
       "<tr>\n",
       "  <th>num_sylls_est</th> <td>   -0.2995</td> <td>    0.016</td> <td>  -18.662</td> <td> 0.000</td> <td>   -0.331</td> <td>   -0.268</td>\n",
       "</tr>\n",
       "</table>"
      ],
      "text/plain": [
       "<class 'statsmodels.iolib.summary.Summary'>\n",
       "\"\"\"\n",
       "                          Poisson Regression Results                          \n",
       "==============================================================================\n",
       "Dep. Variable:         num_homophones   No. Observations:                40449\n",
       "Model:                        Poisson   Df Residuals:                    40446\n",
       "Method:                           MLE   Df Model:                            2\n",
       "Date:                Thu, 02 Apr 2020   Pseudo R-squ.:                  0.2596\n",
       "Time:                        13:26:37   Log-Likelihood:                -22447.\n",
       "converged:                       True   LL-Null:                       -30318.\n",
       "                                        LLR p-value:                     0.000\n",
       "=================================================================================\n",
       "                    coef    std err          z      P>|z|      [0.025      0.975]\n",
       "---------------------------------------------------------------------------------\n",
       "Intercept         4.3071      0.052     83.226      0.000       4.206       4.409\n",
       "surprisal        -0.8036      0.014    -57.748      0.000      -0.831      -0.776\n",
       "num_sylls_est    -0.2995      0.016    -18.662      0.000      -0.331      -0.268\n",
       "=================================================================================\n",
       "\"\"\""
      ]
     },
     "execution_count": 54,
     "metadata": {},
     "output_type": "execute_result"
    }
   ],
   "source": [
    "result_real = sm.poisson(formula=FORMULA2, \n",
    "                         data=df_processed).fit(disp=0)\n",
    "result_real.summary()"
   ]
  },
  {
   "cell_type": "code",
   "execution_count": null,
   "metadata": {},
   "outputs": [],
   "source": []
  },
  {
   "cell_type": "code",
   "execution_count": null,
   "metadata": {},
   "outputs": [],
   "source": []
  },
  {
   "cell_type": "code",
   "execution_count": null,
   "metadata": {},
   "outputs": [],
   "source": []
  }
 ],
 "metadata": {
  "kernelspec": {
   "display_name": "Python 3",
   "language": "python",
   "name": "python3"
  },
  "language_info": {
   "codemirror_mode": {
    "name": "ipython",
    "version": 3
   },
   "file_extension": ".py",
   "mimetype": "text/x-python",
   "name": "python",
   "nbconvert_exporter": "python",
   "pygments_lexer": "ipython3",
   "version": "3.7.1"
  }
 },
 "nbformat": 4,
 "nbformat_minor": 2
}
